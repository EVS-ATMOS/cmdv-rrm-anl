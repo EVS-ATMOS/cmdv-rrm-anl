{
 "cells": [
  {
   "cell_type": "code",
   "execution_count": 41,
   "metadata": {},
   "outputs": [
    {
     "name": "stdout",
     "output_type": "stream",
     "text": [
      "Populating the interactive namespace from numpy and matplotlib\n"
     ]
    },
    {
     "name": "stderr",
     "output_type": "stream",
     "text": [
      "/blues/gpfs/home/rjackson/anaconda3/envs/yt_devel/lib/python3.6/site-packages/ipython-6.5.0-py3.6.egg/IPython/core/magics/pylab.py:160: UserWarning: pylab import has clobbered these variables: ['datetime']\n",
      "`%matplotlib` prevents importing * from pylab and numpy\n",
      "  \"\\n`%matplotlib` prevents importing * from pylab and numpy\"\n"
     ]
    }
   ],
   "source": [
    "from pyhdf.SD import SD, SDC, SDS\n",
    "from pyhdf.HDF import *\n",
    "from pyhdf.VS import *\n",
    "import pyart\n",
    "import glob\n",
    "import xarray\n",
    "from scipy import interpolate\n",
    "from dask import bag as db\n",
    "from netCDF4 import Dataset\n",
    "from scipy import ndimage\n",
    "from matplotlib.collections import LineCollection\n",
    "from datetime import datetime, timedelta\n",
    "%pylab inline"
   ]
  },
  {
   "cell_type": "code",
   "execution_count": 4,
   "metadata": {},
   "outputs": [],
   "source": [
    "file_path = '/lcrc/group/earthscience/rjackson/cloudsat/2007063042216_04512_CS_2B-GEOPROF_GRANULE_P_R04_E02.hdf'\n",
    "cpol_file_path = '/lcrc/group/earthscience/rjackson/echo_tops/echo_tops_70km_1000m/2007/20070304/echo_tops_200703040500.cdf'"
   ]
  },
  {
   "cell_type": "code",
   "execution_count": 5,
   "metadata": {},
   "outputs": [
    {
     "ename": "HDF4Error",
     "evalue": "close (42): There are still active AIDs",
     "output_type": "error",
     "traceback": [
      "\u001b[0;31m---------------------------------------------------------------------------\u001b[0m",
      "\u001b[0;31mHDF4Error\u001b[0m                                 Traceback (most recent call last)",
      "\u001b[0;32m<ipython-input-5-aa86b07c902b>\u001b[0m in \u001b[0;36m<module>\u001b[0;34m()\u001b[0m\n\u001b[1;32m     16\u001b[0m \u001b[0;34m\u001b[0m\u001b[0m\n\u001b[1;32m     17\u001b[0m \u001b[0mvs\u001b[0m\u001b[0;34m.\u001b[0m\u001b[0mend\u001b[0m\u001b[0;34m(\u001b[0m\u001b[0;34m)\u001b[0m \u001b[0;31m# terminate the vdata interface\u001b[0m\u001b[0;34m\u001b[0m\u001b[0m\n\u001b[0;32m---> 18\u001b[0;31m \u001b[0mf\u001b[0m\u001b[0;34m.\u001b[0m\u001b[0mclose\u001b[0m\u001b[0;34m(\u001b[0m\u001b[0;34m)\u001b[0m\u001b[0;34m\u001b[0m\u001b[0m\n\u001b[0m",
      "\u001b[0;32m~/anaconda3/lib/python3.6/site-packages/pyhdf/HDF.py\u001b[0m in \u001b[0;36mclose\u001b[0;34m(self)\u001b[0m\n\u001b[1;32m    240\u001b[0m                                                 \"\"\"\n\u001b[1;32m    241\u001b[0m \u001b[0;34m\u001b[0m\u001b[0m\n\u001b[0;32m--> 242\u001b[0;31m         \u001b[0m_checkErr\u001b[0m\u001b[0;34m(\u001b[0m\u001b[0;34m'close'\u001b[0m\u001b[0;34m,\u001b[0m \u001b[0m_C\u001b[0m\u001b[0;34m.\u001b[0m\u001b[0mHclose\u001b[0m\u001b[0;34m(\u001b[0m\u001b[0mself\u001b[0m\u001b[0;34m.\u001b[0m\u001b[0m_id\u001b[0m\u001b[0;34m)\u001b[0m\u001b[0;34m,\u001b[0m \u001b[0;34m\"cannot close file\"\u001b[0m\u001b[0;34m)\u001b[0m\u001b[0;34m\u001b[0m\u001b[0m\n\u001b[0m\u001b[1;32m    243\u001b[0m         \u001b[0mself\u001b[0m\u001b[0;34m.\u001b[0m\u001b[0m_id\u001b[0m \u001b[0;34m=\u001b[0m \u001b[0;32mNone\u001b[0m\u001b[0;34m\u001b[0m\u001b[0m\n\u001b[1;32m    244\u001b[0m \u001b[0;34m\u001b[0m\u001b[0m\n",
      "\u001b[0;32m~/anaconda3/lib/python3.6/site-packages/pyhdf/error.py\u001b[0m in \u001b[0;36m_checkErr\u001b[0;34m(procName, val, msg)\u001b[0m\n\u001b[1;32m     21\u001b[0m         \u001b[0;32melse\u001b[0m\u001b[0;34m:\u001b[0m\u001b[0;34m\u001b[0m\u001b[0m\n\u001b[1;32m     22\u001b[0m             \u001b[0merr\u001b[0m \u001b[0;34m=\u001b[0m \u001b[0;34m\"%s : %s\"\u001b[0m \u001b[0;34m%\u001b[0m \u001b[0;34m(\u001b[0m\u001b[0mprocName\u001b[0m\u001b[0;34m,\u001b[0m \u001b[0mmsg\u001b[0m\u001b[0;34m)\u001b[0m\u001b[0;34m\u001b[0m\u001b[0m\n\u001b[0;32m---> 23\u001b[0;31m         \u001b[0;32mraise\u001b[0m \u001b[0mHDF4Error\u001b[0m\u001b[0;34m(\u001b[0m\u001b[0merr\u001b[0m\u001b[0;34m)\u001b[0m\u001b[0;34m\u001b[0m\u001b[0m\n\u001b[0m",
      "\u001b[0;31mHDF4Error\u001b[0m: close (42): There are still active AIDs"
     ]
    }
   ],
   "source": [
    "f = HDF(path=file_path, mode=SDC.READ)\n",
    "vs = f.vstart()\n",
    "vdata_lat = vs.attach('Latitude')\n",
    "vdata_long = vs.attach('Longitude')\n",
    "time = vs.attach('Profile_time')\n",
    "UTC_start = vs.attach('UTC_start')\n",
    "TAI_start = vs.attach('TAI_start')\n",
    "cpr_echo_top = vs.attach('CPR_Echo_Top')\n",
    "lat = np.array(vdata_lat[:])\n",
    "lon = np.array(vdata_long[:])\n",
    "time = time[:]\n",
    "cpr_echo_top = cpr_echo_top[:]\n",
    "TAI_start = TAI_start[:]\n",
    "UTC_start = UTC_start[:]\n",
    "data_info_list = vs.vdatainfo()\n",
    "\n",
    "vs.end() # terminate the vdata interface\n",
    "f.close()\n"
   ]
  },
  {
   "cell_type": "code",
   "execution_count": null,
   "metadata": {},
   "outputs": [],
   "source": [
    "dset = SD(path=file_path, mode=SDC.READ)\n",
    "datasets_dic = dset.datasets()\n",
    "print(dset.datasets())\n",
    "ref = dset.select('Radar_Reflectivity')\n",
    "mask = dset.select('CPR_Cloud_mask')\n",
    "mask = mask.get()\n",
    "height = dset.select('Height')\n",
    "height = height.get()\n",
    "attr_dict = ref.attributes()\n",
    "ref_array = ref.get()\n",
    "min_valid = attr_dict['valid_range'][0]\n",
    "max_valid = attr_dict['valid_range'][1]\n",
    "ref_array = np.ma.masked_where(np.logical_or.reduce((ref_array <= min_valid, ref_array >= max_valid, mask < 25)), ref_array)"
   ]
  },
  {
   "cell_type": "code",
   "execution_count": null,
   "metadata": {},
   "outputs": [],
   "source": [
    "print(lat.shape)\n",
    "print(dset.datasets().keys())"
   ]
  },
  {
   "cell_type": "code",
   "execution_count": null,
   "metadata": {},
   "outputs": [],
   "source": [
    "array_shape = height.shape\n",
    "#cloud_top = np.zeros(array_shape[0])\n",
    "y_values, x_values = np.meshgrid(range(0, array_shape[0]), range(0, array_shape[1]), indexing='ij')\n",
    "labels = y_values\n",
    "\n",
    "height_masked = np.ma.masked_where(ref_array.mask == True, height)\n",
    "cloud_top = np.ma.max(height_masked, axis=1, fill_value=-9999.0)\n",
    "print(cloud_top)\n",
    "any_cloud = np.any(mask > 25, axis=1)\n",
    "last_cloud = mask[:,-1] > 25\n",
    "geographical_region = np.squeeze(np.logical_and.reduce((lat > -13.25, lat < -11.25, lon > 130, lon < 132)))\n",
    "print(np.logical_or(any_cloud == False, geographical_region.T == False))\n",
    "#cloud_top = np.ma.masked_where(np.logical_or(any_cloud == False, geographical_region == False), cloud_top)\n",
    "plt.plot(cloud_top)"
   ]
  },
  {
   "cell_type": "code",
   "execution_count": null,
   "metadata": {},
   "outputs": [],
   "source": [
    "new_ref = ref_array[~np.logical_or(any_cloud == False, geographical_region == False), :].T/100.0\n",
    "new_h = height[~np.logical_or(any_cloud == False, geographical_region == False), :].T\n",
    "new_lon = lon[~np.logical_or(any_cloud == False, geographical_region == False)]\n",
    "new_lat = lon[~np.logical_or(any_cloud == False, geographical_region == False)]\n",
    "new_ctop = cloud_top[~np.logical_or(any_cloud == False, geographical_region == False)]\n",
    "lon_tile = np.tile(new_lon, [1, new_ref.shape[0]])\n",
    "plt.pcolormesh(lon_tile.T, new_h, new_ref, cmap='pyart_HomeyerRainbow')\n",
    "plt.plot(new_lon, new_ctop, linewidth=3, color='k')\n",
    "plt.colorbar(label='Reflectivity')"
   ]
  },
  {
   "cell_type": "code",
   "execution_count": null,
   "metadata": {},
   "outputs": [],
   "source": [
    "print(int(TAI_start[0][0]))\n",
    "python_times = timedelta(seconds=int(TAI_start[0][0])) + np.array([datetime.datetime(1993,1,1) +timedelta(seconds=x[0]) for x in time])\n",
    "print(python_times[~np.logical_or(any_cloud == False, geographical_region == False)])"
   ]
  },
  {
   "cell_type": "code",
   "execution_count": null,
   "metadata": {},
   "outputs": [],
   "source": [
    "echo_top_dset = Dataset(cpol_file_path)\n",
    "lat_echo = echo_top_dset.variables['lat'][:,:]\n",
    "lon_echo = echo_top_dset.variables['lon'][:,:]\n",
    "eth = echo_top_dset.variables['ETH'][:,:]\n",
    "\n",
    "lat1d = lat_echo[:,1]\n",
    "lon1d = lon_echo[1,:]\n",
    "eth_cpol = np.zeros(new_ctop.shape)\n",
    "for i in range(len(new_lon)):\n",
    "    j_ind = np.argmin(np.abs(new_lon[i]-lon1d))\n",
    "    i_ind = np.argmin(np.abs(new_lat[i]-lat1d))\n",
    "    eth_cpol[i] = eth[i_ind, j_ind]\n",
    "cloud_sat_data_mask = ~np.logical_or(any_cloud == False, geographical_region == False)\n",
    "plt.pcolormesh(lon_echo, lat_echo, eth)\n",
    "plt.colorbar(label='ETH [m]')\n",
    "plt.scatter(lon[cloud_sat_data_mask], lat[cloud_sat_data_mask])"
   ]
  },
  {
   "cell_type": "code",
   "execution_count": null,
   "metadata": {},
   "outputs": [],
   "source": [
    "plt.scatter(eth_cpol/1e3, new_ctop/1e3)\n",
    "plt.ylabel('CloudSat ETH [km]')\n",
    "plt.xlabel('CPOL ETH [km]')\n",
    "plt.xlim([0, 20])\n",
    "plt.ylim([0, 20])\n",
    "plt.plot([0, 20], [0, 20], color='k')"
   ]
  },
  {
   "cell_type": "code",
   "execution_count": 75,
   "metadata": {},
   "outputs": [],
   "source": [
    "def get_eth_cloudsat_and_cpol(file):\n",
    "    #try:\n",
    "    f = HDF(path=file, mode=SDC.READ)\n",
    "    vs = f.vstart()\n",
    "    vdata_lat = vs.attach('Latitude')\n",
    "    vdata_long = vs.attach('Longitude')\n",
    "    time = vs.attach('Profile_time')\n",
    "    UTC_start = vs.attach('UTC_start')\n",
    "    TAI_start = vs.attach('TAI_start')\n",
    "    lat = np.array(vdata_lat[:])\n",
    "    lon = np.array(vdata_long[:])\n",
    "    time = time[:]\n",
    "    TAI_start = TAI_start[:]\n",
    "    UTC_start = UTC_start[:]\n",
    "    data_info_list = vs.vdatainfo()\n",
    "        \n",
    "\n",
    "    vs.end() # terminate the vdata interface\n",
    "    #f.close()\n",
    "    #except:\n",
    "    #    return [], []\n",
    "    # Load SDS datasets\n",
    "    dset = SD(path=file, mode=SDC.READ)\n",
    "    datasets_dic = dset.datasets()\n",
    "    ref = dset.select('Radar_Reflectivity')\n",
    "    mask = dset.select('CPR_Cloud_mask')\n",
    "    mask = mask.get()\n",
    "    height = dset.select('Height')\n",
    "    height = height.get()\n",
    "    attr_dict = ref.attributes()\n",
    "    ref_array = ref.get()\n",
    "    min_valid = -5000.0\n",
    "    max_valid = 6000.0\n",
    "    ref_array = np.ma.masked_where(np.logical_or.reduce((ref_array <= min_valid, ref_array >= max_valid, mask < 25)), ref_array)\n",
    "    \n",
    "    # Get cloud top heights assuming \"good echoes\"\n",
    "    array_shape = height.shape\n",
    "    #cloud_top = np.zeros(array_shape[0])\n",
    "    y_values, x_values = np.meshgrid(range(0, array_shape[0]), range(0, array_shape[1]), indexing='ij')\n",
    "    labels = y_values\n",
    "\n",
    "    height_masked = np.ma.masked_where(ref_array.mask == True, height)\n",
    "    cloud_top = np.ma.max(height_masked, axis=1, fill_value=-9999.0)\n",
    "\n",
    "    any_cloud = np.any(mask > 25, axis=1)\n",
    "    last_cloud = mask[:,-1] > 25\n",
    "    geographical_region = np.squeeze(np.logical_and.reduce((lat > -13.25, lat < -11.25, lon > 130, lon < 132)))\n",
    "\n",
    "    new_ref = ref_array[~np.logical_or(any_cloud == False, geographical_region == False), :].T/100.0\n",
    "    new_h = height[~np.logical_or(any_cloud == False, geographical_region == False), :].T\n",
    "    new_lon = lon[~np.logical_or(any_cloud == False, geographical_region == False)]\n",
    "    new_lat = lon[~np.logical_or(any_cloud == False, geographical_region == False)]\n",
    "    new_ctop = cloud_top[~np.logical_or(any_cloud == False, geographical_region == False)]\n",
    "    \n",
    "    # Now we get the closest CPOL scan\n",
    "    python_times = timedelta(seconds=int(TAI_start[0][0])) + np.array([datetime.datetime(1993,1,1) +timedelta(seconds=x[0]) for x in time])\n",
    "    try:\n",
    "        the_time = python_times[~np.logical_or(any_cloud == False, geographical_region == False)][0]\n",
    "    except IndexError:\n",
    "        return np.ma.array(np.nan), np.ma.array(np.nan)\n",
    "    \n",
    "    year = '%4d' % the_time.year\n",
    "    month = '%02d' % the_time.month\n",
    "    day = '%02d' % the_time.day\n",
    "    hour = '%02d' % the_time.hour\n",
    "    minute = '%02d' % the_time.minute\n",
    "    print(the_time)\n",
    "    \n",
    "    cpol_eth_file = ('/lcrc/group/earthscience/rjackson/echo_tops/echo_tops_70km_1000m_ref/' + \n",
    "                     year + '/' + year + month + day + '/' + 'echo_tops_' + year + month + \n",
    "                     day + hour + minute[0] + '0.cdf')\n",
    "    echo_top_dset = Dataset(cpol_file_path)\n",
    "    lat_echo = echo_top_dset.variables['lat'][:,:]\n",
    "    lon_echo = echo_top_dset.variables['lon'][:,:]\n",
    "    eth = echo_top_dset.variables['ETH'][:,:]\n",
    "\n",
    "    lat1d = lat_echo[:,1]\n",
    "    lon1d = lon_echo[1,:]\n",
    "    eth_cpol = np.zeros(new_ctop.shape)\n",
    "    for i in range(len(new_lon)):\n",
    "        j_ind = np.argmin(np.abs(new_lon[i]-lon1d))\n",
    "        i_ind = np.argmin(np.abs(new_lat[i]-lat1d))\n",
    "        eth_cpol[i] = eth[i_ind, j_ind]\n",
    "    return new_ctop, eth_cpol\n"
   ]
  },
  {
   "cell_type": "code",
   "execution_count": 80,
   "metadata": {},
   "outputs": [
    {
     "name": "stdout",
     "output_type": "stream",
     "text": [
      "Loading /lcrc/group/earthscience/rjackson/cloudsat/2016008042414_51583_CS_2B-GEOPROF_GRANULE_P_R04_E06.hdf\n",
      "2016-01-08 05:10:14.040039\n"
     ]
    },
    {
     "name": "stderr",
     "output_type": "stream",
     "text": [
      "/blues/gpfs/home/rjackson/anaconda3/envs/yt_devel/lib/python3.6/site-packages/ipykernel_launcher.py:83: UserWarning: Warning: converting a masked element to nan.\n"
     ]
    },
    {
     "name": "stdout",
     "output_type": "stream",
     "text": [
      "Loading /lcrc/group/earthscience/rjackson/cloudsat/2009340042434_19191_CS_2B-GEOPROF_GRANULE_P_R04_E02.hdf\n",
      "2009-12-06 05:10:59.718994\n",
      "Loading /lcrc/group/earthscience/rjackson/cloudsat/2015365164548_51474_CS_2B-GEOPROF_GRANULE_P_R04_E06.hdf\n",
      "Loading /lcrc/group/earthscience/rjackson/cloudsat/2010031164552_20014_CS_2B-GEOPROF_GRANULE_P_R04_E03.hdf\n",
      "Loading /lcrc/group/earthscience/rjackson/cloudsat/2007014164932_03806_CS_2B-GEOPROF_GRANULE_P_R04_E02.hdf\n",
      "2007-01-14 16:52:44.240005\n",
      "Loading /lcrc/group/earthscience/rjackson/cloudsat/2012075164306_31289_CS_2B-GEOPROF_GRANULE_P_R04_E05.hdf\n",
      "Loading /lcrc/group/earthscience/rjackson/cloudsat/2015125164643_47979_CS_2B-GEOPROF_GRANULE_P_R04_E06.hdf\n",
      "Loading /lcrc/group/earthscience/rjackson/cloudsat/2015085042448_47389_CS_2B-GEOPROF_GRANULE_P_R04_E06.hdf\n",
      "2015-03-26 05:10:47.800049\n",
      "Loading /lcrc/group/earthscience/rjackson/cloudsat/2010343042216_24550_CS_2B-GEOPROF_GRANULE_P_R04_E03.hdf\n",
      "2010-12-09 05:08:15.159912\n",
      "Loading /lcrc/group/earthscience/rjackson/cloudsat/2007119164352_05335_CS_2B-GEOPROF_GRANULE_P_R04_E02.hdf\n",
      "Loading /lcrc/group/earthscience/rjackson/cloudsat/2012088041912_31471_CS_2B-GEOPROF_GRANULE_P_R04_E05.hdf\n",
      "2012-03-28 05:05:38.438965\n",
      "Loading /lcrc/group/earthscience/rjackson/cloudsat/2012031042124_30640_CS_2B-GEOPROF_GRANULE_P_R04_E05.hdf\n",
      "2012-01-31 05:07:18.800049\n",
      "Loading /lcrc/group/earthscience/rjackson/cloudsat/2010358165008_24776_CS_2B-GEOPROF_GRANULE_P_R04_E03.hdf\n",
      "2010-12-24 16:53:23.639999\n",
      "Loading /lcrc/group/earthscience/rjackson/cloudsat/2015069042509_47156_CS_2B-GEOPROF_GRANULE_P_R04_E06.hdf\n",
      "2015-03-10 05:11:08.839966\n",
      "Loading /lcrc/group/earthscience/rjackson/cloudsat/2010063164551_20480_CS_2B-GEOPROF_GRANULE_P_R04_E03.hdf\n",
      "Loading /lcrc/group/earthscience/rjackson/cloudsat/2015093164627_47513_CS_2B-GEOPROF_GRANULE_P_R04_E06.hdf\n",
      "Loading /lcrc/group/earthscience/rjackson/cloudsat/2015110041856_47753_CS_2B-GEOPROF_GRANULE_P_R04_E06.hdf\n",
      "Loading /lcrc/group/earthscience/rjackson/cloudsat/2007110165003_05204_CS_2B-GEOPROF_GRANULE_P_R04_E02.hdf\n",
      "2007-04-20 16:53:15.878998\n",
      "Loading /lcrc/group/earthscience/rjackson/cloudsat/2015030041841_46588_CS_2B-GEOPROF_GRANULE_P_R04_E06.hdf\n",
      "Loading /lcrc/group/earthscience/rjackson/cloudsat/2012116164351_31887_CS_2B-GEOPROF_GRANULE_P_R04_E05.hdf\n",
      "Loading /lcrc/group/earthscience/rjackson/cloudsat/2007088041607_04876_CS_2B-GEOPROF_GRANULE_P_R04_E02.hdf\n",
      "Loading /lcrc/group/earthscience/rjackson/cloudsat/2013046165228_36198_CS_2B-GEOPROF_GRANULE_P_R04_E06.hdf\n",
      "Loading /lcrc/group/earthscience/rjackson/cloudsat/2015078041852_47287_CS_2B-GEOPROF_GRANULE_P_R04_E06.hdf\n",
      "Loading /lcrc/group/earthscience/rjackson/cloudsat/2014114042444_42496_CS_2B-GEOPROF_GRANULE_P_R04_E06.hdf\n",
      "2014-04-24 05:10:43.080017\n",
      "Loading /lcrc/group/earthscience/rjackson/cloudsat/2014066042452_41797_CS_2B-GEOPROF_GRANULE_P_R04_E06.hdf\n",
      "2014-03-07 05:10:51.720947\n",
      "Loading /lcrc/group/earthscience/rjackson/cloudsat/2016048164551_52173_CS_2B-GEOPROF_GRANULE_P_R04_E06.hdf\n",
      "Loading /lcrc/group/earthscience/rjackson/cloudsat/2012104165319_31712_CS_2B-GEOPROF_GRANULE_P_R04_E05.hdf\n",
      "Loading /lcrc/group/earthscience/rjackson/cloudsat/2016119165216_53207_CS_2B-GEOPROF_GRANULE_P_R04_E06.hdf\n",
      "Loading /lcrc/group/earthscience/rjackson/cloudsat/2012087164749_31464_CS_2B-GEOPROF_GRANULE_P_R04_E05.hdf\n",
      "Loading /lcrc/group/earthscience/rjackson/cloudsat/2014098042446_42263_CS_2B-GEOPROF_GRANULE_P_R04_E06.hdf\n",
      "2014-04-08 05:10:45.479980\n",
      "Loading /lcrc/group/earthscience/rjackson/cloudsat/2011090042219_26181_CS_2B-GEOPROF_GRANULE_P_R04_E04.hdf\n",
      "2011-03-31 05:08:17.679932\n",
      "Loading /lcrc/group/earthscience/rjackson/cloudsat/2006340164326_03238_CS_2B-GEOPROF_GRANULE_P_R04_E02.hdf\n",
      "Loading /lcrc/group/earthscience/rjackson/cloudsat/2013007164550_35630_CS_2B-GEOPROF_GRANULE_P_R04_E06.hdf\n",
      "Loading /lcrc/group/earthscience/rjackson/cloudsat/2014026164628_41222_CS_2B-GEOPROF_GRANULE_P_R04_E06.hdf\n",
      "Loading /lcrc/group/earthscience/rjackson/cloudsat/2015101042449_47622_CS_2B-GEOPROF_GRANULE_P_R04_E06.hdf\n",
      "2015-04-11 05:10:54.599976\n",
      "Loading /lcrc/group/earthscience/rjackson/cloudsat/2012133165040_32135_CS_2B-GEOPROF_GRANULE_P_R04_E05.hdf\n",
      "Loading /lcrc/group/earthscience/rjackson/cloudsat/2015005042435_46224_CS_2B-GEOPROF_GRANULE_P_R04_E06.hdf\n",
      "2015-01-05 05:10:34.520020\n",
      "Loading /lcrc/group/earthscience/rjackson/cloudsat/2007127042216_05444_CS_2B-GEOPROF_GRANULE_P_R04_E02.hdf\n",
      "2007-05-07 05:08:13.520020\n",
      "Loading /lcrc/group/earthscience/rjackson/cloudsat/2013328041759_40297_CS_2B-GEOPROF_GRANULE_P_R04_E06.hdf\n",
      "Loading /lcrc/group/earthscience/rjackson/cloudsat/2013104041846_37035_CS_2B-GEOPROF_GRANULE_P_R04_E06.hdf\n",
      "Loading /lcrc/group/earthscience/rjackson/cloudsat/2016007165202_51576_CS_2B-GEOPROF_GRANULE_P_R04_E06.hdf\n",
      "Loading /lcrc/group/earthscience/rjackson/cloudsat/2007039164342_04170_CS_2B-GEOPROF_GRANULE_P_R04_E02.hdf\n",
      "Loading /lcrc/group/earthscience/rjackson/cloudsat/2013030165212_35965_CS_2B-GEOPROF_GRANULE_P_R04_E06.hdf\n",
      "Loading /lcrc/group/earthscience/rjackson/cloudsat/2013023164554_35863_CS_2B-GEOPROF_GRANULE_P_R04_E06.hdf\n",
      "Loading /lcrc/group/earthscience/rjackson/cloudsat/2015068165257_47149_CS_2B-GEOPROF_GRANULE_P_R04_E06.hdf\n",
      "Loading /lcrc/group/earthscience/rjackson/cloudsat/2014107041840_42394_CS_2B-GEOPROF_GRANULE_P_R04_E06.hdf\n",
      "Loading /lcrc/group/earthscience/rjackson/cloudsat/2011066164358_25839_CS_2B-GEOPROF_GRANULE_P_R04_E04.hdf\n",
      "Loading /lcrc/group/earthscience/rjackson/cloudsat/2012105042409_31719_CS_2B-GEOPROF_GRANULE_P_R04_E05.hdf\n",
      "2012-04-14 05:10:08.041016\n",
      "Loading /lcrc/group/earthscience/rjackson/cloudsat/2014346164608_45882_CS_2B-GEOPROF_GRANULE_P_R04_E06.hdf\n",
      "Loading /lcrc/group/earthscience/rjackson/cloudsat/2013055164621_36329_CS_2B-GEOPROF_GRANULE_P_R04_E06.hdf\n",
      "Loading /lcrc/group/earthscience/rjackson/cloudsat/2014017165224_41091_CS_2B-GEOPROF_GRANULE_P_R04_E06.hdf\n",
      "Loading /lcrc/group/earthscience/rjackson/cloudsat/2010048041758_20254_CS_2B-GEOPROF_GRANULE_P_R04_E03.hdf\n",
      "Loading /lcrc/group/earthscience/rjackson/cloudsat/2015356165152_51343_CS_2B-GEOPROF_GRANULE_P_R04_E06.hdf\n",
      "Loading /lcrc/group/earthscience/rjackson/cloudsat/2007030164945_04039_CS_2B-GEOPROF_GRANULE_P_R04_E02.hdf\n",
      "2007-01-30 16:52:57.240005\n",
      "Loading /lcrc/group/earthscience/rjackson/cloudsat/2014033165239_41324_CS_2B-GEOPROF_GRANULE_P_R04_E06.hdf\n",
      "Loading /lcrc/group/earthscience/rjackson/cloudsat/2012068164832_31187_CS_2B-GEOPROF_GRANULE_P_R04_E05.hdf\n",
      "Loading /lcrc/group/earthscience/rjackson/cloudsat/2012358041747_35404_CS_2B-GEOPROF_GRANULE_P_R04_E06.hdf\n",
      "Loading /lcrc/group/earthscience/rjackson/cloudsat/2010079164545_20713_CS_2B-GEOPROF_GRANULE_P_R04_E03.hdf\n",
      "Loading /lcrc/group/earthscience/rjackson/cloudsat/2013094165236_36897_CS_2B-GEOPROF_GRANULE_P_R04_E06.hdf\n",
      "Loading /lcrc/group/earthscience/rjackson/cloudsat/2010032041803_20021_CS_2B-GEOPROF_GRANULE_P_R04_E03.hdf\n",
      "Loading /lcrc/group/earthscience/rjackson/cloudsat/2014122164624_42620_CS_2B-GEOPROF_GRANULE_P_R04_E06.hdf\n",
      "Loading /lcrc/group/earthscience/rjackson/cloudsat/2013062165234_36431_CS_2B-GEOPROF_GRANULE_P_R04_E06.hdf\n",
      "Loading /lcrc/group/earthscience/rjackson/cloudsat/2010023042421_19890_CS_2B-GEOPROF_GRANULE_P_R04_E03.hdf\n",
      "2010-01-23 05:10:19.678955\n",
      "Loading /lcrc/group/earthscience/rjackson/cloudsat/2007024041539_03944_CS_2B-GEOPROF_GRANULE_P_R04_E02.hdf\n",
      "Loading /lcrc/group/earthscience/rjackson/cloudsat/2006348042152_03347_CS_2B-GEOPROF_GRANULE_P_R04_E02.hdf\n",
      "2006-12-14 05:07:58.159912\n",
      "Loading /lcrc/group/earthscience/rjackson/cloudsat/2007094165006_04971_CS_2B-GEOPROF_GRANULE_P_R04_E02.hdf\n",
      "2007-04-04 16:53:20.800003\n",
      "Loading /lcrc/group/earthscience/rjackson/cloudsat/2015340165148_51110_CS_2B-GEOPROF_GRANULE_P_R04_E06.hdf\n",
      "Loading /lcrc/group/earthscience/rjackson/cloudsat/2006363164938_03573_CS_2B-GEOPROF_GRANULE_P_R04_E02.hdf\n",
      "2006-12-29 16:52:50.240005\n",
      "Loading /lcrc/group/earthscience/rjackson/cloudsat/2011057165007_25708_CS_2B-GEOPROF_GRANULE_P_R04_E04.hdf\n",
      "2011-02-26 16:53:20.240005\n",
      "Loading /lcrc/group/earthscience/rjackson/cloudsat/2012333042403_35040_CS_2B-GEOPROF_GRANULE_P_R04_E06.hdf\n",
      "2012-11-28 05:10:27.359985\n",
      "Loading /lcrc/group/earthscience/rjackson/cloudsat/2011058042219_25715_CS_2B-GEOPROF_GRANULE_P_R04_E04.hdf\n",
      "2011-02-27 05:08:17.679932\n",
      "Loading /lcrc/group/earthscience/rjackson/cloudsat/2007031042157_04046_CS_2B-GEOPROF_GRANULE_P_R04_E02.hdf\n"
     ]
    },
    {
     "name": "stdout",
     "output_type": "stream",
     "text": [
      "2007-01-31 05:07:55.159912\n",
      "Loading /lcrc/group/earthscience/rjackson/cloudsat/2010096041747_20953_CS_2B-GEOPROF_GRANULE_P_R04_E03.hdf\n",
      "Loading /lcrc/group/earthscience/rjackson/cloudsat/2007071164356_04636_CS_2B-GEOPROF_GRANULE_P_R04_E02.hdf\n",
      "Loading /lcrc/group/earthscience/rjackson/cloudsat/2013360041813_40763_CS_2B-GEOPROF_GRANULE_P_R04_E06.hdf\n",
      "Loading /lcrc/group/earthscience/rjackson/cloudsat/2014354042438_45991_CS_2B-GEOPROF_GRANULE_P_R04_E06.hdf\n",
      "2014-12-20 05:10:45.838989\n",
      "Loading /lcrc/group/earthscience/rjackson/cloudsat/2006172042034_00784_CS_2B-GEOPROF_GRANULE_P_R04_E00.hdf\n",
      "2006-06-21 05:06:46.879883\n",
      "Loading /lcrc/group/earthscience/rjackson/cloudsat/2012030165000_30633_CS_2B-GEOPROF_GRANULE_P_R04_E05.hdf\n",
      "Loading /lcrc/group/earthscience/rjackson/cloudsat/2012365042405_35506_CS_2B-GEOPROF_GRANULE_P_R04_E06.hdf\n",
      "2012-12-30 05:10:13\n",
      "Loading /lcrc/group/earthscience/rjackson/cloudsat/2010054165201_20349_CS_2B-GEOPROF_GRANULE_P_R04_E03.hdf\n",
      "2010-02-23 16:55:14.240005\n",
      "Loading /lcrc/group/earthscience/rjackson/cloudsat/2006315164922_02874_CS_2B-GEOPROF_GRANULE_P_R04_E02.hdf\n",
      "2006-11-11 16:52:42.399994\n",
      "Loading /lcrc/group/earthscience/rjackson/cloudsat/2013344041819_40530_CS_2B-GEOPROF_GRANULE_P_R04_E06.hdf\n",
      "Loading /lcrc/group/earthscience/rjackson/cloudsat/2013127042442_37370_CS_2B-GEOPROF_GRANULE_P_R04_E06.hdf\n",
      "2013-05-07 05:10:55.159973\n",
      "Loading /lcrc/group/earthscience/rjackson/cloudsat/2012341164537_35164_CS_2B-GEOPROF_GRANULE_P_R04_E06.hdf\n",
      "Loading /lcrc/group/earthscience/rjackson/cloudsat/2009323165219_18951_CS_2B-GEOPROF_GRANULE_P_R04_E02.hdf\n",
      "2009-11-19 16:55:33.199997\n",
      "Loading /lcrc/group/earthscience/rjackson/cloudsat/2015037042500_46690_CS_2B-GEOPROF_GRANULE_P_R04_E06.hdf\n",
      "2015-02-06 05:11:12.599976\n",
      "Loading /lcrc/group/earthscience/rjackson/cloudsat/2013110165250_37130_CS_2B-GEOPROF_GRANULE_P_R04_E06.hdf\n",
      "Loading /lcrc/group/earthscience/rjackson/cloudsat/2016033041802_51947_CS_2B-GEOPROF_GRANULE_P_R04_E06.hdf\n",
      "Loading /lcrc/group/earthscience/rjackson/cloudsat/2014082042457_42030_CS_2B-GEOPROF_GRANULE_P_R04_E06.hdf\n",
      "2014-03-23 05:11:06.199951\n",
      "Loading /lcrc/group/earthscience/rjackson/cloudsat/2009324042430_18958_CS_2B-GEOPROF_GRANULE_P_R04_E02.hdf\n",
      "2009-11-20 05:10:28.520020\n",
      "Loading /lcrc/group/earthscience/rjackson/cloudsat/2011074042218_25948_CS_2B-GEOPROF_GRANULE_P_R04_E04.hdf\n",
      "2011-03-15 05:08:16.519043\n",
      "Loading /lcrc/group/earthscience/rjackson/cloudsat/2010055042412_20356_CS_2B-GEOPROF_GRANULE_P_R04_E03.hdf\n",
      "2010-02-24 05:10:10.679932\n",
      "Loading /lcrc/group/earthscience/rjackson/cloudsat/2012049164922_30910_CS_2B-GEOPROF_GRANULE_P_R04_E05.hdf\n",
      "Loading /lcrc/group/earthscience/rjackson/cloudsat/2011098164354_26305_CS_2B-GEOPROF_GRANULE_P_R04_E04.hdf\n",
      "Loading /lcrc/group/earthscience/rjackson/cloudsat/2012037164436_30735_CS_2B-GEOPROF_GRANULE_P_R04_E05.hdf\n",
      "Loading /lcrc/group/earthscience/rjackson/cloudsat/2015021042436_46457_CS_2B-GEOPROF_GRANULE_P_R04_E06.hdf\n",
      "2015-01-21 05:10:35.760010\n",
      "Loading /lcrc/group/earthscience/rjackson/cloudsat/2007126165005_05437_CS_2B-GEOPROF_GRANULE_P_R04_E02.hdf\n",
      "2007-05-06 16:53:23.639999\n",
      "Loading /lcrc/group/earthscience/rjackson/cloudsat/2007072041607_04643_CS_2B-GEOPROF_GRANULE_P_R04_E02.hdf\n",
      "Loading /lcrc/group/earthscience/rjackson/cloudsat/2014018042436_41098_CS_2B-GEOPROF_GRANULE_P_R04_E06.hdf\n",
      "2014-01-18 05:10:35.359985\n",
      "Loading /lcrc/group/earthscience/rjackson/cloudsat/2015334041744_51015_CS_2B-GEOPROF_GRANULE_P_R04_E06.hdf\n",
      "Loading /lcrc/group/earthscience/rjackson/cloudsat/2013014165204_35732_CS_2B-GEOPROF_GRANULE_P_R04_E06.hdf\n",
      "Loading /lcrc/group/earthscience/rjackson/cloudsat/2011346041650_29911_CS_2B-GEOPROF_GRANULE_P_R04_E05.hdf\n",
      "Loading /lcrc/group/earthscience/rjackson/cloudsat/2010352041608_24681_CS_2B-GEOPROF_GRANULE_P_R04_E03.hdf\n",
      "Loading /lcrc/group/earthscience/rjackson/cloudsat/2014074164630_41921_CS_2B-GEOPROF_GRANULE_P_R04_E06.hdf\n",
      "Loading /lcrc/group/earthscience/rjackson/cloudsat/2013126165232_37363_CS_2B-GEOPROF_GRANULE_P_R04_E06.hdf\n",
      "Loading /lcrc/group/earthscience/rjackson/cloudsat/2013008041802_35637_CS_2B-GEOPROF_GRANULE_P_R04_E06.hdf\n",
      "Loading /lcrc/group/earthscience/rjackson/cloudsat/2013031042424_35972_CS_2B-GEOPROF_GRANULE_P_R04_E06.hdf\n",
      "2013-01-31 05:10:37.760010\n",
      "Loading /lcrc/group/earthscience/rjackson/cloudsat/2010095164536_20946_CS_2B-GEOPROF_GRANULE_P_R04_E03.hdf\n",
      "Loading /lcrc/group/earthscience/rjackson/cloudsat/2012364165154_35499_CS_2B-GEOPROF_GRANULE_P_R04_E06.hdf\n",
      "Loading /lcrc/group/earthscience/rjackson/cloudsat/2010064041802_20487_CS_2B-GEOPROF_GRANULE_P_R04_E03.hdf\n",
      "Loading /lcrc/group/earthscience/rjackson/cloudsat/2014113165234_42489_CS_2B-GEOPROF_GRANULE_P_R04_E06.hdf\n",
      "Loading /lcrc/group/earthscience/rjackson/cloudsat/2014058164623_41688_CS_2B-GEOPROF_GRANULE_P_R04_E06.hdf\n",
      "Loading /lcrc/group/earthscience/rjackson/cloudsat/2016112164602_53105_CS_2B-GEOPROF_GRANULE_P_R04_E06.hdf\n",
      "Loading /lcrc/group/earthscience/rjackson/cloudsat/2006325041524_03012_CS_2B-GEOPROF_GRANULE_P_R04_E02.hdf\n",
      "Loading /lcrc/group/earthscience/rjackson/cloudsat/2016055165206_52275_CS_2B-GEOPROF_GRANULE_P_R04_E06.hdf\n",
      "Loading /lcrc/group/earthscience/rjackson/cloudsat/2007063042216_04512_CS_2B-GEOPROF_GRANULE_P_R04_E02.hdf\n",
      "2007-03-04 05:08:13.679932\n",
      "Loading /lcrc/group/earthscience/rjackson/cloudsat/2012056164353_31012_CS_2B-GEOPROF_GRANULE_P_R04_E05.hdf\n",
      "Loading /lcrc/group/earthscience/rjackson/cloudsat/2014353165227_45984_CS_2B-GEOPROF_GRANULE_P_R04_E06.hdf\n",
      "Loading /lcrc/group/earthscience/rjackson/cloudsat/2010335164347_24441_CS_2B-GEOPROF_GRANULE_P_R04_E03.hdf\n",
      "Loading /lcrc/group/earthscience/rjackson/cloudsat/2011050164354_25606_CS_2B-GEOPROF_GRANULE_P_R04_E04.hdf\n",
      "Loading /lcrc/group/earthscience/rjackson/cloudsat/2013103164634_37028_CS_2B-GEOPROF_GRANULE_P_R04_E06.hdf\n",
      "Loading /lcrc/group/earthscience/rjackson/cloudsat/2011099041605_26312_CS_2B-GEOPROF_GRANULE_P_R04_E04.hdf\n",
      "Loading /lcrc/group/earthscience/rjackson/cloudsat/2014034042450_41331_CS_2B-GEOPROF_GRANULE_P_R04_E06.hdf\n",
      "2014-02-03 05:10:49.439941\n",
      "Loading /lcrc/group/earthscience/rjackson/cloudsat/2010022165210_19883_CS_2B-GEOPROF_GRANULE_P_R04_E03.hdf\n",
      "2010-01-22 16:55:23.240005\n",
      "Loading /lcrc/group/earthscience/rjackson/cloudsat/2007007164324_03704_CS_2B-GEOPROF_GRANULE_P_R04_E02.hdf\n",
      "Loading /lcrc/group/earthscience/rjackson/cloudsat/2011105164956_26407_CS_2B-GEOPROF_GRANULE_P_R04_E04.hdf\n",
      "2011-04-15 16:53:15.160004\n",
      "Loading /lcrc/group/earthscience/rjackson/cloudsat/2013111042501_37137_CS_2B-GEOPROF_GRANULE_P_R04_E06.hdf\n",
      "2013-04-21 05:11:07.239990\n",
      "Loading /lcrc/group/earthscience/rjackson/cloudsat/2010080041757_20720_CS_2B-GEOPROF_GRANULE_P_R04_E03.hdf\n",
      "Loading /lcrc/group/earthscience/rjackson/cloudsat/2016024042416_51816_CS_2B-GEOPROF_GRANULE_P_R04_E06.hdf\n",
      "2016-01-24 05:10:16.040039\n",
      "Loading /lcrc/group/earthscience/rjackson/cloudsat/2015004165224_46217_CS_2B-GEOPROF_GRANULE_P_R04_E06.hdf\n",
      "Loading /lcrc/group/earthscience/rjackson/cloudsat/2007087164356_04869_CS_2B-GEOPROF_GRANULE_P_R04_E02.hdf\n",
      "Loading /lcrc/group/earthscience/rjackson/cloudsat/2013024041805_35870_CS_2B-GEOPROF_GRANULE_P_R04_E06.hdf\n",
      "Loading /lcrc/group/earthscience/rjackson/cloudsat/2011051041606_25613_CS_2B-GEOPROF_GRANULE_P_R04_E04.hdf\n",
      "Loading /lcrc/group/earthscience/rjackson/cloudsat/2010327042203_24317_CS_2B-GEOPROF_GRANULE_P_R04_E03.hdf\n",
      "2010-11-23 05:08:01.520020\n",
      "Loading /lcrc/group/earthscience/rjackson/cloudsat/2015116165259_47848_CS_2B-GEOPROF_GRANULE_P_R04_E06.hdf\n",
      "Loading /lcrc/group/earthscience/rjackson/cloudsat/2010111164519_21179_CS_2B-GEOPROF_GRANULE_P_R04_E03.hdf\n",
      "Loading /lcrc/group/earthscience/rjackson/cloudsat/2016017041805_51714_CS_2B-GEOPROF_GRANULE_P_R04_E06.hdf\n",
      "Loading /lcrc/group/earthscience/rjackson/cloudsat/2014337165205_45751_CS_2B-GEOPROF_GRANULE_P_R04_E06.hdf\n",
      "Loading /lcrc/group/earthscience/rjackson/cloudsat/2015046041853_46821_CS_2B-GEOPROF_GRANULE_P_R04_E06.hdf\n",
      "Loading /lcrc/group/earthscience/rjackson/cloudsat/2013350165218_40625_CS_2B-GEOPROF_GRANULE_P_R04_E06.hdf\n",
      "Loading /lcrc/group/earthscience/rjackson/cloudsat/2010087042404_20822_CS_2B-GEOPROF_GRANULE_P_R04_E03.hdf\n",
      "2010-03-28 05:10:02.679932\n",
      "Loading /lcrc/group/earthscience/rjackson/cloudsat/2015045164641_46814_CS_2B-GEOPROF_GRANULE_P_R04_E06.hdf\n",
      "Loading /lcrc/group/earthscience/rjackson/cloudsat/2014059041835_41695_CS_2B-GEOPROF_GRANULE_P_R04_E06.hdf\n"
     ]
    },
    {
     "name": "stdout",
     "output_type": "stream",
     "text": [
      "Loading /lcrc/group/earthscience/rjackson/cloudsat/2013056041833_36336_CS_2B-GEOPROF_GRANULE_P_R04_E06.hdf\n",
      "Loading /lcrc/group/earthscience/rjackson/cloudsat/2013359164602_40756_CS_2B-GEOPROF_GRANULE_P_R04_E06.hdf\n",
      "Loading /lcrc/group/earthscience/rjackson/cloudsat/2015052165247_46916_CS_2B-GEOPROF_GRANULE_P_R04_E06.hdf\n",
      "Loading /lcrc/group/earthscience/rjackson/cloudsat/2016064164600_52406_CS_2B-GEOPROF_GRANULE_P_R04_E06.hdf\n",
      "Loading /lcrc/group/earthscience/rjackson/cloudsat/2013040041823_36103_CS_2B-GEOPROF_GRANULE_P_R04_E06.hdf\n",
      "Loading /lcrc/group/earthscience/rjackson/cloudsat/2012019041628_30465_CS_2B-GEOPROF_GRANULE_P_R04_E05.hdf\n",
      "Loading /lcrc/group/earthscience/rjackson/cloudsat/2007008041536_03711_CS_2B-GEOPROF_GRANULE_P_R04_E02.hdf\n",
      "Loading /lcrc/group/earthscience/rjackson/cloudsat/2006309041529_02779_CS_2B-GEOPROF_GRANULE_P_R04_E02.hdf\n",
      "Loading /lcrc/group/earthscience/rjackson/cloudsat/2015062041845_47054_CS_2B-GEOPROF_GRANULE_P_R04_E06.hdf\n",
      "Loading /lcrc/group/earthscience/rjackson/cloudsat/2007111042214_05211_CS_2B-GEOPROF_GRANULE_P_R04_E02.hdf\n",
      "2007-04-21 05:08:16.638916\n",
      "Loading /lcrc/group/earthscience/rjackson/cloudsat/2006347164940_03340_CS_2B-GEOPROF_GRANULE_P_R04_E02.hdf\n",
      "2006-12-13 16:53:22.800003\n",
      "Loading /lcrc/group/earthscience/rjackson/cloudsat/2014097165234_42256_CS_2B-GEOPROF_GRANULE_P_R04_E06.hdf\n",
      "Loading /lcrc/group/earthscience/rjackson/cloudsat/2013335042416_40399_CS_2B-GEOPROF_GRANULE_P_R04_E06.hdf\n",
      "2013-12-01 05:10:17.680054\n",
      "Loading /lcrc/group/earthscience/rjackson/cloudsat/2009339165223_19184_CS_2B-GEOPROF_GRANULE_P_R04_E02.hdf\n",
      "2009-12-05 16:55:36.399994\n",
      "Loading /lcrc/group/earthscience/rjackson/cloudsat/2014065165241_41790_CS_2B-GEOPROF_GRANULE_P_R04_E06.hdf\n",
      "Loading /lcrc/group/earthscience/rjackson/cloudsat/2006364042150_03580_CS_2B-GEOPROF_GRANULE_P_R04_E02.hdf\n",
      "2006-12-30 05:08:09.280029\n",
      "Loading /lcrc/group/earthscience/rjackson/cloudsat/2014042164617_41455_CS_2B-GEOPROF_GRANULE_P_R04_E06.hdf\n",
      "Loading /lcrc/group/earthscience/rjackson/cloudsat/2007046164958_04272_CS_2B-GEOPROF_GRANULE_P_R04_E02.hdf\n",
      "2007-02-15 16:53:15.520004\n",
      "Loading /lcrc/group/earthscience/rjackson/cloudsat/2014075041841_41928_CS_2B-GEOPROF_GRANULE_P_R04_E06.hdf\n",
      "Loading /lcrc/group/earthscience/rjackson/cloudsat/2013088041826_36802_CS_2B-GEOPROF_GRANULE_P_R04_E06.hdf\n",
      "Loading /lcrc/group/earthscience/rjackson/cloudsat/2014027041840_41229_CS_2B-GEOPROF_GRANULE_P_R04_E06.hdf\n",
      "Loading /lcrc/group/earthscience/rjackson/cloudsat/2016023165204_51809_CS_2B-GEOPROF_GRANULE_P_R04_E06.hdf\n",
      "Loading /lcrc/group/earthscience/rjackson/cloudsat/2015036165248_46683_CS_2B-GEOPROF_GRANULE_P_R04_E06.hdf\n",
      "Loading /lcrc/group/earthscience/rjackson/cloudsat/2012018164504_30458_CS_2B-GEOPROF_GRANULE_P_R04_E05.hdf\n",
      "Loading /lcrc/group/earthscience/rjackson/cloudsat/2013343164607_40523_CS_2B-GEOPROF_GRANULE_P_R04_E06.hdf\n",
      "Loading /lcrc/group/earthscience/rjackson/cloudsat/2007015042143_03813_CS_2B-GEOPROF_GRANULE_P_R04_E02.hdf\n",
      "2007-01-15 05:07:40.520020\n",
      "Loading /lcrc/group/earthscience/rjackson/cloudsat/2013087164614_36795_CS_2B-GEOPROF_GRANULE_P_R04_E06.hdf\n",
      "Loading /lcrc/group/earthscience/rjackson/cloudsat/2010102165142_21048_CS_2B-GEOPROF_GRANULE_P_R04_E03.hdf\n",
      "2010-04-12 16:55:27.720001\n",
      "Loading /lcrc/group/earthscience/rjackson/cloudsat/2016071165212_52508_CS_2B-GEOPROF_GRANULE_P_R04_E06.hdf\n",
      "Loading /lcrc/group/earthscience/rjackson/cloudsat/2014010164558_40989_CS_2B-GEOPROF_GRANULE_P_R04_E06.hdf\n",
      "Loading /lcrc/group/earthscience/rjackson/cloudsat/2015109164644_47746_CS_2B-GEOPROF_GRANULE_P_R04_E06.hdf\n",
      "Loading /lcrc/group/earthscience/rjackson/cloudsat/2015061164632_47047_CS_2B-GEOPROF_GRANULE_P_R04_E06.hdf\n",
      "Loading /lcrc/group/earthscience/rjackson/cloudsat/2012357164535_35397_CS_2B-GEOPROF_GRANULE_P_R04_E06.hdf\n",
      "Loading /lcrc/group/earthscience/rjackson/cloudsat/2015053042457_46923_CS_2B-GEOPROF_GRANULE_P_R04_E06.hdf\n",
      "2015-02-22 05:10:56.400024\n",
      "Loading /lcrc/group/earthscience/rjackson/cloudsat/2011364164515_30181_CS_2B-GEOPROF_GRANULE_P_R04_E05.hdf\n",
      "Loading /lcrc/group/earthscience/rjackson/cloudsat/2012038041559_30742_CS_2B-GEOPROF_GRANULE_P_R04_E05.hdf\n",
      "Loading /lcrc/group/earthscience/rjackson/cloudsat/2012099164914_31639_CS_2B-GEOPROF_GRANULE_P_R04_E05.hdf\n",
      "Loading /lcrc/group/earthscience/rjackson/cloudsat/2007047042210_04279_CS_2B-GEOPROF_GRANULE_P_R04_E02.hdf\n",
      "2007-02-16 05:08:31.358887\n",
      "Loading /lcrc/group/earthscience/rjackson/cloudsat/2010336041559_24448_CS_2B-GEOPROF_GRANULE_P_R04_E03.hdf\n",
      "Loading /lcrc/group/earthscience/rjackson/cloudsat/2013120041845_37268_CS_2B-GEOPROF_GRANULE_P_R04_E06.hdf\n",
      "Loading /lcrc/group/earthscience/rjackson/cloudsat/2007023164327_03937_CS_2B-GEOPROF_GRANULE_P_R04_E02.hdf\n",
      "Loading /lcrc/group/earthscience/rjackson/cloudsat/2016056042418_52282_CS_2B-GEOPROF_GRANULE_P_R04_E06.hdf\n",
      "2016-02-25 05:10:18.839966\n",
      "Loading /lcrc/group/earthscience/rjackson/cloudsat/2006308164318_02772_CS_2B-GEOPROF_GRANULE_P_R04_E02.hdf\n",
      "Loading /lcrc/group/earthscience/rjackson/cloudsat/2010039042407_20123_CS_2B-GEOPROF_GRANULE_P_R04_E03.hdf\n",
      "2010-02-08 05:10:11.919922\n",
      "Loading /lcrc/group/earthscience/rjackson/cloudsat/2012057041516_31019_CS_2B-GEOPROF_GRANULE_P_R04_E05.hdf\n",
      "Loading /lcrc/group/earthscience/rjackson/cloudsat/2007040041554_04177_CS_2B-GEOPROF_GRANULE_P_R04_E02.hdf\n",
      "Loading /lcrc/group/earthscience/rjackson/cloudsat/2011041164959_25475_CS_2B-GEOPROF_GRANULE_P_R04_E03.hdf\n",
      "2011-02-10 16:53:12.240005\n",
      "Loading /lcrc/group/earthscience/rjackson/cloudsat/2012122041854_31967_CS_2B-GEOPROF_GRANULE_P_R04_E05.hdf\n",
      "Loading /lcrc/group/earthscience/rjackson/cloudsat/2015117042510_47855_CS_2B-GEOPROF_GRANULE_P_R04_E06.hdf\n",
      "2015-04-27 05:11:13.679993\n",
      "Loading /lcrc/group/earthscience/rjackson/cloudsat/2010086165153_20815_CS_2B-GEOPROF_GRANULE_P_R04_E03.hdf\n",
      "2010-03-27 16:55:06.240005\n",
      "Loading /lcrc/group/earthscience/rjackson/cloudsat/2010070165159_20582_CS_2B-GEOPROF_GRANULE_P_R04_E03.hdf\n",
      "2010-03-11 16:55:32.240005\n",
      "Loading /lcrc/group/earthscience/rjackson/cloudsat/2013039164611_36096_CS_2B-GEOPROF_GRANULE_P_R04_E06.hdf\n",
      "Loading /lcrc/group/earthscience/rjackson/cloudsat/2016128164607_53338_CS_2B-GEOPROF_GRANULE_P_R04_E06.hdf\n",
      "Loading /lcrc/group/earthscience/rjackson/cloudsat/2015014041814_46355_CS_2B-GEOPROF_GRANULE_P_R04_E06.hdf\n",
      "Loading /lcrc/group/earthscience/rjackson/cloudsat/2014081165245_42023_CS_2B-GEOPROF_GRANULE_P_R04_E06.hdf\n",
      "Loading /lcrc/group/earthscience/rjackson/cloudsat/2011106042207_26414_CS_2B-GEOPROF_GRANULE_P_R04_E04.hdf\n",
      "2011-04-16 05:08:10.799072\n",
      "Loading /lcrc/group/earthscience/rjackson/cloudsat/2012012042146_30363_CS_2B-GEOPROF_GRANULE_P_R04_E05.hdf\n",
      "2012-01-12 05:07:39.479980\n",
      "Loading /lcrc/group/earthscience/rjackson/cloudsat/2013351042429_40632_CS_2B-GEOPROF_GRANULE_P_R04_E06.hdf\n",
      "2013-12-17 05:10:28.880005\n",
      "Loading /lcrc/group/earthscience/rjackson/cloudsat/2006332042142_03114_CS_2B-GEOPROF_GRANULE_P_R04_E02.hdf\n",
      "2006-11-28 05:07:55.520020\n",
      "Loading /lcrc/group/earthscience/rjackson/cloudsat/2009333041822_19089_CS_2B-GEOPROF_GRANULE_P_R04_E02.hdf\n",
      "Loading /lcrc/group/earthscience/rjackson/cloudsat/2010119042330_21288_CS_2B-GEOPROF_GRANULE_P_R04_E03.hdf\n",
      "2010-04-29 05:09:36.040039\n",
      "Loading /lcrc/group/earthscience/rjackson/cloudsat/2011083041607_26079_CS_2B-GEOPROF_GRANULE_P_R04_E04.hdf\n",
      "Loading /lcrc/group/earthscience/rjackson/cloudsat/2006357041540_03478_CS_2B-GEOPROF_GRANULE_P_R04_E02.hdf\n",
      "Loading /lcrc/group/earthscience/rjackson/cloudsat/2015333164532_51008_CS_2B-GEOPROF_GRANULE_P_R04_E06.hdf\n",
      "Loading /lcrc/group/earthscience/rjackson/cloudsat/2006171164822_00777_CS_2B-GEOPROF_GRANULE_P_R04_E00.hdf\n",
      "Loading /lcrc/group/earthscience/rjackson/cloudsat/2010326164952_24310_CS_2B-GEOPROF_GRANULE_P_R04_E03.hdf\n",
      "2010-11-22 16:53:16.119995\n",
      "Loading /lcrc/group/earthscience/rjackson/cloudsat/2006316042133_02881_CS_2B-GEOPROF_GRANULE_P_R04_E02.hdf\n",
      "2006-11-12 05:07:51.638916\n",
      "Loading /lcrc/group/earthscience/rjackson/cloudsat/2013015042416_35739_CS_2B-GEOPROF_GRANULE_P_R04_E06.hdf\n",
      "2013-01-15 05:10:15.599976\n",
      "Loading /lcrc/group/earthscience/rjackson/cloudsat/2010047164547_20247_CS_2B-GEOPROF_GRANULE_P_R04_E03.hdf\n",
      "Loading /lcrc/group/earthscience/rjackson/cloudsat/2011082164356_26072_CS_2B-GEOPROF_GRANULE_P_R04_E04.hdf\n",
      "Loading /lcrc/group/earthscience/rjackson/cloudsat/2007056041604_04410_CS_2B-GEOPROF_GRANULE_P_R04_E02.hdf\n"
     ]
    },
    {
     "name": "stdout",
     "output_type": "stream",
     "text": [
      "Loading /lcrc/group/earthscience/rjackson/cloudsat/2012121164805_31960_CS_2B-GEOPROF_GRANULE_P_R04_E05.hdf\n",
      "Loading /lcrc/group/earthscience/rjackson/cloudsat/2011345164528_29904_CS_2B-GEOPROF_GRANULE_P_R04_E05.hdf\n",
      "Loading /lcrc/group/earthscience/rjackson/cloudsat/2012050042046_30917_CS_2B-GEOPROF_GRANULE_P_R04_E05.hdf\n",
      "2012-02-19 05:06:43.078979\n",
      "Loading /lcrc/group/earthscience/rjackson/cloudsat/2010103042353_21055_CS_2B-GEOPROF_GRANULE_P_R04_E03.hdf\n",
      "2010-04-13 05:09:51.519043\n",
      "Loading /lcrc/group/earthscience/rjackson/cloudsat/2014090164627_42154_CS_2B-GEOPROF_GRANULE_P_R04_E06.hdf\n",
      "Loading /lcrc/group/earthscience/rjackson/cloudsat/2014011041810_40996_CS_2B-GEOPROF_GRANULE_P_R04_E06.hdf\n",
      "Loading /lcrc/group/earthscience/rjackson/cloudsat/2015094041839_47520_CS_2B-GEOPROF_GRANULE_P_R04_E06.hdf\n",
      "Loading /lcrc/group/earthscience/rjackson/cloudsat/2016039165159_52042_CS_2B-GEOPROF_GRANULE_P_R04_E06.hdf\n",
      "Loading /lcrc/group/earthscience/rjackson/cloudsat/2010342165004_24543_CS_2B-GEOPROF_GRANULE_P_R04_E03.hdf\n",
      "2010-12-08 16:53:22.839996\n",
      "Loading /lcrc/group/earthscience/rjackson/cloudsat/2015020165224_46450_CS_2B-GEOPROF_GRANULE_P_R04_E06.hdf\n",
      "Loading /lcrc/group/earthscience/rjackson/cloudsat/2007062165005_04505_CS_2B-GEOPROF_GRANULE_P_R04_E02.hdf\n",
      "2007-03-03 16:53:17.240005\n",
      "Loading /lcrc/group/earthscience/rjackson/cloudsat/2011365041639_30188_CS_2B-GEOPROF_GRANULE_P_R04_E05.hdf\n",
      "Loading /lcrc/group/earthscience/rjackson/cloudsat/2014330164555_45649_CS_2B-GEOPROF_GRANULE_P_R04_E06.hdf\n",
      "Loading /lcrc/group/earthscience/rjackson/cloudsat/2014043041828_41462_CS_2B-GEOPROF_GRANULE_P_R04_E06.hdf\n",
      "Loading /lcrc/group/earthscience/rjackson/cloudsat/2011067041609_25846_CS_2B-GEOPROF_GRANULE_P_R04_E04.hdf\n",
      "Loading /lcrc/group/earthscience/rjackson/cloudsat/2010359042220_24783_CS_2B-GEOPROF_GRANULE_P_R04_E03.hdf\n",
      "2010-12-25 05:08:20.760010\n",
      "Loading /lcrc/group/earthscience/rjackson/cloudsat/2014331041806_45656_CS_2B-GEOPROF_GRANULE_P_R04_E06.hdf\n",
      "Loading /lcrc/group/earthscience/rjackson/cloudsat/2016065041811_52413_CS_2B-GEOPROF_GRANULE_P_R04_E06.hdf\n",
      "Loading /lcrc/group/earthscience/rjackson/cloudsat/2013079042442_36671_CS_2B-GEOPROF_GRANULE_P_R04_E06.hdf\n",
      "2013-03-20 05:11:05.479980\n",
      "Loading /lcrc/group/earthscience/rjackson/cloudsat/2009332164611_19082_CS_2B-GEOPROF_GRANULE_P_R04_E02.hdf\n",
      "Loading /lcrc/group/earthscience/rjackson/cloudsat/2006261041540_02080_CS_2B-GEOPROF_GRANULE_P_R04_E02.hdf\n",
      "Loading /lcrc/group/earthscience/rjackson/cloudsat/2014347041820_45889_CS_2B-GEOPROF_GRANULE_P_R04_E06.hdf\n",
      "Loading /lcrc/group/earthscience/rjackson/cloudsat/2012342041748_35171_CS_2B-GEOPROF_GRANULE_P_R04_E06.hdf\n",
      "Loading /lcrc/group/earthscience/rjackson/cloudsat/2006356164329_03471_CS_2B-GEOPROF_GRANULE_P_R04_E02.hdf\n",
      "Loading /lcrc/group/earthscience/rjackson/cloudsat/2012100042003_31646_CS_2B-GEOPROF_GRANULE_P_R04_E05.hdf\n",
      "2012-04-09 05:06:24.200012\n",
      "Loading /lcrc/group/earthscience/rjackson/cloudsat/2011089165008_26174_CS_2B-GEOPROF_GRANULE_P_R04_E04.hdf\n",
      "2011-03-30 16:53:21.240005\n",
      "Loading /lcrc/group/earthscience/rjackson/cloudsat/2014363041829_46122_CS_2B-GEOPROF_GRANULE_P_R04_E06.hdf\n",
      "Loading /lcrc/group/earthscience/rjackson/cloudsat/2015349164541_51241_CS_2B-GEOPROF_GRANULE_P_R04_E06.hdf\n",
      "Loading /lcrc/group/earthscience/rjackson/cloudsat/2012117041440_31894_CS_2B-GEOPROF_GRANULE_P_R04_E05.hdf\n",
      "Loading /lcrc/group/earthscience/rjackson/cloudsat/2013078165231_36664_CS_2B-GEOPROF_GRANULE_P_R04_E06.hdf\n",
      "Loading /lcrc/group/earthscience/rjackson/cloudsat/2010351164357_24674_CS_2B-GEOPROF_GRANULE_P_R04_E03.hdf\n",
      "Loading /lcrc/group/earthscience/rjackson/cloudsat/2007120041604_05342_CS_2B-GEOPROF_GRANULE_P_R04_E02.hdf\n",
      "Loading /lcrc/group/earthscience/rjackson/cloudsat/2013072041834_36569_CS_2B-GEOPROF_GRANULE_P_R04_E06.hdf\n",
      "Loading /lcrc/group/earthscience/rjackson/cloudsat/2013063042446_36438_CS_2B-GEOPROF_GRANULE_P_R04_E06.hdf\n",
      "2013-03-04 05:10:45.078979\n",
      "Loading /lcrc/group/earthscience/rjackson/cloudsat/2012332165152_35033_CS_2B-GEOPROF_GRANULE_P_R04_E06.hdf\n",
      "Loading /lcrc/group/earthscience/rjackson/cloudsat/2010118165119_21281_CS_2B-GEOPROF_GRANULE_P_R04_E03.hdf\n",
      "2010-04-28 16:54:32.240005\n",
      "Loading /lcrc/group/earthscience/rjackson/cloudsat/2013334165204_40392_CS_2B-GEOPROF_GRANULE_P_R04_E06.hdf\n",
      "Loading /lcrc/group/earthscience/rjackson/cloudsat/2010038165156_20116_CS_2B-GEOPROF_GRANULE_P_R04_E03.hdf\n",
      "2010-02-07 16:55:09.399994\n",
      "Loading /lcrc/group/earthscience/rjackson/cloudsat/2014091041837_42161_CS_2B-GEOPROF_GRANULE_P_R04_E06.hdf\n",
      "Loading /lcrc/group/earthscience/rjackson/cloudsat/2007095042217_04978_CS_2B-GEOPROF_GRANULE_P_R04_E02.hdf\n",
      "2007-04-05 05:08:14.520020\n",
      "Loading /lcrc/group/earthscience/rjackson/cloudsat/2016080164601_52639_CS_2B-GEOPROF_GRANULE_P_R04_E06.hdf\n",
      "Loading /lcrc/group/earthscience/rjackson/cloudsat/2011042042211_25482_CS_2B-GEOPROF_GRANULE_P_R04_E03.hdf\n",
      "2011-02-11 05:08:09.679932\n",
      "Loading /lcrc/group/earthscience/rjackson/cloudsat/2014001165207_40858_CS_2B-GEOPROF_GRANULE_P_R04_E06.hdf\n",
      "Loading /lcrc/group/earthscience/rjackson/cloudsat/2014049165215_41557_CS_2B-GEOPROF_GRANULE_P_R04_E06.hdf\n",
      "Loading /lcrc/group/earthscience/rjackson/cloudsat/2015013164603_46348_CS_2B-GEOPROF_GRANULE_P_R04_E06.hdf\n",
      "Loading /lcrc/group/earthscience/rjackson/cloudsat/2007055164353_04403_CS_2B-GEOPROF_GRANULE_P_R04_E02.hdf\n",
      "Loading /lcrc/group/earthscience/rjackson/cloudsat/2013119164634_37261_CS_2B-GEOPROF_GRANULE_P_R04_E06.hdf\n",
      "Loading /lcrc/group/earthscience/rjackson/cloudsat/2006324164312_03005_CS_2B-GEOPROF_GRANULE_P_R04_E02.hdf\n",
      "Loading /lcrc/group/earthscience/rjackson/cloudsat/2010071042410_20589_CS_2B-GEOPROF_GRANULE_P_R04_E03.hdf\n",
      "2010-03-12 05:10:24.360107\n",
      "Loading /lcrc/group/earthscience/rjackson/cloudsat/2012080165319_31362_CS_2B-GEOPROF_GRANULE_P_R04_E05.hdf\n",
      "Loading /lcrc/group/earthscience/rjackson/cloudsat/2006331164931_03107_CS_2B-GEOPROF_GRANULE_P_R04_E02.hdf\n",
      "2006-11-27 16:52:50.919998\n",
      "Loading /lcrc/group/earthscience/rjackson/cloudsat/2015100165237_47615_CS_2B-GEOPROF_GRANULE_P_R04_E06.hdf\n",
      "Loading /lcrc/group/earthscience/rjackson/cloudsat/2012069041955_31194_CS_2B-GEOPROF_GRANULE_P_R04_E05.hdf\n",
      "2012-03-09 05:06:02.280029\n",
      "Loading /lcrc/group/earthscience/rjackson/cloudsat/2014338042416_45758_CS_2B-GEOPROF_GRANULE_P_R04_E06.hdf\n",
      "2014-12-04 05:10:21.119995\n",
      "Loading /lcrc/group/earthscience/rjackson/cloudsat/2007135164355_05568_CS_2B-GEOPROF_GRANULE_P_R04_E02.hdf\n",
      "Loading /lcrc/group/earthscience/rjackson/cloudsat/2016087165210_52741_CS_2B-GEOPROF_GRANULE_P_R04_E06.hdf\n",
      "Loading /lcrc/group/earthscience/rjackson/cloudsat/2015029164629_46581_CS_2B-GEOPROF_GRANULE_P_R04_E06.hdf\n",
      "Loading /lcrc/group/earthscience/rjackson/cloudsat/2012348165134_35266_CS_2B-GEOPROF_GRANULE_P_R04_E06.hdf\n",
      "Loading /lcrc/group/earthscience/rjackson/cloudsat/2010112041730_21186_CS_2B-GEOPROF_GRANULE_P_R04_E03.hdf\n",
      "Loading /lcrc/group/earthscience/rjackson/cloudsat/2016135165218_53440_CS_2B-GEOPROF_GRANULE_P_R04_E06.hdf\n",
      "Loading /lcrc/group/earthscience/rjackson/cloudsat/2014106164628_42387_CS_2B-GEOPROF_GRANULE_P_R04_E06.hdf\n",
      "Loading /lcrc/group/earthscience/rjackson/cloudsat/2012081042442_31369_CS_2B-GEOPROF_GRANULE_P_R04_E05.hdf\n",
      "2012-03-21 05:10:52.201050\n",
      "Loading /lcrc/group/earthscience/rjackson/cloudsat/2012011165022_30356_CS_2B-GEOPROF_GRANULE_P_R04_E05.hdf\n",
      "Loading /lcrc/group/earthscience/rjackson/cloudsat/2016113041814_53112_CS_2B-GEOPROF_GRANULE_P_R04_E06.hdf\n",
      "Loading /lcrc/group/earthscience/rjackson/cloudsat/2016120042427_53214_CS_2B-GEOPROF_GRANULE_P_R04_E06.hdf\n",
      "2016-04-29 05:10:31.520020\n",
      "Loading /lcrc/group/earthscience/rjackson/cloudsat/2013071164623_36562_CS_2B-GEOPROF_GRANULE_P_R04_E06.hdf\n",
      "Loading /lcrc/group/earthscience/rjackson/cloudsat/2006341041538_03245_CS_2B-GEOPROF_GRANULE_P_R04_E02.hdf\n",
      "Loading /lcrc/group/earthscience/rjackson/cloudsat/2010127164509_21412_CS_2B-GEOPROF_GRANULE_P_R04_E03.hdf\n"
     ]
    },
    {
     "data": {
      "text/plain": [
       "<matplotlib.collections.PathCollection at 0x2ac6ca79cdd8>"
      ]
     },
     "execution_count": 80,
     "metadata": {},
     "output_type": "execute_result"
    },
    {
     "data": {
      "image/png": "[encoded data removed]",
      "text/plain": [
       "<Figure size 432x288 with 1 Axes>"
      ]
     },
     "metadata": {},
     "output_type": "display_data"
    }
   ],
   "source": [
    "file_list = glob.glob('/lcrc/group/earthscience/rjackson/cloudsat/*.hdf')\n",
    "new_ctops = []\n",
    "eth_cpols = []\n",
    "the_bag = db.from_sequence(file_list)\n",
    "for the_file in file_list:\n",
    "    print('Loading ' + the_file)\n",
    "    new_ctop, eth_cpol = get_eth_cloudsat_and_cpol(the_file)\n",
    "    if(not np.all(np.isnan(new_ctop)) and not np.all(np.isnan(eth_cpol))):\n",
    "        new_ctops.append(new_ctop)\n",
    "        eth_cpols.append(eth_cpol)\n",
    "\n",
    "new_ctops = np.concatenate(new_ctops)\n",
    "eth_cpols = np.concatenate(eth_cpols)\n",
    "plt.scatter(new_ctops, eth_cpols)"
   ]
  },
  {
   "cell_type": "code",
   "execution_count": 83,
   "metadata": {},
   "outputs": [
    {
     "data": {
      "text/plain": [
       "[<matplotlib.lines.Line2D at 0x2ac6c9ab2eb8>]"
      ]
     },
     "execution_count": 83,
     "metadata": {},
     "output_type": "execute_result"
    },
    {
     "data": {
      "image/png": "[encoded data removed]",
      "text/plain": [
       "<Figure size 432x288 with 1 Axes>"
      ]
     },
     "metadata": {},
     "output_type": "display_data"
    }
   ],
   "source": [
    "#new_ctops = np.concatenate(new_ctops)\n",
    "#eth_cpols = np.concatenate(eth_cpols)\n",
    "plt.scatter(eth_cpols/1e3, new_ctops/1e3)\n",
    "plt.xlim([0, 20])\n",
    "plt.ylim([0, 20])\n",
    "plt.xlabel('ETH CPOL [km]')\n",
    "plt.ylabel('ETH CloudSat [km]')\n",
    "plt.plot([0, 20], [0, 20], color='k')"
   ]
  },
  {
   "cell_type": "code",
   "execution_count": 84,
   "metadata": {},
   "outputs": [
    {
     "data": {
      "text/plain": [
       "[<matplotlib.lines.Line2D at 0x2ac6cae54be0>]"
      ]
     },
     "execution_count": 84,
     "metadata": {},
     "output_type": "execute_result"
    },
    {
     "data": {
      "image/png": "[encoded data removed]",
      "text/plain": [
       "<Figure size 432x288 with 2 Axes>"
      ]
     },
     "metadata": {},
     "output_type": "display_data"
    }
   ],
   "source": [
    "hist, bins_x, bins_y = np.histogram2d(eth_cpols/1e3, new_ctops/1e3, bins=np.arange(0, 20, 0.5))\n",
    "x, y = np.meshgrid(bins_x, bins_y)\n",
    "hist[hist == 0] = np.nan\n",
    "plt.pcolormesh(x,y, hist.T, cmap='coolwarm')\n",
    "plt.xlabel('CPOL ETH [km]')\n",
    "plt.ylabel('CloudSat ETH [km]')\n",
    "plt.colorbar()\n",
    "plt.plot([0, 20], [0, 20])"
   ]
  },
  {
   "cell_type": "code",
   "execution_count": 85,
   "metadata": {},
   "outputs": [
    {
     "name": "stdout",
     "output_type": "stream",
     "text": [
      "2386.0\n"
     ]
    }
   ],
   "source": [
    "print(np.nansum(hist))"
   ]
  },
  {
   "cell_type": "markdown",
   "metadata": {},
   "source": [
    "## VISST to CPOL comparison"
   ]
  },
  {
   "cell_type": "code",
   "execution_count": 4,
   "metadata": {},
   "outputs": [
    {
     "data": {
      "text/plain": [
       "<xarray.Dataset>\n",
       "Dimensions:                      (index: 17, time: 12146)\n",
       "Coordinates:\n",
       "  * time                         (time) datetime64[ns] 2010-06-29T07:30:00 ...\n",
       "Dimensions without coordinates: index\n",
       "Data variables:\n",
       "    base_time                    datetime64[ns] ...\n",
       "    time_offset                  (time) datetime64[ns] ...\n",
       "    image_times                  (index) datetime64[ns] ...\n",
       "    image_start                  (index) float32 ...\n",
       "    image_numpix                 (index) float32 ...\n",
       "    latitude                     (time) float32 ...\n",
       "    longitude                    (time) float32 ...\n",
       "    reflectance_vis              (time) float32 ...\n",
       "    reflectance_nir              (time) float32 ...\n",
       "    temperature_sir              (time) float32 ...\n",
       "    temperature_ir               (time) float32 ...\n",
       "    temperature_sw               (time) float32 ...\n",
       "    broadband_shortwave_albedo   (time) float32 ...\n",
       "    broadband_longwave_flux      (time) float32 ...\n",
       "    ir_cloud_emittance           (time) float32 ...\n",
       "    cloud_phase                  (time) int32 ...\n",
       "    visible_optical_depth        (time) float32 ...\n",
       "    particle_size                (time) float32 ...\n",
       "    liquid_water_path            (time) float32 ...\n",
       "    cloud_effective_temperature  (time) float32 ...\n",
       "    cloud_top_pressure           (time) float32 ...\n",
       "    cloud_effective_pressure     (time) float32 ...\n",
       "    cloud_bottom_pressure        (time) float32 ...\n",
       "    cloud_top_height             (time) float32 ...\n",
       "    cloud_effective_height       (time) float32 ...\n",
       "    cloud_bottom_height          (time) float32 ...\n",
       "Attributes:\n",
       "    NetCDF_Version:               netCDF 4.0.1\n",
       "    Title:                        Pixel-level cloud products \n",
       "    source:                       NASA Langley Research Center\n",
       "    version:                      V4.1\n",
       "    date:                         VISST processed on Sep7 13:10\n",
       "    facility_id:                  X30\n",
       "    site_id:                      twp\n",
       "    location:                     dar\n",
       "    data_level:                   c1\n",
       "    missing_value:                -9999.\n",
       "    zeb_platform:                 twpvisstpx04m1rv4minnisX30.c1\n",
       "    history:                      created by user mk on machine ssai at Wed S...\n",
       "    input_files:                  MTSAT-1R\n",
       "    reflectance_vis_note1:        effective_wavelength_visst = 0.73 um\n",
       "    reflectance_vis_note2:        spectral_width_instrument =  0.55 um - 0.80 um\n",
       "    temperature_sir_note1:        effective_wavelength_visst = 3.75 um\n",
       "    temperature_sir_note2:        spectral_width_instrument = 3.5 um - 4.0 um\n",
       "    temperature_ir_note1:         effective_wavelength_visst = 10.8 um\n",
       "    temperature_ir_note2:         spectral_width_instrument = 10.3 um - 11.3 um\n",
       "    temperature_sw_note1:         effective_wavelength_visst = 12.0 um\n",
       "    temperature_sw_note2:         spectral_width_instrument = 11.5 - 12.5 um\n",
       "    longwave_NB_BB_correlation:   The LW NB-BB correlation is given by Mbb=a+...\n",
       "    shortwave_NB_BB_correlation:  The shortwave narrowband to broadband corre...\n",
       "    visible_calibration:          The MTSAT-1 visible calibration equation is...\n",
       "    IR_calibration:               The MTSAT-1 IR calibration was based on the...\n",
       "    VISST:                        NASA-Langley cloud and radiation products a...\n",
       "    DATA_VERSION_NOTE:            This version was processed historically and...\n",
       "    General_comment:              This dataset is part of ongoing research pr...\n",
       "    NCO:                          4.0.5"
      ]
     },
     "execution_count": 4,
     "metadata": {},
     "output_type": "execute_result"
    }
   ],
   "source": [
    "import xarray\n",
    "cdf_data = xarray.open_dataset('/lcrc/group/earthscience/rjackson/visst/twpvisstpx04m1rv4minnisX30.c1.20100629.073000.cdf')\n",
    "cdf_data"
   ]
  },
  {
   "cell_type": "code",
   "execution_count": 246,
   "metadata": {},
   "outputs": [
    {
     "data": {
      "text/plain": [
       "<xarray.DataArray 'cloud_phase' (time: 12146)>\n",
       "array([3, 6, 1, ..., 4, 4, 4], dtype=int32)\n",
       "Coordinates:\n",
       "  * time     (time) datetime64[ns] 2010-06-29T07:30:00 2010-06-29T07:30:00 ...\n",
       "Attributes:\n",
       "    valid_min:  0\n",
       "    valid_max:  7\n",
       "    long_name:  cloud phase\n",
       "    units:      unitless\n",
       "    value_0:    clear over snow/ice\n",
       "    value_1:    water\n",
       "    value_2:    ice\n",
       "    value_3:    no retrieval\n",
       "    value_4:    clear\n",
       "    value_5:    bad retrieval\n",
       "    value_6:    suspected water\n",
       "    value_7:    suspected ice"
      ]
     },
     "execution_count": 246,
     "metadata": {},
     "output_type": "execute_result"
    }
   ],
   "source": [
    "cdf_data.cloud_phase[:]"
   ]
  },
  {
   "cell_type": "code",
   "execution_count": 18,
   "metadata": {},
   "outputs": [
    {
     "name": "stderr",
     "output_type": "stream",
     "text": [
      "/blues/gpfs/home/rjackson/anaconda3/envs/yt_devel/lib/python3.6/site-packages/ipykernel_launcher.py:4: DeprecationWarning: parsing timezone aware datetimes is deprecated; this will raise an error in the future\n",
      "  after removing the cwd from sys.path.\n"
     ]
    },
    {
     "data": {
      "text/plain": [
       "datetime.datetime(2010, 6, 29, 7, 30)"
      ]
     },
     "execution_count": 18,
     "metadata": {},
     "output_type": "execute_result"
    }
   ],
   "source": [
    "import numpy as np\n",
    "from datetime import datetime\n",
    "dt = cdf_data.image_times[0].values\n",
    "ts = (dt - np.datetime64('1970-01-01T00:00:00Z')) / np.timedelta64(1, 's')\n",
    "the_dt = datetime.utcfromtimestamp(ts)\n",
    "the_dt"
   ]
  },
  {
   "cell_type": "code",
   "execution_count": 349,
   "metadata": {},
   "outputs": [],
   "source": [
    "import xarray\n",
    "\n",
    "\n",
    "def dt_from_npdt64(npdt64):\n",
    "    ts = (npdt64 - np.datetime64('1970-01-01T00:00:00Z')) / np.timedelta64(1, 's')\n",
    "    the_dt = datetime.datetime.utcfromtimestamp(ts)\n",
    "    return the_dt\n",
    "\n",
    "def get_eth_cpol_and_visst_ctop(file_path):\n",
    "    print(file_path)\n",
    "    cdf_data = xarray.open_dataset(file_path)\n",
    "    \n",
    "    # Load lat, lon, and time parameters - try statement for 24-hourly data, except for daily data\n",
    "    try:\n",
    "        Latitude = cdf_data['latitude'].values\n",
    "        Longitude = cdf_data['longitude'].values\n",
    "    except:\n",
    "        latlonpath = '/lcrc/group/earthscience/rjackson/visst/twpvisstpx04m1rv4minnisX30.c1.20100202.003000.cdf'\n",
    "        latlond = xarray.open_dataset(latlonpath)\n",
    "        Latitude = cdf_data['latitude'].values\n",
    "        Longitude = cdf_data['longitude'].values\n",
    "        del latlond\n",
    "        \n",
    "    Time = cdf_data['image_times'].values\n",
    "    datetimes = [dt_from_npdt64(x) for x in Time]\n",
    "    out_datetimes = datetimes.copy()\n",
    "    NumPixels = cdf_data['image_numpix'].values\n",
    "    phase = cdf_data['cloud_phase'].values\n",
    "    \n",
    "\n",
    "    # Load brightness temperature\n",
    "    IRBrightness = cdf_data['temperature_ir'].values\n",
    "    CloudTopHeight = cdf_data['cloud_top_height'].values\n",
    "    num_frames = len(NumPixels)\n",
    "    \n",
    "    echo_top_temps_visst = []\n",
    "    echo_top_heights_cpol = []\n",
    "    hours = []\n",
    "    # For each time, find multidop grid that is within 10 minutes of scan\n",
    "    for frame in range(0, num_frames):\n",
    "        the_time = datetimes[frame]\n",
    "        year = '%4d' % the_time.year\n",
    "        month = '%02d' % the_time.month\n",
    "        day = '%02d' % the_time.day\n",
    "        hour = '%02d' % the_time.hour\n",
    "        minute = '%02d' % the_time.minute\n",
    "        \n",
    "        cpol_eth_file = ('/lcrc/group/earthscience/rjackson/echo_tops/echo_tops_100km_texture5/' + \n",
    "                     year + '/' + year + month + day + '/' + 'echo_tops_' + year + month + \n",
    "                     day + hour + minute[0] + '0.cdf')\n",
    "        \n",
    "        \n",
    "        # Regrid pixel level data to the CPOL grid\n",
    "        try:\n",
    "            echo_top_dset = Dataset(cpol_eth_file)\n",
    "        except FileNotFoundError as e:\n",
    "            print('No CPOL file found!')\n",
    "            out_datetimes.remove(the_time)\n",
    "            continue\n",
    "            \n",
    "        conv_strat_path = ('/lcrc/group/earthscience/rjackson/conv_stratiform/' +\n",
    "                       year + '/' + month + '/' + day +\n",
    "                       '/cpol_conv_strat' + year + month + day +\n",
    "                       hour + minute[0] + '0.nc')\n",
    "        print(conv_strat_path)\n",
    "        try:\n",
    "            data_cdf = Dataset(conv_strat_path)\n",
    "            conv_strat = data_cdf.variables['strat_conv'][:]\n",
    "        except:\n",
    "            conv_strat = np.zeros(shape)\n",
    "            print(('Cound not find convective-stratiform classification for ' +\n",
    "                   year_str + '-' + month_str + '-' + day_str + ' ' + hour_str +\n",
    "                   ':' + minute_str))\n",
    "            \n",
    "        lat_echo = echo_top_dset.variables['lat'][:,:]\n",
    "        lon_echo = echo_top_dset.variables['lon'][:,:]\n",
    "        eth = echo_top_dset.variables['ETH'][:,:]\n",
    "        eth[conv_strat < 2] = np.nan\n",
    "        echo_top_dset.close()\n",
    "        eth_cpol = eth.flatten()\n",
    "        # Get brightness temperatures from VISST over same grid\n",
    "        # Load brightness temperature           \n",
    "        cpol_latitude = -12.249166\n",
    "        cpol_longitude = 131.04445\n",
    "        x = lon_echo\n",
    "        y = lat_echo\n",
    "        \n",
    "        # Get Lat and Lon for specific frame\n",
    "        Lat = Latitude[(int(frame)*int(NumPixels[frame])):(int(frame+1)*int(NumPixels[frame])-1)]\n",
    "        Lon = Longitude[(int(frame)*int(NumPixels[frame])):(int(frame+1)*int(NumPixels[frame])-1)]\n",
    "        data = CloudTopHeight[(int(frame)*int(NumPixels[frame])):(int(frame+1)*int(NumPixels[frame])-1)]\n",
    "        cloud_phase = phase[(int(frame)*int(NumPixels[frame])):(int(frame+1)*int(NumPixels[frame])-1)]\n",
    "        not_cloud = np.logical_or.reduce((cloud_phase == 0, cloud_phase == 3, cloud_phase == 5, cloud_phase == 6,\n",
    "                                              cloud_phase == 7))\n",
    "        data[not_cloud] = np.nan\n",
    "        data_gridded = interpolate.griddata((Lon,Lat), data, (x,y))\n",
    "        lat_gridded = interpolate.griddata((Lon,Lat), Lat, (x,y))\n",
    "        lon_gridded = interpolate.griddata((Lon,Lat), Lon, (x,y))\n",
    "        lat_bounds = np.logical_or(lat_gridded > cpol_latitude+1.5,\n",
    "                                   lat_gridded < cpol_latitude-1.5)\n",
    "        lon_bounds = np.logical_or(lon_gridded < cpol_longitude-1.5,\n",
    "                                   lon_gridded > cpol_longitude+1.5)\n",
    "        masked_region = np.logical_or.reduce((lat_bounds, lon_bounds, np.isnan(data_gridded), data_gridded < 0,\n",
    "                                              ))\n",
    "        data_masked = np.ma.array(data_gridded)\n",
    "        data_masked = np.ma.masked_where(masked_region, data_gridded)\n",
    "        echo_top_temps_visst.append(data_masked.flatten())\n",
    "        echo_top_heights_cpol.append(eth_cpol.flatten())\n",
    "        hours.append(the_time.hour*np.ones(len(eth_cpol)))\n",
    "    del cdf_data\n",
    "    try:\n",
    "        return np.ma.concatenate(echo_top_heights_cpol), np.ma.concatenate(echo_top_temps_visst), np.concatenate(hours)   \n",
    "    except ValueError as e:\n",
    "        return np.nan*np.ones(len(out_datetimes)), np.nan*np.ones(len(out_datetimes)), np.nan*np.ones(len(out_datetimes))"
   ]
  },
  {
   "cell_type": "code",
   "execution_count": 102,
   "metadata": {},
   "outputs": [
    {
     "name": "stderr",
     "output_type": "stream",
     "text": [
      "/blues/gpfs/home/rjackson/anaconda3/envs/yt_devel/lib/python3.6/site-packages/ipykernel_launcher.py:4: DeprecationWarning: parsing timezone aware datetimes is deprecated; this will raise an error in the future\n",
      "  after removing the cwd from sys.path.\n",
      "/blues/gpfs/home/rjackson/anaconda3/envs/yt_devel/lib/python3.6/site-packages/ipykernel_launcher.py:4: DeprecationWarning: parsing timezone aware datetimes is deprecated; this will raise an error in the future\n",
      "  after removing the cwd from sys.path.\n",
      "/blues/gpfs/home/rjackson/anaconda3/envs/yt_devel/lib/python3.6/site-packages/ipykernel_launcher.py:4: DeprecationWarning: parsing timezone aware datetimes is deprecated; this will raise an error in the future\n",
      "  after removing the cwd from sys.path.\n",
      "/blues/gpfs/home/rjackson/anaconda3/envs/yt_devel/lib/python3.6/site-packages/ipykernel_launcher.py:4: DeprecationWarning: parsing timezone aware datetimes is deprecated; this will raise an error in the future\n",
      "  after removing the cwd from sys.path.\n",
      "/blues/gpfs/home/rjackson/anaconda3/envs/yt_devel/lib/python3.6/site-packages/ipykernel_launcher.py:4: DeprecationWarning: parsing timezone aware datetimes is deprecated; this will raise an error in the future\n",
      "  after removing the cwd from sys.path.\n",
      "/blues/gpfs/home/rjackson/anaconda3/envs/yt_devel/lib/python3.6/site-packages/ipykernel_launcher.py:4: DeprecationWarning: parsing timezone aware datetimes is deprecated; this will raise an error in the future\n",
      "  after removing the cwd from sys.path.\n",
      "/blues/gpfs/home/rjackson/anaconda3/envs/yt_devel/lib/python3.6/site-packages/ipykernel_launcher.py:4: DeprecationWarning: parsing timezone aware datetimes is deprecated; this will raise an error in the future\n",
      "  after removing the cwd from sys.path.\n",
      "/blues/gpfs/home/rjackson/anaconda3/envs/yt_devel/lib/python3.6/site-packages/ipykernel_launcher.py:4: DeprecationWarning: parsing timezone aware datetimes is deprecated; this will raise an error in the future\n",
      "  after removing the cwd from sys.path.\n",
      "/blues/gpfs/home/rjackson/anaconda3/envs/yt_devel/lib/python3.6/site-packages/ipykernel_launcher.py:4: DeprecationWarning: parsing timezone aware datetimes is deprecated; this will raise an error in the future\n",
      "  after removing the cwd from sys.path.\n",
      "/blues/gpfs/home/rjackson/anaconda3/envs/yt_devel/lib/python3.6/site-packages/ipykernel_launcher.py:4: DeprecationWarning: parsing timezone aware datetimes is deprecated; this will raise an error in the future\n",
      "  after removing the cwd from sys.path.\n",
      "/blues/gpfs/home/rjackson/anaconda3/envs/yt_devel/lib/python3.6/site-packages/ipykernel_launcher.py:4: DeprecationWarning: parsing timezone aware datetimes is deprecated; this will raise an error in the future\n",
      "  after removing the cwd from sys.path.\n",
      "/blues/gpfs/home/rjackson/anaconda3/envs/yt_devel/lib/python3.6/site-packages/ipykernel_launcher.py:4: DeprecationWarning: parsing timezone aware datetimes is deprecated; this will raise an error in the future\n",
      "  after removing the cwd from sys.path.\n",
      "/blues/gpfs/home/rjackson/anaconda3/envs/yt_devel/lib/python3.6/site-packages/ipykernel_launcher.py:4: DeprecationWarning: parsing timezone aware datetimes is deprecated; this will raise an error in the future\n",
      "  after removing the cwd from sys.path.\n",
      "/blues/gpfs/home/rjackson/anaconda3/envs/yt_devel/lib/python3.6/site-packages/ipykernel_launcher.py:4: DeprecationWarning: parsing timezone aware datetimes is deprecated; this will raise an error in the future\n",
      "  after removing the cwd from sys.path.\n",
      "/blues/gpfs/home/rjackson/anaconda3/envs/yt_devel/lib/python3.6/site-packages/ipykernel_launcher.py:4: DeprecationWarning: parsing timezone aware datetimes is deprecated; this will raise an error in the future\n",
      "  after removing the cwd from sys.path.\n",
      "/blues/gpfs/home/rjackson/anaconda3/envs/yt_devel/lib/python3.6/site-packages/ipykernel_launcher.py:4: DeprecationWarning: parsing timezone aware datetimes is deprecated; this will raise an error in the future\n",
      "  after removing the cwd from sys.path.\n",
      "/blues/gpfs/home/rjackson/anaconda3/envs/yt_devel/lib/python3.6/site-packages/ipykernel_launcher.py:4: DeprecationWarning: parsing timezone aware datetimes is deprecated; this will raise an error in the future\n",
      "  after removing the cwd from sys.path.\n",
      "/blues/gpfs/home/rjackson/anaconda3/envs/yt_devel/lib/python3.6/site-packages/ipykernel_launcher.py:4: DeprecationWarning: parsing timezone aware datetimes is deprecated; this will raise an error in the future\n",
      "  after removing the cwd from sys.path.\n",
      "/blues/gpfs/home/rjackson/anaconda3/envs/yt_devel/lib/python3.6/site-packages/ipykernel_launcher.py:4: DeprecationWarning: parsing timezone aware datetimes is deprecated; this will raise an error in the future\n",
      "  after removing the cwd from sys.path.\n",
      "/blues/gpfs/home/rjackson/anaconda3/envs/yt_devel/lib/python3.6/site-packages/ipykernel_launcher.py:4: DeprecationWarning: parsing timezone aware datetimes is deprecated; this will raise an error in the future\n",
      "  after removing the cwd from sys.path.\n",
      "/blues/gpfs/home/rjackson/anaconda3/envs/yt_devel/lib/python3.6/site-packages/ipykernel_launcher.py:4: DeprecationWarning: parsing timezone aware datetimes is deprecated; this will raise an error in the future\n",
      "  after removing the cwd from sys.path.\n",
      "/blues/gpfs/home/rjackson/anaconda3/envs/yt_devel/lib/python3.6/site-packages/ipykernel_launcher.py:4: DeprecationWarning: parsing timezone aware datetimes is deprecated; this will raise an error in the future\n",
      "  after removing the cwd from sys.path.\n",
      "/blues/gpfs/home/rjackson/anaconda3/envs/yt_devel/lib/python3.6/site-packages/ipykernel_launcher.py:4: DeprecationWarning: parsing timezone aware datetimes is deprecated; this will raise an error in the future\n",
      "  after removing the cwd from sys.path.\n",
      "/blues/gpfs/home/rjackson/anaconda3/envs/yt_devel/lib/python3.6/site-packages/ipykernel_launcher.py:4: DeprecationWarning: parsing timezone aware datetimes is deprecated; this will raise an error in the future\n",
      "  after removing the cwd from sys.path.\n",
      "/blues/gpfs/home/rjackson/anaconda3/envs/yt_devel/lib/python3.6/site-packages/ipykernel_launcher.py:64: RuntimeWarning: invalid value encountered in greater\n",
      "/blues/gpfs/home/rjackson/anaconda3/envs/yt_devel/lib/python3.6/site-packages/ipykernel_launcher.py:65: RuntimeWarning: invalid value encountered in less\n",
      "/blues/gpfs/home/rjackson/anaconda3/envs/yt_devel/lib/python3.6/site-packages/ipykernel_launcher.py:66: RuntimeWarning: invalid value encountered in less\n",
      "/blues/gpfs/home/rjackson/anaconda3/envs/yt_devel/lib/python3.6/site-packages/ipykernel_launcher.py:67: RuntimeWarning: invalid value encountered in greater\n",
      "/blues/gpfs/home/rjackson/anaconda3/envs/yt_devel/lib/python3.6/site-packages/ipykernel_launcher.py:68: RuntimeWarning: invalid value encountered in less\n"
     ]
    }
   ],
   "source": [
    "cp, visst, dts = get_eth_cpol_and_visst_ctop('/lcrc/group/earthscience/rjackson/visst/twpvisstpx04m1rv4minnisX30.c1.20100202.003000.cdf')"
   ]
  },
  {
   "cell_type": "code",
   "execution_count": 104,
   "metadata": {},
   "outputs": [],
   "source": [
    "cp = np.concatenate(cp)\n",
    "visst = np.concatenate(visst)"
   ]
  },
  {
   "cell_type": "code",
   "execution_count": 111,
   "metadata": {},
   "outputs": [
    {
     "name": "stdout",
     "output_type": "stream",
     "text": [
      "3000.0\n"
     ]
    },
    {
     "name": "stderr",
     "output_type": "stream",
     "text": [
      "/blues/gpfs/home/rjackson/anaconda3/envs/yt_devel/lib/python3.6/site-packages/ipykernel_launcher.py:3: RuntimeWarning: invalid value encountered in greater\n",
      "  This is separate from the ipykernel package so we can avoid doing imports until\n",
      "/blues/gpfs/home/rjackson/anaconda3/envs/yt_devel/lib/python3.6/site-packages/ipykernel_launcher.py:4: RuntimeWarning: invalid value encountered in greater\n",
      "  after removing the cwd from sys.path.\n",
      "/blues/gpfs/home/rjackson/anaconda3/envs/yt_devel/lib/python3.6/site-packages/ipykernel_launcher.py:10: RuntimeWarning: invalid value encountered in less\n",
      "  # Remove the CWD from sys.path while we load stuff.\n",
      "/blues/gpfs/home/rjackson/anaconda3/envs/yt_devel/lib/python3.6/site-packages/numpy/core/fromnumeric.py:688: UserWarning: Warning: 'partition' will ignore the 'mask' of the MaskedArray.\n",
      "  a.partition(kth, axis=axis, kind=kind, order=order)\n"
     ]
    },
    {
     "data": {
      "image/png": "[encoded data removed]",
      "text/plain": [
       "<Figure size 432x288 with 1 Axes>"
      ]
     },
     "metadata": {},
     "output_type": "display_data"
    }
   ],
   "source": [
    "twod_hist, bins_x, bins_y = np.histogram2d(cp[np.logical_and(visst > 3, cp > 1000)]/1e3, \n",
    "                                           visst[np.logical_and(visst > 3, cp > 1000)])\n",
    "plt.pcolormesh(bins_x, bins_y, twod_hist.T)\n",
    "plt.xlabel('CPOL retrieved ETH [km]')\n",
    "plt.ylabel('VISST retrieved CTH [km]')\n",
    "plt.xlim([0,20])\n",
    "plt.ylim([0,20])\n",
    "print(np.nanmedian(cp[cp < 25000]))"
   ]
  },
  {
   "cell_type": "code",
   "execution_count": 333,
   "metadata": {},
   "outputs": [],
   "source": [
    "from dask_jobqueue import SLURMCluster\n",
    "cluster = SLURMCluster(cores=36, project='rainfall', walltime='2:00:00', \n",
    "                       job_cpu=36, memory='128GB')\n",
    "\n",
    "cluster.scale(4)         # Ask for ten workers\n",
    "\n",
    "from dask.distributed import Client\n",
    "client = Client(cluster)  # Connect this local process to remote workers\n",
    "\n",
    "# wait for jobs to arrive, depending on the queue, this may take some time\n",
    "\n",
    "import dask.array as da"
   ]
  },
  {
   "cell_type": "code",
   "execution_count": 335,
   "metadata": {},
   "outputs": [
    {
     "data": {
      "text/html": [
       "<table style=\"border: 2px solid white;\">\n",
       "<tr>\n",
       "<td style=\"vertical-align: top; border: 0px solid white\">\n",
       "<h3>Client</h3>\n",
       "<ul>\n",
       "  <li><b>Scheduler: </b>tcp://140.221.70.6:32814\n",
       "  <li><b>Dashboard: </b><a href='http://140.221.70.6:45028/status' target='_blank'>http://140.221.70.6:45028/status</a>\n",
       "</ul>\n",
       "</td>\n",
       "<td style=\"vertical-align: top; border: 0px solid white\">\n",
       "<h3>Cluster</h3>\n",
       "<ul>\n",
       "  <li><b>Workers: </b>4</li>\n",
       "  <li><b>Cores: </b>144</li>\n",
       "  <li><b>Memory: </b>512.00 GB</li>\n",
       "</ul>\n",
       "</td>\n",
       "</tr>\n",
       "</table>"
      ],
      "text/plain": [
       "<Client: scheduler='tcp://140.221.70.6:32814' processes=4 cores=144>"
      ]
     },
     "execution_count": 335,
     "metadata": {},
     "output_type": "execute_result"
    }
   ],
   "source": [
    "client"
   ]
  },
  {
   "cell_type": "code",
   "execution_count": 350,
   "metadata": {},
   "outputs": [
    {
     "name": "stdout",
     "output_type": "stream",
     "text": [
      "1102 files to process\n",
      "CPU times: user 29 s, sys: 14.4 s, total: 43.4 s\n",
      "Wall time: 1min 56s\n"
     ]
    }
   ],
   "source": [
    "file_list = glob.glob('/lcrc/group/earthscience/rjackson/visst/twpvisstpx04m1rv4minnisX30.c1*.cdf')\n",
    "print(str(len(file_list)) + \" files to process\")\n",
    "bag = db.from_sequence(file_list)\n",
    "\n",
    "%time statistics = bag.map(get_eth_cpol_and_visst_ctop).compute()"
   ]
  },
  {
   "cell_type": "code",
   "execution_count": 332,
   "metadata": {},
   "outputs": [],
   "source": [
    "cluster.stop_all_jobs()"
   ]
  },
  {
   "cell_type": "code",
   "execution_count": 351,
   "metadata": {},
   "outputs": [],
   "source": [
    "cpol = np.concatenate([x[0] for x in statistics])\n",
    "visst = np.concatenate([x[1] for x in statistics])\n",
    "hours = np.concatenate([x[2] for x in statistics])"
   ]
  },
  {
   "cell_type": "code",
   "execution_count": 329,
   "metadata": {},
   "outputs": [
    {
     "name": "stdout",
     "output_type": "stream",
     "text": [
      "(112920795,)\n"
     ]
    }
   ],
   "source": [
    "print(hours.shape)"
   ]
  },
  {
   "cell_type": "code",
   "execution_count": 352,
   "metadata": {},
   "outputs": [],
   "source": [
    "cpol_daytime = np.ma.masked_where(np.logical_or(hours < 9, hours > 22), cpol)\n",
    "cpol_nottwilight =  np.ma.masked_where(np.logical_and(~np.logical_and(hours >= 7, hours <= 11),\n",
    "                                                      ~np.logical_and(hours >= 20, hours <= 24)), cpol)"
   ]
  },
  {
   "cell_type": "code",
   "execution_count": 353,
   "metadata": {},
   "outputs": [
    {
     "name": "stderr",
     "output_type": "stream",
     "text": [
      "/blues/gpfs/home/rjackson/anaconda3/envs/yt_devel/lib/python3.6/site-packages/ipykernel_launcher.py:4: RuntimeWarning: invalid value encountered in greater\n",
      "  after removing the cwd from sys.path.\n",
      "/blues/gpfs/home/rjackson/anaconda3/envs/yt_devel/lib/python3.6/site-packages/ipykernel_launcher.py:4: RuntimeWarning: invalid value encountered in less\n",
      "  after removing the cwd from sys.path.\n",
      "/blues/gpfs/home/rjackson/anaconda3/envs/yt_devel/lib/python3.6/site-packages/ipykernel_launcher.py:5: RuntimeWarning: invalid value encountered in greater\n",
      "  \"\"\"\n",
      "/blues/gpfs/home/rjackson/anaconda3/envs/yt_devel/lib/python3.6/site-packages/ipykernel_launcher.py:5: RuntimeWarning: invalid value encountered in less\n",
      "  \"\"\"\n",
      "/blues/gpfs/home/rjackson/anaconda3/envs/yt_devel/lib/python3.6/site-packages/ipykernel_launcher.py:10: RuntimeWarning: invalid value encountered in greater_equal\n",
      "  # Remove the CWD from sys.path while we load stuff.\n",
      "/blues/gpfs/home/rjackson/anaconda3/envs/yt_devel/lib/python3.6/site-packages/ipykernel_launcher.py:11: RuntimeWarning: invalid value encountered in less\n",
      "  # This is added back by InteractiveShellApp.init_path()\n",
      "/blues/gpfs/home/rjackson/anaconda3/envs/yt_devel/lib/python3.6/site-packages/numpy/lib/nanfunctions.py:184: UserWarning: Warning: converting a masked element to nan.\n",
      "  return a.dtype.type(a / b)\n",
      "/blues/gpfs/home/rjackson/anaconda3/envs/yt_devel/lib/python3.6/site-packages/ipykernel_launcher.py:34: RuntimeWarning: invalid value encountered in less\n",
      "/blues/gpfs/home/rjackson/anaconda3/envs/yt_devel/lib/python3.6/site-packages/numpy/core/fromnumeric.py:688: UserWarning: Warning: 'partition' will ignore the 'mask' of the MaskedArray.\n",
      "  a.partition(kth, axis=axis, kind=kind, order=order)\n"
     ]
    },
    {
     "name": "stdout",
     "output_type": "stream",
     "text": [
      "3000.0\n",
      "[[ 4.025  4.25   4.475]\n",
      " [ 3.525  4.75   6.45 ]\n",
      " [ 3.     5.5    7.5  ]\n",
      " [ 3.     5.5    9.5  ]\n",
      " [ 3.5    5.5   11.   ]\n",
      " [ 3.5    5.5   10.5  ]\n",
      " [ 3.5    6.     9.5  ]\n",
      " [ 3.5    5.5   10.5  ]\n",
      " [ 3.5    5.5   10.   ]\n",
      " [ 3.5    6.5   10.   ]\n",
      " [ 3.5    6.    10.5  ]\n",
      " [ 4.     6.5   10.5  ]\n",
      " [ 4.     7.    11.   ]\n",
      " [ 4.     7.    11.5  ]\n",
      " [ 4.     7.    12.5  ]\n",
      " [ 3.5    7.    12.   ]\n",
      " [ 4.     7.    12.   ]\n",
      " [ 4.     7.    11.5  ]\n",
      " [ 4.     7.5   11.5  ]\n",
      " [ 4.     7.    11.5  ]\n",
      " [ 4.275  7.5   12.   ]\n",
      " [ 4.5    7.5   12.   ]\n",
      " [ 4.     8.    12.5  ]\n",
      " [ 4.     8.    13.   ]\n",
      " [ 4.     8.5   13.   ]\n",
      " [ 4.     8.5   13.5  ]\n",
      " [ 4.     9.    14.   ]\n",
      " [ 4.5    9.5   14.   ]\n",
      " [ 4.5   10.    14.5  ]\n",
      " [ 4.5   10.5   15.   ]\n",
      " [ 5.    11.    15.   ]\n",
      " [ 5.    11.5   15.5  ]\n",
      " [ 5.    12.    16.   ]\n",
      " [   nan    nan    nan]\n",
      " [   nan    nan    nan]\n",
      " [   nan    nan    nan]\n",
      " [   nan    nan    nan]\n",
      " [   nan    nan    nan]\n",
      " [   nan    nan    nan]]\n"
     ]
    },
    {
     "data": {
      "image/png": "[encoded data removed]",
      "text/plain": [
       "<Figure size 432x288 with 2 Axes>"
      ]
     },
     "metadata": {},
     "output_type": "display_data"
    }
   ],
   "source": [
    "avg_bins = np.arange(0, 20, 0.5)\n",
    "quartiles_x = np.nan*np.zeros((len(avg_bins)-1,3))\n",
    "quartiles_y = np.nan*np.zeros((len(avg_bins)-1,3))\n",
    "array2 = cpol_nottwilight[np.logical_and(visst > 0, visst < 16.5)]/1e3\n",
    "array1 = visst[np.logical_and(visst > 0, visst < 16.5)]\n",
    "for i in range(0, 33):\n",
    "    x_restrictions = np.logical_and.reduce((array1 >= avg_bins[i],\n",
    "                                            array1 < avg_bins[i+1],\n",
    "                                            array2.mask == False))\n",
    "    y_restrictions = np.logical_and.reduce((array2 >= avg_bins[i],\n",
    "                                            array2 < avg_bins[i+1],\n",
    "                                            array2.mask == False))\n",
    "    try:\n",
    "        quartiles_y[i,:] = np.nanpercentile(array2[x_restrictions],\n",
    "                                            [5, 50, 95])\n",
    "        quartiles_x[i,:] = np.nanpercentile(array1[y_restrictions],\n",
    "                                            [5, 50, 95])\n",
    "    except:\n",
    "        continue\n",
    "\n",
    "        \n",
    "twod_hist, bins_x, bins_y = np.histogram2d(array1, array2, avg_bins)\n",
    "twod_hist[twod_hist == 0] = np.nan\n",
    "plt.pcolormesh(bins_x, bins_y, twod_hist.T, cmap='coolwarm')\n",
    "plt.plot(bins_x[1:], quartiles_y[:,0], color='k', linestyle='--')\n",
    "plt.plot(bins_x[1:], quartiles_y[:,1], color='k')\n",
    "plt.plot(bins_x[1:], quartiles_y[:,2], color='k', linestyle='--')\n",
    "plt.ylabel('CPOL retrieved ETH [km]')\n",
    "plt.xlabel('VISST retrieved CTH [km]')\n",
    "plt.xlim([0,17.5])\n",
    "plt.ylim([0,17.5])\n",
    "plt.plot([0, 20], [0, 20], color='k')\n",
    "plt.colorbar()\n",
    "print(np.nanmedian(cp[cp < 25000]))\n",
    "print(quartiles_y)"
   ]
  },
  {
   "cell_type": "code",
   "execution_count": null,
   "metadata": {},
   "outputs": [],
   "source": []
  }
 ],
 "metadata": {
  "kernelspec": {
   "display_name": "Python 3",
   "language": "python",
   "name": "python3"
  },
  "language_info": {
   "codemirror_mode": {
    "name": "ipython",
    "version": 3
   },
   "file_extension": ".py",
   "mimetype": "text/x-python",
   "name": "python",
   "nbconvert_exporter": "python",
   "pygments_lexer": "ipython3",
   "version": "3.6.3"
  }
 },
 "nbformat": 4,
 "nbformat_minor": 2
}
