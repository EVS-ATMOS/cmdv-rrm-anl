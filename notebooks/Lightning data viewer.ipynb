{
 "cells": [
  {
   "cell_type": "markdown",
   "metadata": {},
   "source": [
    "## Lightning data viewer"
   ]
  },
  {
   "cell_type": "code",
   "execution_count": 52,
   "metadata": {
    "collapsed": false
   },
   "outputs": [],
   "source": [
    "import pyart\n",
    "import numpy as np\n",
    "import pandas\n",
    "from matplotlib import pyplot as plt\n",
    "from matplotlib import dates\n",
    "from datetime import datetime\n",
    "import time\n",
    "from netCDF4 import Dataset\n",
    "%matplotlib inline\n",
    "import parse\n",
    "import glob\n",
    "from copy import deepcopy\n",
    "import math"
   ]
  },
  {
   "cell_type": "code",
   "execution_count": 53,
   "metadata": {
    "collapsed": false
   },
   "outputs": [],
   "source": [
    "lightning_data_path = '/home/rjackson/data/lightning/'\n",
    "data_path_cpol_cfradial = '/home/rjackson/data/radar/cpol/'\n",
    "scp_netcdf_file_path = '/home/rjackson/data/SCP.cdf'\n",
    "\n",
    "start_time = datetime(2006,1,19,0,0,0)\n",
    "end_time = datetime(2006,1,25,0,0,1)"
   ]
  },
  {
   "cell_type": "code",
   "execution_count": 54,
   "metadata": {
    "collapsed": true
   },
   "outputs": [],
   "source": [
    "# Get a Radar object given a time period in the CPOL dataset\n",
    "def get_radar_from_cpol_cfradial(time):\n",
    "    from datetime import timedelta, datetime\n",
    "    import glob\n",
    "    year_str = \"%04d\" % time.year\n",
    "    month_str = \"%02d\" % time.month\n",
    "    day_str = \"%02d\" % time.day\n",
    "    hour_str = \"%02d\" % time.hour\n",
    "    minute_str = \"%02d\" % time.minute\n",
    "    second_str = \"%02d\" % time.second\n",
    "    \n",
    "    if(time.year <= 2007):\n",
    "        file_name_str = (data_path_cpol_cfradial +\n",
    "                        '/' +\n",
    "                        year_str +\n",
    "                        '/' +\n",
    "                        year_str +\n",
    "                        month_str +\n",
    "                        day_str +\n",
    "                        '/'\n",
    "                        'Gunn_pt_' +\n",
    "                        year_str +\n",
    "                        month_str +\n",
    "                        day_str +\n",
    "                        hour_str +\n",
    "                        minute_str +\n",
    "                        '*.nc')\n",
    "    else:\n",
    "        file_name_str = (data_path_cpol_cfradial + \n",
    "                         '/' +\n",
    "                         year_str + \n",
    "                         '/' +\n",
    "                         year_str + \n",
    "                         month_str +\n",
    "                         day_str +\n",
    "                         '/' +  \n",
    "                         'cfrad.' +\n",
    "                         year_str +\n",
    "                         month_str +\n",
    "                         day_str +\n",
    "                         '_' +\n",
    "                         hour_str +\n",
    "                         minute_str +\n",
    "                         '*.nc')\n",
    "    print('Opening ' + file_name_str)\n",
    "    file_name = glob.glob(file_name_str)\n",
    "    radar = pyart.io.read(file_name[0])\n",
    "    return radar\n",
    "\n",
    "# get_radar_times_cpol\n",
    "#     start_year = Start year of animation\n",
    "#     start_month = Start month of animation\n",
    "#     start_day = Start day of animation\n",
    "#     start_hour = Start hour of animation\n",
    "#     end_year = End year of animation\n",
    "#     end_month = End month of animation\n",
    "#     end_day = End day of animation\n",
    "#     end_minute = End minute of animation\n",
    "#     minute_interval = Interval in minutes between scans (default is 5)\n",
    "# This procedure acquires an array of Radar classes between start_time and end_time  \n",
    "def get_radar_times_cpol_cfradial(start_year, start_month, start_day,\n",
    "                                  start_hour, start_minute, end_year,\n",
    "                                  end_month, end_day, end_hour, \n",
    "                                  end_minute, minute_interval=1):\n",
    "\n",
    "    from datetime import timedelta, datetime\n",
    "    from parse import parse\n",
    "    start_time = datetime(start_year,\n",
    "                          start_month,\n",
    "                          start_day,\n",
    "                          start_hour,\n",
    "                          start_minute,\n",
    "                          )\n",
    "    end_time = datetime(end_year,\n",
    "                        end_month,\n",
    "                        end_day,\n",
    "                        end_hour,\n",
    "                        end_minute,\n",
    "                        )  \n",
    "\n",
    "    deltatime = end_time - start_time\n",
    "\n",
    "\n",
    "    if(deltatime.seconds > 0 or deltatime.minute > 0):\n",
    "        no_days = deltatime.days + 1\n",
    "    else:\n",
    "        no_days = deltatime.days\n",
    "    \n",
    "    if(start_day != end_day):\n",
    "        no_days = no_days + 1\n",
    "        \n",
    "    days = range(0, no_days)\n",
    "    print('We are about to load grid files for ' + str(no_days) + ' days')\n",
    "    \n",
    "    # Find the list of files for each day\n",
    "    cur_time = start_time\n",
    " \n",
    "    file_list = []\n",
    "    time_list = []\n",
    "    date_list_final = []\n",
    "    for i in days:\n",
    "        year_str = \"%04d\" % cur_time.year\n",
    "        day_str = \"%02d\" % cur_time.day\n",
    "        month_str = \"%02d\" % cur_time.month\n",
    "        if(cur_time.year > 2007):\n",
    "            format_str = (data_path_cpol_cfradial + \n",
    "                          '/' +\n",
    "                          year_str + \n",
    "                          '/' +\n",
    "                          year_str +\n",
    "                          month_str +\n",
    "                          day_str +\n",
    "                          '/'\n",
    "                          'cfrad.' +\n",
    "                          year_str +\n",
    "                          month_str +\n",
    "                          day_str +\n",
    "                          '*UNKNOWN_SUR.nc')\n",
    "        else:\n",
    "            format_str = (data_path_cpol_cfradial + \n",
    "                          '/' +\n",
    "                          year_str + \n",
    "                          '/' +\n",
    "                          year_str +\n",
    "                          month_str +\n",
    "                          day_str +\n",
    "                          '/'\n",
    "                          'Gunn_pt*' +\n",
    "                          year_str +\n",
    "                          month_str +\n",
    "                          day_str +\n",
    "                          '*ppi.nc')\n",
    "        \n",
    "        print('Looking for files with format ' + format_str)      \n",
    "        data_list = glob.glob(format_str)\n",
    "        \n",
    "        if(len(data_list) > 0):\n",
    "            day = datetime(cur_time.year, cur_time.month, cur_time.day, 0, 0, 1)\n",
    "            date_list_final.append(day)\n",
    " \n",
    "        for j in range(0, len(data_list)):\n",
    "            file_list.append(data_list[j])\n",
    "        cur_time = cur_time + timedelta(days=1)\n",
    "    \n",
    "    # Parse all of the dates and time in the interval and add them to the time list\n",
    "    past_time = []\n",
    "    for file_name in file_list:\n",
    "        if(not file_name[-6:] == 'ppi.nc'):\n",
    "            new_format_str = (data_path_cpol_cfradial +\n",
    "                              '/' +\n",
    "                              '{:d}' +\n",
    "                              '/' +\n",
    "                              '{:d}' +\n",
    "                              '/' +\n",
    "                              'cfrad.{:d}_{:d}.{:d}_to_{:d}_{:d}.{:d}_Gunn_Pt_v{:d}_UNKNOWN_SUR.nc')\n",
    "            print(file_name)\n",
    "            parameters = parse(new_format_str, file_name)\n",
    "            year_str = np.floor(parameters[2]/10000)\n",
    "            month_str = np.floor((parameters[2]-year_str*10000)/100)\n",
    "            day_str = np.floor(parameters[2]-year_str*10000-month_str*100)\n",
    "            hour_str = np.floor(parameters[3]/10000)\n",
    "            minute_str = np.floor((parameters[3]-hour_str*10000)/100)\n",
    "            second_str = np.floor(parameters[3]-hour_str*10000-minute_str*100)    \n",
    "        else:\n",
    "            date_str = file_name[-20:-6]\n",
    "            year_str = date_str[0:4]\n",
    "            month_str = date_str[4:6]\n",
    "            day_str = date_str[6:8]\n",
    "            hour_str = date_str[8:10]\n",
    "            minute_str = date_str[10:12]\n",
    "            second_str = date_str[12:14]\n",
    "\n",
    "        cur_time = datetime(int(year_str),\n",
    "                            int(month_str),\n",
    "                            int(day_str),\n",
    "                            int(hour_str),\n",
    "                            int(minute_str),\n",
    "                            int(second_str))\n",
    "        time_list.append(cur_time)\n",
    "    \n",
    "    # Sort time list and make sure time are at least xx min apart\n",
    "    time_list.sort()\n",
    "    time_list_sorted = deepcopy(time_list)\n",
    "   \n",
    "    time_list_final = []\n",
    "    past_time = []\n",
    "       \n",
    "    for times in time_list_sorted:      \n",
    "        cur_time = times  \n",
    "        \n",
    "        if(past_time == []):\n",
    "            past_time = cur_time\n",
    "            \n",
    "        if(cur_time >= start_time and cur_time <= end_time):\n",
    "            \n",
    "            time_list_final.append(cur_time)\n",
    "            past_time = cur_time\n",
    "                   \n",
    "    return time_list_final, date_list_final\n"
   ]
  },
  {
   "cell_type": "markdown",
   "metadata": {},
   "source": [
    "## Statistical coverage product for TWP ICE + lightning data"
   ]
  },
  {
   "cell_type": "code",
   "execution_count": 55,
   "metadata": {
    "collapsed": false
   },
   "outputs": [],
   "source": [
    "scp_netcdf = Dataset(scp_netcdf_file_path, mode='r')\n",
    "\n",
    "years = scp_netcdf.variables['years'][:]\n",
    "months = scp_netcdf.variables['months'][:]\n",
    "days = scp_netcdf.variables['days'][:]\n",
    "hours = scp_netcdf.variables['hours'][:]\n",
    "minutes = scp_netcdf.variables['minutes'][:]\n",
    "SCP0 = scp_netcdf.variables['SCP0'][:,:]\n",
    "SCP10 = scp_netcdf.variables['SCP10'][:,:]\n",
    "SCP20 = scp_netcdf.variables['SCP20'][:,:]\n",
    "SCP30 = scp_netcdf.variables['SCP30'][:,:]\n",
    "SCP40 = scp_netcdf.variables['SCP40'][:,:]\n",
    "levels = scp_netcdf.variables['levels'][:]\n",
    "maxz = scp_netcdf.variables['maxz'][:]\n",
    "scp_netcdf.close()"
   ]
  },
  {
   "cell_type": "code",
   "execution_count": 57,
   "metadata": {
    "collapsed": false
   },
   "outputs": [
    {
     "name": "stderr",
     "output_type": "stream",
     "text": [
      "/home/rjackson/anaconda3/lib/python3.5/site-packages/IPython/core/interactiveshell.py:2717: DtypeWarning: Columns (5,16) have mixed types. Specify dtype option on import or set low_memory=False.\n",
      "  interactivity=interactivity, compiler=compiler, result=result)\n"
     ]
    }
   ],
   "source": [
    "date_strs = ['20060119', \n",
    "             '20060120', \n",
    "             '20060121',\n",
    "             '20060122',\n",
    "             '20060123',\n",
    "             '20060124']\n",
    "lats = []\n",
    "lons = []\n",
    "heights = []\n",
    "amplitudes = []\n",
    "datenums = []\n",
    "for strs in date_strs:\n",
    "    data = pandas.read_csv((lightning_data_path + \n",
    "                            'linet_dlr_' +\n",
    "                            strs +\n",
    "                            '_L1V1F2.lin'),\n",
    "                           header=82,\n",
    "                           delim_whitespace=True)\n",
    "\n",
    "    data_matrix = np.ma.array(data.values)\n",
    "    date = data_matrix[:,0]\n",
    "    time_str = data_matrix[:,1]\n",
    "    datetimes = []\n",
    "    i = 0\n",
    "    for days_l in date:\n",
    "        year = np.floor(days_l/1e4)\n",
    "        month = np.floor((days_l-year*1e4)/1e2)\n",
    "        day = days_l-year*1e4-month*1e2\n",
    "        time_obj = time.strptime(time_str[i], '%H:%M:%S.%f')\n",
    "        date_obj = datetime(year=int(year), \n",
    "                            month=int(month), \n",
    "                            day=int(day),\n",
    "                            hour=int(time_obj.tm_hour),\n",
    "                            minute=int(time_obj.tm_min),\n",
    "                            second=int(time_obj.tm_sec))\n",
    "        datetimes.append(dates.date2num(date_obj))\n",
    "        i = i + 1\n",
    "        \n",
    "    datetimes = np.array(datetimes)\n",
    "    lat = data_matrix[:,2]\n",
    "    lon = data_matrix[:,3]\n",
    "    height = data_matrix[:,4]\n",
    "    amplitude = data_matrix[:,6]\n",
    "\n",
    "    # Only include lightning strikes in CPOL's domain\n",
    "    in_domain = np.logical_and(np.logical_and(lat > -12.7, lat < -12.0),\n",
    "                               np.logical_and(lon > 130.4, lon < 131.5))\n",
    "    indicies = np.where(in_domain)\n",
    "    lats.append(lat[indicies])\n",
    "    lons.append(lon[indicies])\n",
    "    heights.append(height[indicies])\n",
    "    amplitudes.append(amplitude[indicies])\n",
    "    datenums.append(datetimes[indicies])\n",
    "\n",
    "lats = np.concatenate(lats)\n",
    "lons = np.concatenate(lons)\n",
    "heights = np.concatenate(heights)\n",
    "amplitudes = np.concatenate(amplitudes)\n",
    "datenums_lightning = np.concatenate(datenums)"
   ]
  },
  {
   "cell_type": "code",
   "execution_count": 58,
   "metadata": {
    "collapsed": false
   },
   "outputs": [
    {
     "data": {
      "text/plain": [
       "<matplotlib.text.Text at 0x7f3c7c0d5908>"
      ]
     },
     "execution_count": 58,
     "metadata": {},
     "output_type": "execute_result"
    },
    {
     "data": {
      "image/png": "[encoded data removed]",
      "text/plain": [
       "<matplotlib.figure.Figure at 0x7f3c7c651278>"
      ]
     },
     "metadata": {},
     "output_type": "display_data"
    }
   ],
   "source": [
    "# Convert times to numerical format\n",
    "datenums = []\n",
    "indicies = []\n",
    "for i in range(0,len(years)):\n",
    "    temp_date = datetime(year=years[i],\n",
    "                         month=months[i],\n",
    "                         day=days[i],\n",
    "                         hour=hours[i],\n",
    "                         minute=minutes[i],\n",
    "                         )\n",
    "    datenums.append(dates.date2num(temp_date))   \n",
    "\n",
    "datenums = np.array(datenums)\n",
    "indicies = [True if b >= dates.date2num(start_time) \n",
    "                 and b <= dates.date2num(end_time) else False for b in datenums]\n",
    "\n",
    "datenums = datenums[np.where(indicies)]\n",
    "years_z = years[np.where(indicies)]\n",
    "months_z = months[np.where(indicies)]\n",
    "days_z = days[np.where(indicies)]\n",
    "hours_z = hours[np.where(indicies)]\n",
    "minutes_z = hours[np.where(indicies)]\n",
    "SCP0z = np.squeeze(SCP0[np.where(indicies),:])\n",
    "SCP10z = np.squeeze(SCP10[np.where(indicies),:])\n",
    "SCP20z = np.squeeze(SCP20[np.where(indicies),:])\n",
    "SCP30z = np.squeeze(SCP30[np.where(indicies),:])\n",
    "SCP40z = np.squeeze(SCP40[np.where(indicies),:])\n",
    "\n",
    "num_dates = len(datenums)\n",
    "\n",
    "datelocs = []\n",
    "for i in range(0, num_dates, int(num_dates/6)):\n",
    "    temp_date = datetime(year=years_z[i],\n",
    "                         month=months_z[i],\n",
    "                         day=days_z[i],\n",
    "                         hour=hours_z[i],\n",
    "                         minute=minutes_z[i],\n",
    "                         )\n",
    "    datelocs.append(temp_date)\n",
    "    \n",
    "x = dates.date2num(datelocs)    \n",
    "\n",
    "\n",
    "# Create meshgrid for contour plot\n",
    "times, lvls = np.meshgrid(datenums,levels)\n",
    "\n",
    "contour_levels = [1, 5, 10,20,30,40]\n",
    "# Plot contour figure\n",
    "plt.figure(figsize=(20,15))\n",
    "\n",
    "plt.subplot(411)\n",
    "CS = plt.pcolormesh(times,lvls,np.transpose(SCP10z))\n",
    "ax = plt.colorbar()\n",
    "plt.clim([0, 100])\n",
    "plt.gca().set_xticks(x)\n",
    "# Set the xtick labels to correspond to just the dates you entered.\n",
    "plt.gca().set_xticklabels([date.strftime(\"%m-%d-%y %H:%M\") for date in datelocs])\n",
    "plt.scatter(datenums_lightning[::10], heights[::10], color='k', marker='x')\n",
    "plt.xlim([times[0,0], times[-1,-1]])\n",
    "plt.ylim([0,20])\n",
    "plt.ylabel('Z [km]')\n",
    "plt.xlabel('Time')\n",
    "plt.title('% of grid level > 10 dBZ')\n",
    "\n",
    "plt.subplot(412)\n",
    "CS = plt.pcolormesh(times,lvls,np.transpose(SCP20z))\n",
    "ax = plt.colorbar()\n",
    "plt.clim([0, 100])\n",
    "plt.gca().set_xticks(x)\n",
    "# Set the xtick labels to correspond to just the dates you entered.\n",
    "plt.gca().set_xticklabels([date.strftime(\"%m-%d-%y %H:%M\") for date in datelocs])\n",
    "plt.scatter(datenums_lightning[::10], heights[::10], color='k', marker='x')\n",
    "plt.xlim([times[0,0], times[-1,-1]])\n",
    "plt.ylim([0,20])\n",
    "plt.ylabel('Z [km]')\n",
    "plt.xlabel('Time')\n",
    "plt.title('% of grid level > 20 dBZ')\n",
    "\n",
    "plt.subplot(413)\n",
    "CS = plt.pcolormesh(times,lvls,np.transpose(SCP30z))\n",
    "ax = plt.colorbar()\n",
    "plt.clim([0, 100])\n",
    "plt.gca().set_xticks(x)\n",
    "# Set the xtick labels to correspond to just the dates you entered.\n",
    "plt.gca().set_xticklabels([date.strftime(\"%m-%d-%y %H:%M\") for date in datelocs])\n",
    "plt.scatter(datenums_lightning[::10], heights[::10], color='k', marker='x')\n",
    "plt.xlim([times[0,0], times[-1,-1]])\n",
    "plt.ylim([0,20])\n",
    "plt.ylabel('Z [km]')\n",
    "plt.xlabel('Time')\n",
    "plt.title('% of grid level > 30 dBZ')\n",
    "\n",
    "plt.subplot(414)\n",
    "CS = plt.pcolormesh(times,lvls,np.transpose(SCP40z))\n",
    "ax = plt.colorbar()\n",
    "plt.clim([0, 20])\n",
    "plt.gca().set_xticks(x)\n",
    "# Set the xtick labels to correspond to just the dates you entered.\n",
    "plt.gca().set_xticklabels([date.strftime(\"%m-%d-%y %H:%M\") for date in datelocs])\n",
    "plt.scatter(datenums_lightning[::10], heights[::10], color='k', marker='x')\n",
    "plt.xlim([times[0,0], times[-1,-1]])\n",
    "plt.ylim([0,20])\n",
    "plt.ylabel('Z [km]')\n",
    "plt.xlabel('Time')\n",
    "plt.title('% of grid level > 40 dBZ')"
   ]
  },
  {
   "cell_type": "markdown",
   "metadata": {},
   "source": [
    "## QVPs TWP-ICE"
   ]
  },
  {
   "cell_type": "code",
   "execution_count": 67,
   "metadata": {
    "collapsed": false
   },
   "outputs": [
    {
     "name": "stdout",
     "output_type": "stream",
     "text": [
      "We are about to load grid files for 8 days\n",
      "Looking for files with format /home/rjackson/data/radar/cpol//2006/20060119/Gunn_pt*20060119*ppi.nc\n",
      "Looking for files with format /home/rjackson/data/radar/cpol//2006/20060120/Gunn_pt*20060120*ppi.nc\n",
      "Looking for files with format /home/rjackson/data/radar/cpol//2006/20060121/Gunn_pt*20060121*ppi.nc\n",
      "Looking for files with format /home/rjackson/data/radar/cpol//2006/20060122/Gunn_pt*20060122*ppi.nc\n",
      "Looking for files with format /home/rjackson/data/radar/cpol//2006/20060123/Gunn_pt*20060123*ppi.nc\n",
      "Looking for files with format /home/rjackson/data/radar/cpol//2006/20060124/Gunn_pt*20060124*ppi.nc\n",
      "Looking for files with format /home/rjackson/data/radar/cpol//2006/20060125/Gunn_pt*20060125*ppi.nc\n",
      "Looking for files with format /home/rjackson/data/radar/cpol//2006/20060126/Gunn_pt*20060126*ppi.nc\n"
     ]
    }
   ],
   "source": [
    "times = get_radar_times_cpol_cfradial(2006,1,19,0,1,\n",
    "                                      2006,1,25,0,2)"
   ]
  },
  {
   "cell_type": "code",
   "execution_count": null,
   "metadata": {
    "collapsed": false
   },
   "outputs": [
    {
     "name": "stdout",
     "output_type": "stream",
     "text": [
      "Opening /home/rjackson/data/radar/cpol//2006/20060119/Gunn_pt_200601190010*.nc\n",
      "(242, 480)\n",
      "Opening /home/rjackson/data/radar/cpol//2006/20060119/Gunn_pt_200601190020*.nc\n"
     ]
    },
    {
     "name": "stderr",
     "output_type": "stream",
     "text": [
      "/home/rjackson/anaconda3/lib/python3.5/site-packages/ipykernel/__main__.py:24: MaskedArrayFutureWarning: setting an item on a masked array which has a shared mask will not copy the mask and also change the original mask array in the future.\n",
      "Check the NumPy 1.11 release notes for more information.\n"
     ]
    },
    {
     "name": "stdout",
     "output_type": "stream",
     "text": [
      "(242, 480)\n",
      "Opening /home/rjackson/data/radar/cpol//2006/20060119/Gunn_pt_200601190030*.nc\n"
     ]
    },
    {
     "name": "stderr",
     "output_type": "stream",
     "text": [
      "/home/rjackson/anaconda3/lib/python3.5/site-packages/ipykernel/__main__.py:24: MaskedArrayFutureWarning: setting an item on a masked array which has a shared mask will not copy the mask and also change the original mask array in the future.\n",
      "Check the NumPy 1.11 release notes for more information.\n"
     ]
    },
    {
     "name": "stdout",
     "output_type": "stream",
     "text": [
      "(242, 480)\n",
      "Opening /home/rjackson/data/radar/cpol//2006/20060119/Gunn_pt_200601190040*.nc\n"
     ]
    },
    {
     "name": "stderr",
     "output_type": "stream",
     "text": [
      "/home/rjackson/anaconda3/lib/python3.5/site-packages/ipykernel/__main__.py:24: MaskedArrayFutureWarning: setting an item on a masked array which has a shared mask will not copy the mask and also change the original mask array in the future.\n",
      "Check the NumPy 1.11 release notes for more information.\n"
     ]
    },
    {
     "name": "stdout",
     "output_type": "stream",
     "text": [
      "(242, 480)\n",
      "Opening /home/rjackson/data/radar/cpol//2006/20060119/Gunn_pt_200601190050*.nc\n"
     ]
    },
    {
     "name": "stderr",
     "output_type": "stream",
     "text": [
      "/home/rjackson/anaconda3/lib/python3.5/site-packages/ipykernel/__main__.py:24: MaskedArrayFutureWarning: setting an item on a masked array which has a shared mask will not copy the mask and also change the original mask array in the future.\n",
      "Check the NumPy 1.11 release notes for more information.\n"
     ]
    },
    {
     "name": "stdout",
     "output_type": "stream",
     "text": [
      "(242, 480)\n",
      "Opening /home/rjackson/data/radar/cpol//2006/20060119/Gunn_pt_200601190100*.nc\n"
     ]
    },
    {
     "name": "stderr",
     "output_type": "stream",
     "text": [
      "/home/rjackson/anaconda3/lib/python3.5/site-packages/ipykernel/__main__.py:24: MaskedArrayFutureWarning: setting an item on a masked array which has a shared mask will not copy the mask and also change the original mask array in the future.\n",
      "Check the NumPy 1.11 release notes for more information.\n"
     ]
    },
    {
     "name": "stdout",
     "output_type": "stream",
     "text": [
      "(242, 480)\n",
      "Opening /home/rjackson/data/radar/cpol//2006/20060119/Gunn_pt_200601190110*.nc\n"
     ]
    },
    {
     "name": "stderr",
     "output_type": "stream",
     "text": [
      "/home/rjackson/anaconda3/lib/python3.5/site-packages/ipykernel/__main__.py:24: MaskedArrayFutureWarning: setting an item on a masked array which has a shared mask will not copy the mask and also change the original mask array in the future.\n",
      "Check the NumPy 1.11 release notes for more information.\n"
     ]
    },
    {
     "name": "stdout",
     "output_type": "stream",
     "text": [
      "(242, 480)\n",
      "Opening /home/rjackson/data/radar/cpol//2006/20060119/Gunn_pt_200601190120*.nc\n"
     ]
    },
    {
     "name": "stderr",
     "output_type": "stream",
     "text": [
      "/home/rjackson/anaconda3/lib/python3.5/site-packages/ipykernel/__main__.py:24: MaskedArrayFutureWarning: setting an item on a masked array which has a shared mask will not copy the mask and also change the original mask array in the future.\n",
      "Check the NumPy 1.11 release notes for more information.\n"
     ]
    },
    {
     "name": "stdout",
     "output_type": "stream",
     "text": [
      "(242, 480)\n",
      "Opening /home/rjackson/data/radar/cpol//2006/20060119/Gunn_pt_200601190130*.nc\n"
     ]
    },
    {
     "name": "stderr",
     "output_type": "stream",
     "text": [
      "/home/rjackson/anaconda3/lib/python3.5/site-packages/ipykernel/__main__.py:24: MaskedArrayFutureWarning: setting an item on a masked array which has a shared mask will not copy the mask and also change the original mask array in the future.\n",
      "Check the NumPy 1.11 release notes for more information.\n"
     ]
    },
    {
     "name": "stdout",
     "output_type": "stream",
     "text": [
      "(242, 480)\n",
      "Opening /home/rjackson/data/radar/cpol//2006/20060119/Gunn_pt_200601190140*.nc\n"
     ]
    },
    {
     "name": "stderr",
     "output_type": "stream",
     "text": [
      "/home/rjackson/anaconda3/lib/python3.5/site-packages/ipykernel/__main__.py:24: MaskedArrayFutureWarning: setting an item on a masked array which has a shared mask will not copy the mask and also change the original mask array in the future.\n",
      "Check the NumPy 1.11 release notes for more information.\n"
     ]
    },
    {
     "name": "stdout",
     "output_type": "stream",
     "text": [
      "(242, 480)\n",
      "Opening /home/rjackson/data/radar/cpol//2006/20060119/Gunn_pt_200601190150*.nc\n"
     ]
    },
    {
     "name": "stderr",
     "output_type": "stream",
     "text": [
      "/home/rjackson/anaconda3/lib/python3.5/site-packages/ipykernel/__main__.py:24: MaskedArrayFutureWarning: setting an item on a masked array which has a shared mask will not copy the mask and also change the original mask array in the future.\n",
      "Check the NumPy 1.11 release notes for more information.\n"
     ]
    },
    {
     "name": "stdout",
     "output_type": "stream",
     "text": [
      "(242, 480)\n",
      "Opening /home/rjackson/data/radar/cpol//2006/20060119/Gunn_pt_200601190200*.nc\n"
     ]
    },
    {
     "name": "stderr",
     "output_type": "stream",
     "text": [
      "/home/rjackson/anaconda3/lib/python3.5/site-packages/ipykernel/__main__.py:24: MaskedArrayFutureWarning: setting an item on a masked array which has a shared mask will not copy the mask and also change the original mask array in the future.\n",
      "Check the NumPy 1.11 release notes for more information.\n"
     ]
    },
    {
     "name": "stdout",
     "output_type": "stream",
     "text": [
      "(242, 480)\n",
      "Opening /home/rjackson/data/radar/cpol//2006/20060119/Gunn_pt_200601190210*.nc\n"
     ]
    },
    {
     "name": "stderr",
     "output_type": "stream",
     "text": [
      "/home/rjackson/anaconda3/lib/python3.5/site-packages/ipykernel/__main__.py:24: MaskedArrayFutureWarning: setting an item on a masked array which has a shared mask will not copy the mask and also change the original mask array in the future.\n",
      "Check the NumPy 1.11 release notes for more information.\n"
     ]
    },
    {
     "name": "stdout",
     "output_type": "stream",
     "text": [
      "(242, 480)\n",
      "Opening /home/rjackson/data/radar/cpol//2006/20060119/Gunn_pt_200601190220*.nc\n"
     ]
    },
    {
     "name": "stderr",
     "output_type": "stream",
     "text": [
      "/home/rjackson/anaconda3/lib/python3.5/site-packages/ipykernel/__main__.py:24: MaskedArrayFutureWarning: setting an item on a masked array which has a shared mask will not copy the mask and also change the original mask array in the future.\n",
      "Check the NumPy 1.11 release notes for more information.\n"
     ]
    },
    {
     "name": "stdout",
     "output_type": "stream",
     "text": [
      "(242, 480)\n",
      "Opening /home/rjackson/data/radar/cpol//2006/20060119/Gunn_pt_200601190230*.nc\n"
     ]
    },
    {
     "name": "stderr",
     "output_type": "stream",
     "text": [
      "/home/rjackson/anaconda3/lib/python3.5/site-packages/ipykernel/__main__.py:24: MaskedArrayFutureWarning: setting an item on a masked array which has a shared mask will not copy the mask and also change the original mask array in the future.\n",
      "Check the NumPy 1.11 release notes for more information.\n"
     ]
    },
    {
     "name": "stdout",
     "output_type": "stream",
     "text": [
      "(242, 480)\n",
      "Opening /home/rjackson/data/radar/cpol//2006/20060119/Gunn_pt_200601190240*.nc\n"
     ]
    },
    {
     "name": "stderr",
     "output_type": "stream",
     "text": [
      "/home/rjackson/anaconda3/lib/python3.5/site-packages/ipykernel/__main__.py:24: MaskedArrayFutureWarning: setting an item on a masked array which has a shared mask will not copy the mask and also change the original mask array in the future.\n",
      "Check the NumPy 1.11 release notes for more information.\n"
     ]
    },
    {
     "name": "stdout",
     "output_type": "stream",
     "text": [
      "(242, 480)\n",
      "Opening /home/rjackson/data/radar/cpol//2006/20060119/Gunn_pt_200601190250*.nc\n"
     ]
    },
    {
     "name": "stderr",
     "output_type": "stream",
     "text": [
      "/home/rjackson/anaconda3/lib/python3.5/site-packages/ipykernel/__main__.py:24: MaskedArrayFutureWarning: setting an item on a masked array which has a shared mask will not copy the mask and also change the original mask array in the future.\n",
      "Check the NumPy 1.11 release notes for more information.\n"
     ]
    },
    {
     "name": "stdout",
     "output_type": "stream",
     "text": [
      "(242, 480)\n",
      "Opening /home/rjackson/data/radar/cpol//2006/20060119/Gunn_pt_200601190300*.nc\n"
     ]
    },
    {
     "name": "stderr",
     "output_type": "stream",
     "text": [
      "/home/rjackson/anaconda3/lib/python3.5/site-packages/ipykernel/__main__.py:24: MaskedArrayFutureWarning: setting an item on a masked array which has a shared mask will not copy the mask and also change the original mask array in the future.\n",
      "Check the NumPy 1.11 release notes for more information.\n"
     ]
    },
    {
     "name": "stdout",
     "output_type": "stream",
     "text": [
      "(242, 480)\n",
      "Opening /home/rjackson/data/radar/cpol//2006/20060119/Gunn_pt_200601190310*.nc\n"
     ]
    },
    {
     "name": "stderr",
     "output_type": "stream",
     "text": [
      "/home/rjackson/anaconda3/lib/python3.5/site-packages/ipykernel/__main__.py:24: MaskedArrayFutureWarning: setting an item on a masked array which has a shared mask will not copy the mask and also change the original mask array in the future.\n",
      "Check the NumPy 1.11 release notes for more information.\n"
     ]
    },
    {
     "name": "stdout",
     "output_type": "stream",
     "text": [
      "(242, 480)\n",
      "Opening /home/rjackson/data/radar/cpol//2006/20060119/Gunn_pt_200601190320*.nc\n"
     ]
    },
    {
     "name": "stderr",
     "output_type": "stream",
     "text": [
      "/home/rjackson/anaconda3/lib/python3.5/site-packages/ipykernel/__main__.py:24: MaskedArrayFutureWarning: setting an item on a masked array which has a shared mask will not copy the mask and also change the original mask array in the future.\n",
      "Check the NumPy 1.11 release notes for more information.\n"
     ]
    },
    {
     "name": "stdout",
     "output_type": "stream",
     "text": [
      "(242, 480)\n",
      "Opening /home/rjackson/data/radar/cpol//2006/20060119/Gunn_pt_200601190330*.nc\n"
     ]
    },
    {
     "name": "stderr",
     "output_type": "stream",
     "text": [
      "/home/rjackson/anaconda3/lib/python3.5/site-packages/ipykernel/__main__.py:24: MaskedArrayFutureWarning: setting an item on a masked array which has a shared mask will not copy the mask and also change the original mask array in the future.\n",
      "Check the NumPy 1.11 release notes for more information.\n"
     ]
    },
    {
     "name": "stdout",
     "output_type": "stream",
     "text": [
      "(242, 480)\n",
      "Opening /home/rjackson/data/radar/cpol//2006/20060119/Gunn_pt_200601190340*.nc\n"
     ]
    },
    {
     "name": "stderr",
     "output_type": "stream",
     "text": [
      "/home/rjackson/anaconda3/lib/python3.5/site-packages/ipykernel/__main__.py:24: MaskedArrayFutureWarning: setting an item on a masked array which has a shared mask will not copy the mask and also change the original mask array in the future.\n",
      "Check the NumPy 1.11 release notes for more information.\n"
     ]
    },
    {
     "name": "stdout",
     "output_type": "stream",
     "text": [
      "(242, 480)\n",
      "Opening /home/rjackson/data/radar/cpol//2006/20060119/Gunn_pt_200601190350*.nc\n"
     ]
    },
    {
     "name": "stderr",
     "output_type": "stream",
     "text": [
      "/home/rjackson/anaconda3/lib/python3.5/site-packages/ipykernel/__main__.py:24: MaskedArrayFutureWarning: setting an item on a masked array which has a shared mask will not copy the mask and also change the original mask array in the future.\n",
      "Check the NumPy 1.11 release notes for more information.\n"
     ]
    },
    {
     "name": "stdout",
     "output_type": "stream",
     "text": [
      "(242, 480)\n",
      "Opening /home/rjackson/data/radar/cpol//2006/20060119/Gunn_pt_200601190400*.nc\n"
     ]
    },
    {
     "name": "stderr",
     "output_type": "stream",
     "text": [
      "/home/rjackson/anaconda3/lib/python3.5/site-packages/ipykernel/__main__.py:24: MaskedArrayFutureWarning: setting an item on a masked array which has a shared mask will not copy the mask and also change the original mask array in the future.\n",
      "Check the NumPy 1.11 release notes for more information.\n"
     ]
    },
    {
     "name": "stdout",
     "output_type": "stream",
     "text": [
      "(242, 480)\n",
      "Opening /home/rjackson/data/radar/cpol//2006/20060119/Gunn_pt_200601190410*.nc\n"
     ]
    },
    {
     "name": "stderr",
     "output_type": "stream",
     "text": [
      "/home/rjackson/anaconda3/lib/python3.5/site-packages/ipykernel/__main__.py:24: MaskedArrayFutureWarning: setting an item on a masked array which has a shared mask will not copy the mask and also change the original mask array in the future.\n",
      "Check the NumPy 1.11 release notes for more information.\n"
     ]
    },
    {
     "name": "stdout",
     "output_type": "stream",
     "text": [
      "(242, 480)\n",
      "Opening /home/rjackson/data/radar/cpol//2006/20060119/Gunn_pt_200601190420*.nc\n"
     ]
    },
    {
     "name": "stderr",
     "output_type": "stream",
     "text": [
      "/home/rjackson/anaconda3/lib/python3.5/site-packages/ipykernel/__main__.py:24: MaskedArrayFutureWarning: setting an item on a masked array which has a shared mask will not copy the mask and also change the original mask array in the future.\n",
      "Check the NumPy 1.11 release notes for more information.\n"
     ]
    },
    {
     "name": "stdout",
     "output_type": "stream",
     "text": [
      "(242, 480)\n",
      "Opening /home/rjackson/data/radar/cpol//2006/20060119/Gunn_pt_200601190430*.nc\n"
     ]
    },
    {
     "name": "stderr",
     "output_type": "stream",
     "text": [
      "/home/rjackson/anaconda3/lib/python3.5/site-packages/ipykernel/__main__.py:24: MaskedArrayFutureWarning: setting an item on a masked array which has a shared mask will not copy the mask and also change the original mask array in the future.\n",
      "Check the NumPy 1.11 release notes for more information.\n"
     ]
    },
    {
     "name": "stdout",
     "output_type": "stream",
     "text": [
      "(242, 480)\n",
      "Opening /home/rjackson/data/radar/cpol//2006/20060119/Gunn_pt_200601190440*.nc\n"
     ]
    },
    {
     "name": "stderr",
     "output_type": "stream",
     "text": [
      "/home/rjackson/anaconda3/lib/python3.5/site-packages/ipykernel/__main__.py:24: MaskedArrayFutureWarning: setting an item on a masked array which has a shared mask will not copy the mask and also change the original mask array in the future.\n",
      "Check the NumPy 1.11 release notes for more information.\n"
     ]
    },
    {
     "name": "stdout",
     "output_type": "stream",
     "text": [
      "(242, 480)\n",
      "Opening /home/rjackson/data/radar/cpol//2006/20060119/Gunn_pt_200601190450*.nc\n"
     ]
    },
    {
     "name": "stderr",
     "output_type": "stream",
     "text": [
      "/home/rjackson/anaconda3/lib/python3.5/site-packages/ipykernel/__main__.py:24: MaskedArrayFutureWarning: setting an item on a masked array which has a shared mask will not copy the mask and also change the original mask array in the future.\n",
      "Check the NumPy 1.11 release notes for more information.\n"
     ]
    },
    {
     "name": "stdout",
     "output_type": "stream",
     "text": [
      "(242, 480)\n",
      "Opening /home/rjackson/data/radar/cpol//2006/20060119/Gunn_pt_200601190500*.nc\n"
     ]
    },
    {
     "name": "stderr",
     "output_type": "stream",
     "text": [
      "/home/rjackson/anaconda3/lib/python3.5/site-packages/ipykernel/__main__.py:24: MaskedArrayFutureWarning: setting an item on a masked array which has a shared mask will not copy the mask and also change the original mask array in the future.\n",
      "Check the NumPy 1.11 release notes for more information.\n"
     ]
    },
    {
     "name": "stdout",
     "output_type": "stream",
     "text": [
      "(242, 480)\n",
      "Opening /home/rjackson/data/radar/cpol//2006/20060119/Gunn_pt_200601190510*.nc\n"
     ]
    },
    {
     "name": "stderr",
     "output_type": "stream",
     "text": [
      "/home/rjackson/anaconda3/lib/python3.5/site-packages/ipykernel/__main__.py:24: MaskedArrayFutureWarning: setting an item on a masked array which has a shared mask will not copy the mask and also change the original mask array in the future.\n",
      "Check the NumPy 1.11 release notes for more information.\n"
     ]
    },
    {
     "name": "stdout",
     "output_type": "stream",
     "text": [
      "(242, 480)\n",
      "Opening /home/rjackson/data/radar/cpol//2006/20060119/Gunn_pt_200601190520*.nc\n"
     ]
    },
    {
     "name": "stderr",
     "output_type": "stream",
     "text": [
      "/home/rjackson/anaconda3/lib/python3.5/site-packages/ipykernel/__main__.py:24: MaskedArrayFutureWarning: setting an item on a masked array which has a shared mask will not copy the mask and also change the original mask array in the future.\n",
      "Check the NumPy 1.11 release notes for more information.\n"
     ]
    },
    {
     "name": "stdout",
     "output_type": "stream",
     "text": [
      "(242, 480)\n",
      "Opening /home/rjackson/data/radar/cpol//2006/20060119/Gunn_pt_200601190530*.nc\n"
     ]
    },
    {
     "name": "stderr",
     "output_type": "stream",
     "text": [
      "/home/rjackson/anaconda3/lib/python3.5/site-packages/ipykernel/__main__.py:24: MaskedArrayFutureWarning: setting an item on a masked array which has a shared mask will not copy the mask and also change the original mask array in the future.\n",
      "Check the NumPy 1.11 release notes for more information.\n"
     ]
    },
    {
     "name": "stdout",
     "output_type": "stream",
     "text": [
      "(242, 480)\n",
      "Opening /home/rjackson/data/radar/cpol//2006/20060119/Gunn_pt_200601190540*.nc\n"
     ]
    },
    {
     "name": "stderr",
     "output_type": "stream",
     "text": [
      "/home/rjackson/anaconda3/lib/python3.5/site-packages/ipykernel/__main__.py:24: MaskedArrayFutureWarning: setting an item on a masked array which has a shared mask will not copy the mask and also change the original mask array in the future.\n",
      "Check the NumPy 1.11 release notes for more information.\n"
     ]
    },
    {
     "name": "stdout",
     "output_type": "stream",
     "text": [
      "(242, 480)\n",
      "Opening /home/rjackson/data/radar/cpol//2006/20060119/Gunn_pt_200601190550*.nc\n"
     ]
    },
    {
     "name": "stderr",
     "output_type": "stream",
     "text": [
      "/home/rjackson/anaconda3/lib/python3.5/site-packages/ipykernel/__main__.py:24: MaskedArrayFutureWarning: setting an item on a masked array which has a shared mask will not copy the mask and also change the original mask array in the future.\n",
      "Check the NumPy 1.11 release notes for more information.\n"
     ]
    },
    {
     "name": "stdout",
     "output_type": "stream",
     "text": [
      "(242, 480)\n",
      "Opening /home/rjackson/data/radar/cpol//2006/20060119/Gunn_pt_200601190600*.nc\n"
     ]
    },
    {
     "name": "stderr",
     "output_type": "stream",
     "text": [
      "/home/rjackson/anaconda3/lib/python3.5/site-packages/ipykernel/__main__.py:24: MaskedArrayFutureWarning: setting an item on a masked array which has a shared mask will not copy the mask and also change the original mask array in the future.\n",
      "Check the NumPy 1.11 release notes for more information.\n"
     ]
    },
    {
     "name": "stdout",
     "output_type": "stream",
     "text": [
      "(241, 480)\n",
      "Opening /home/rjackson/data/radar/cpol//2006/20060119/Gunn_pt_200601190610*.nc\n"
     ]
    },
    {
     "name": "stderr",
     "output_type": "stream",
     "text": [
      "/home/rjackson/anaconda3/lib/python3.5/site-packages/ipykernel/__main__.py:24: MaskedArrayFutureWarning: setting an item on a masked array which has a shared mask will not copy the mask and also change the original mask array in the future.\n",
      "Check the NumPy 1.11 release notes for more information.\n"
     ]
    },
    {
     "name": "stdout",
     "output_type": "stream",
     "text": [
      "(241, 480)\n",
      "Opening /home/rjackson/data/radar/cpol//2006/20060119/Gunn_pt_200601190620*.nc\n"
     ]
    },
    {
     "name": "stderr",
     "output_type": "stream",
     "text": [
      "/home/rjackson/anaconda3/lib/python3.5/site-packages/ipykernel/__main__.py:24: MaskedArrayFutureWarning: setting an item on a masked array which has a shared mask will not copy the mask and also change the original mask array in the future.\n",
      "Check the NumPy 1.11 release notes for more information.\n"
     ]
    },
    {
     "name": "stdout",
     "output_type": "stream",
     "text": [
      "(242, 480)\n",
      "Opening /home/rjackson/data/radar/cpol//2006/20060119/Gunn_pt_200601190630*.nc\n"
     ]
    },
    {
     "name": "stderr",
     "output_type": "stream",
     "text": [
      "/home/rjackson/anaconda3/lib/python3.5/site-packages/ipykernel/__main__.py:24: MaskedArrayFutureWarning: setting an item on a masked array which has a shared mask will not copy the mask and also change the original mask array in the future.\n",
      "Check the NumPy 1.11 release notes for more information.\n"
     ]
    },
    {
     "name": "stdout",
     "output_type": "stream",
     "text": [
      "(242, 480)\n",
      "Opening /home/rjackson/data/radar/cpol//2006/20060119/Gunn_pt_200601190640*.nc\n"
     ]
    },
    {
     "name": "stderr",
     "output_type": "stream",
     "text": [
      "/home/rjackson/anaconda3/lib/python3.5/site-packages/ipykernel/__main__.py:24: MaskedArrayFutureWarning: setting an item on a masked array which has a shared mask will not copy the mask and also change the original mask array in the future.\n",
      "Check the NumPy 1.11 release notes for more information.\n"
     ]
    },
    {
     "name": "stdout",
     "output_type": "stream",
     "text": [
      "(242, 480)\n",
      "Opening /home/rjackson/data/radar/cpol//2006/20060119/Gunn_pt_200601190650*.nc\n"
     ]
    },
    {
     "name": "stderr",
     "output_type": "stream",
     "text": [
      "/home/rjackson/anaconda3/lib/python3.5/site-packages/ipykernel/__main__.py:24: MaskedArrayFutureWarning: setting an item on a masked array which has a shared mask will not copy the mask and also change the original mask array in the future.\n",
      "Check the NumPy 1.11 release notes for more information.\n"
     ]
    },
    {
     "name": "stdout",
     "output_type": "stream",
     "text": [
      "(242, 480)\n",
      "Opening /home/rjackson/data/radar/cpol//2006/20060119/Gunn_pt_200601190700*.nc\n"
     ]
    },
    {
     "name": "stderr",
     "output_type": "stream",
     "text": [
      "/home/rjackson/anaconda3/lib/python3.5/site-packages/ipykernel/__main__.py:24: MaskedArrayFutureWarning: setting an item on a masked array which has a shared mask will not copy the mask and also change the original mask array in the future.\n",
      "Check the NumPy 1.11 release notes for more information.\n"
     ]
    },
    {
     "name": "stdout",
     "output_type": "stream",
     "text": [
      "(242, 480)\n",
      "Opening /home/rjackson/data/radar/cpol//2006/20060119/Gunn_pt_200601190710*.nc\n"
     ]
    },
    {
     "name": "stderr",
     "output_type": "stream",
     "text": [
      "/home/rjackson/anaconda3/lib/python3.5/site-packages/ipykernel/__main__.py:24: MaskedArrayFutureWarning: setting an item on a masked array which has a shared mask will not copy the mask and also change the original mask array in the future.\n",
      "Check the NumPy 1.11 release notes for more information.\n"
     ]
    },
    {
     "name": "stdout",
     "output_type": "stream",
     "text": [
      "(242, 480)\n",
      "Opening /home/rjackson/data/radar/cpol//2006/20060119/Gunn_pt_200601190720*.nc\n"
     ]
    },
    {
     "name": "stderr",
     "output_type": "stream",
     "text": [
      "/home/rjackson/anaconda3/lib/python3.5/site-packages/ipykernel/__main__.py:24: MaskedArrayFutureWarning: setting an item on a masked array which has a shared mask will not copy the mask and also change the original mask array in the future.\n",
      "Check the NumPy 1.11 release notes for more information.\n"
     ]
    },
    {
     "name": "stdout",
     "output_type": "stream",
     "text": [
      "(242, 480)\n",
      "Opening /home/rjackson/data/radar/cpol//2006/20060119/Gunn_pt_200601190730*.nc\n"
     ]
    },
    {
     "name": "stderr",
     "output_type": "stream",
     "text": [
      "/home/rjackson/anaconda3/lib/python3.5/site-packages/ipykernel/__main__.py:24: MaskedArrayFutureWarning: setting an item on a masked array which has a shared mask will not copy the mask and also change the original mask array in the future.\n",
      "Check the NumPy 1.11 release notes for more information.\n"
     ]
    },
    {
     "name": "stdout",
     "output_type": "stream",
     "text": [
      "(242, 480)\n",
      "Opening /home/rjackson/data/radar/cpol//2006/20060119/Gunn_pt_200601190740*.nc\n"
     ]
    },
    {
     "name": "stderr",
     "output_type": "stream",
     "text": [
      "/home/rjackson/anaconda3/lib/python3.5/site-packages/ipykernel/__main__.py:24: MaskedArrayFutureWarning: setting an item on a masked array which has a shared mask will not copy the mask and also change the original mask array in the future.\n",
      "Check the NumPy 1.11 release notes for more information.\n"
     ]
    },
    {
     "name": "stdout",
     "output_type": "stream",
     "text": [
      "(242, 480)\n",
      "Opening /home/rjackson/data/radar/cpol//2006/20060119/Gunn_pt_200601190750*.nc\n"
     ]
    },
    {
     "name": "stderr",
     "output_type": "stream",
     "text": [
      "/home/rjackson/anaconda3/lib/python3.5/site-packages/ipykernel/__main__.py:24: MaskedArrayFutureWarning: setting an item on a masked array which has a shared mask will not copy the mask and also change the original mask array in the future.\n",
      "Check the NumPy 1.11 release notes for more information.\n"
     ]
    },
    {
     "name": "stdout",
     "output_type": "stream",
     "text": [
      "(242, 480)\n",
      "Opening /home/rjackson/data/radar/cpol//2006/20060119/Gunn_pt_200601190800*.nc\n"
     ]
    },
    {
     "name": "stderr",
     "output_type": "stream",
     "text": [
      "/home/rjackson/anaconda3/lib/python3.5/site-packages/ipykernel/__main__.py:24: MaskedArrayFutureWarning: setting an item on a masked array which has a shared mask will not copy the mask and also change the original mask array in the future.\n",
      "Check the NumPy 1.11 release notes for more information.\n"
     ]
    },
    {
     "name": "stdout",
     "output_type": "stream",
     "text": [
      "(242, 480)\n",
      "Opening /home/rjackson/data/radar/cpol//2006/20060119/Gunn_pt_200601190810*.nc\n"
     ]
    },
    {
     "name": "stderr",
     "output_type": "stream",
     "text": [
      "/home/rjackson/anaconda3/lib/python3.5/site-packages/ipykernel/__main__.py:24: MaskedArrayFutureWarning: setting an item on a masked array which has a shared mask will not copy the mask and also change the original mask array in the future.\n",
      "Check the NumPy 1.11 release notes for more information.\n"
     ]
    },
    {
     "name": "stdout",
     "output_type": "stream",
     "text": [
      "(242, 480)\n",
      "Opening /home/rjackson/data/radar/cpol//2006/20060119/Gunn_pt_200601190820*.nc\n"
     ]
    },
    {
     "name": "stderr",
     "output_type": "stream",
     "text": [
      "/home/rjackson/anaconda3/lib/python3.5/site-packages/ipykernel/__main__.py:24: MaskedArrayFutureWarning: setting an item on a masked array which has a shared mask will not copy the mask and also change the original mask array in the future.\n",
      "Check the NumPy 1.11 release notes for more information.\n"
     ]
    },
    {
     "name": "stdout",
     "output_type": "stream",
     "text": [
      "(242, 480)\n",
      "Opening /home/rjackson/data/radar/cpol//2006/20060119/Gunn_pt_200601190830*.nc\n"
     ]
    },
    {
     "name": "stderr",
     "output_type": "stream",
     "text": [
      "/home/rjackson/anaconda3/lib/python3.5/site-packages/ipykernel/__main__.py:24: MaskedArrayFutureWarning: setting an item on a masked array which has a shared mask will not copy the mask and also change the original mask array in the future.\n",
      "Check the NumPy 1.11 release notes for more information.\n"
     ]
    },
    {
     "name": "stdout",
     "output_type": "stream",
     "text": [
      "(242, 480)\n",
      "Opening /home/rjackson/data/radar/cpol//2006/20060119/Gunn_pt_200601190840*.nc\n"
     ]
    },
    {
     "name": "stderr",
     "output_type": "stream",
     "text": [
      "/home/rjackson/anaconda3/lib/python3.5/site-packages/ipykernel/__main__.py:24: MaskedArrayFutureWarning: setting an item on a masked array which has a shared mask will not copy the mask and also change the original mask array in the future.\n",
      "Check the NumPy 1.11 release notes for more information.\n"
     ]
    },
    {
     "name": "stdout",
     "output_type": "stream",
     "text": [
      "(242, 480)\n",
      "Opening /home/rjackson/data/radar/cpol//2006/20060119/Gunn_pt_200601190850*.nc\n"
     ]
    },
    {
     "name": "stderr",
     "output_type": "stream",
     "text": [
      "/home/rjackson/anaconda3/lib/python3.5/site-packages/ipykernel/__main__.py:24: MaskedArrayFutureWarning: setting an item on a masked array which has a shared mask will not copy the mask and also change the original mask array in the future.\n",
      "Check the NumPy 1.11 release notes for more information.\n"
     ]
    },
    {
     "name": "stdout",
     "output_type": "stream",
     "text": [
      "(242, 480)\n",
      "Opening /home/rjackson/data/radar/cpol//2006/20060119/Gunn_pt_200601190900*.nc\n"
     ]
    },
    {
     "name": "stderr",
     "output_type": "stream",
     "text": [
      "/home/rjackson/anaconda3/lib/python3.5/site-packages/ipykernel/__main__.py:24: MaskedArrayFutureWarning: setting an item on a masked array which has a shared mask will not copy the mask and also change the original mask array in the future.\n",
      "Check the NumPy 1.11 release notes for more information.\n"
     ]
    },
    {
     "name": "stdout",
     "output_type": "stream",
     "text": [
      "(242, 480)\n",
      "Opening /home/rjackson/data/radar/cpol//2006/20060119/Gunn_pt_200601190910*.nc\n"
     ]
    },
    {
     "name": "stderr",
     "output_type": "stream",
     "text": [
      "/home/rjackson/anaconda3/lib/python3.5/site-packages/ipykernel/__main__.py:24: MaskedArrayFutureWarning: setting an item on a masked array which has a shared mask will not copy the mask and also change the original mask array in the future.\n",
      "Check the NumPy 1.11 release notes for more information.\n"
     ]
    },
    {
     "name": "stdout",
     "output_type": "stream",
     "text": [
      "(242, 480)\n",
      "Opening /home/rjackson/data/radar/cpol//2006/20060119/Gunn_pt_200601190920*.nc\n"
     ]
    },
    {
     "name": "stderr",
     "output_type": "stream",
     "text": [
      "/home/rjackson/anaconda3/lib/python3.5/site-packages/ipykernel/__main__.py:24: MaskedArrayFutureWarning: setting an item on a masked array which has a shared mask will not copy the mask and also change the original mask array in the future.\n",
      "Check the NumPy 1.11 release notes for more information.\n"
     ]
    },
    {
     "name": "stdout",
     "output_type": "stream",
     "text": [
      "(242, 480)\n",
      "Opening /home/rjackson/data/radar/cpol//2006/20060119/Gunn_pt_200601190930*.nc\n"
     ]
    },
    {
     "name": "stderr",
     "output_type": "stream",
     "text": [
      "/home/rjackson/anaconda3/lib/python3.5/site-packages/ipykernel/__main__.py:24: MaskedArrayFutureWarning: setting an item on a masked array which has a shared mask will not copy the mask and also change the original mask array in the future.\n",
      "Check the NumPy 1.11 release notes for more information.\n"
     ]
    },
    {
     "name": "stdout",
     "output_type": "stream",
     "text": [
      "(242, 480)\n",
      "Opening /home/rjackson/data/radar/cpol//2006/20060119/Gunn_pt_200601190940*.nc\n"
     ]
    },
    {
     "name": "stderr",
     "output_type": "stream",
     "text": [
      "/home/rjackson/anaconda3/lib/python3.5/site-packages/ipykernel/__main__.py:24: MaskedArrayFutureWarning: setting an item on a masked array which has a shared mask will not copy the mask and also change the original mask array in the future.\n",
      "Check the NumPy 1.11 release notes for more information.\n"
     ]
    },
    {
     "name": "stdout",
     "output_type": "stream",
     "text": [
      "(242, 480)\n",
      "Opening /home/rjackson/data/radar/cpol//2006/20060119/Gunn_pt_200601190950*.nc\n"
     ]
    },
    {
     "name": "stderr",
     "output_type": "stream",
     "text": [
      "/home/rjackson/anaconda3/lib/python3.5/site-packages/ipykernel/__main__.py:24: MaskedArrayFutureWarning: setting an item on a masked array which has a shared mask will not copy the mask and also change the original mask array in the future.\n",
      "Check the NumPy 1.11 release notes for more information.\n"
     ]
    },
    {
     "name": "stdout",
     "output_type": "stream",
     "text": [
      "(242, 480)\n",
      "Opening /home/rjackson/data/radar/cpol//2006/20060119/Gunn_pt_200601191000*.nc\n"
     ]
    },
    {
     "name": "stderr",
     "output_type": "stream",
     "text": [
      "/home/rjackson/anaconda3/lib/python3.5/site-packages/ipykernel/__main__.py:24: MaskedArrayFutureWarning: setting an item on a masked array which has a shared mask will not copy the mask and also change the original mask array in the future.\n",
      "Check the NumPy 1.11 release notes for more information.\n"
     ]
    },
    {
     "name": "stdout",
     "output_type": "stream",
     "text": [
      "(242, 480)\n",
      "Opening /home/rjackson/data/radar/cpol//2006/20060119/Gunn_pt_200601191010*.nc\n"
     ]
    },
    {
     "name": "stderr",
     "output_type": "stream",
     "text": [
      "/home/rjackson/anaconda3/lib/python3.5/site-packages/ipykernel/__main__.py:24: MaskedArrayFutureWarning: setting an item on a masked array which has a shared mask will not copy the mask and also change the original mask array in the future.\n",
      "Check the NumPy 1.11 release notes for more information.\n"
     ]
    },
    {
     "name": "stdout",
     "output_type": "stream",
     "text": [
      "(242, 480)\n",
      "Opening /home/rjackson/data/radar/cpol//2006/20060119/Gunn_pt_200601191020*.nc\n"
     ]
    },
    {
     "name": "stderr",
     "output_type": "stream",
     "text": [
      "/home/rjackson/anaconda3/lib/python3.5/site-packages/ipykernel/__main__.py:24: MaskedArrayFutureWarning: setting an item on a masked array which has a shared mask will not copy the mask and also change the original mask array in the future.\n",
      "Check the NumPy 1.11 release notes for more information.\n"
     ]
    },
    {
     "name": "stdout",
     "output_type": "stream",
     "text": [
      "(242, 480)\n",
      "Opening /home/rjackson/data/radar/cpol//2006/20060119/Gunn_pt_200601191030*.nc\n"
     ]
    },
    {
     "name": "stderr",
     "output_type": "stream",
     "text": [
      "/home/rjackson/anaconda3/lib/python3.5/site-packages/ipykernel/__main__.py:24: MaskedArrayFutureWarning: setting an item on a masked array which has a shared mask will not copy the mask and also change the original mask array in the future.\n",
      "Check the NumPy 1.11 release notes for more information.\n"
     ]
    },
    {
     "name": "stdout",
     "output_type": "stream",
     "text": [
      "(242, 480)\n",
      "Opening /home/rjackson/data/radar/cpol//2006/20060119/Gunn_pt_200601191040*.nc\n"
     ]
    },
    {
     "name": "stderr",
     "output_type": "stream",
     "text": [
      "/home/rjackson/anaconda3/lib/python3.5/site-packages/ipykernel/__main__.py:24: MaskedArrayFutureWarning: setting an item on a masked array which has a shared mask will not copy the mask and also change the original mask array in the future.\n",
      "Check the NumPy 1.11 release notes for more information.\n"
     ]
    },
    {
     "name": "stdout",
     "output_type": "stream",
     "text": [
      "(242, 480)\n",
      "Opening /home/rjackson/data/radar/cpol//2006/20060119/Gunn_pt_200601191050*.nc\n"
     ]
    },
    {
     "name": "stderr",
     "output_type": "stream",
     "text": [
      "/home/rjackson/anaconda3/lib/python3.5/site-packages/ipykernel/__main__.py:24: MaskedArrayFutureWarning: setting an item on a masked array which has a shared mask will not copy the mask and also change the original mask array in the future.\n",
      "Check the NumPy 1.11 release notes for more information.\n"
     ]
    },
    {
     "name": "stdout",
     "output_type": "stream",
     "text": [
      "(242, 480)\n",
      "Opening /home/rjackson/data/radar/cpol//2006/20060119/Gunn_pt_200601191100*.nc\n"
     ]
    },
    {
     "name": "stderr",
     "output_type": "stream",
     "text": [
      "/home/rjackson/anaconda3/lib/python3.5/site-packages/ipykernel/__main__.py:24: MaskedArrayFutureWarning: setting an item on a masked array which has a shared mask will not copy the mask and also change the original mask array in the future.\n",
      "Check the NumPy 1.11 release notes for more information.\n"
     ]
    },
    {
     "name": "stdout",
     "output_type": "stream",
     "text": [
      "(242, 480)\n",
      "Opening /home/rjackson/data/radar/cpol//2006/20060119/Gunn_pt_200601191110*.nc\n"
     ]
    },
    {
     "name": "stderr",
     "output_type": "stream",
     "text": [
      "/home/rjackson/anaconda3/lib/python3.5/site-packages/ipykernel/__main__.py:24: MaskedArrayFutureWarning: setting an item on a masked array which has a shared mask will not copy the mask and also change the original mask array in the future.\n",
      "Check the NumPy 1.11 release notes for more information.\n"
     ]
    },
    {
     "name": "stdout",
     "output_type": "stream",
     "text": [
      "(242, 480)\n",
      "Opening /home/rjackson/data/radar/cpol//2006/20060119/Gunn_pt_200601191120*.nc\n"
     ]
    },
    {
     "name": "stderr",
     "output_type": "stream",
     "text": [
      "/home/rjackson/anaconda3/lib/python3.5/site-packages/ipykernel/__main__.py:24: MaskedArrayFutureWarning: setting an item on a masked array which has a shared mask will not copy the mask and also change the original mask array in the future.\n",
      "Check the NumPy 1.11 release notes for more information.\n"
     ]
    },
    {
     "name": "stdout",
     "output_type": "stream",
     "text": [
      "(242, 480)\n",
      "Opening /home/rjackson/data/radar/cpol//2006/20060119/Gunn_pt_200601191130*.nc\n"
     ]
    },
    {
     "name": "stderr",
     "output_type": "stream",
     "text": [
      "/home/rjackson/anaconda3/lib/python3.5/site-packages/ipykernel/__main__.py:24: MaskedArrayFutureWarning: setting an item on a masked array which has a shared mask will not copy the mask and also change the original mask array in the future.\n",
      "Check the NumPy 1.11 release notes for more information.\n"
     ]
    },
    {
     "name": "stdout",
     "output_type": "stream",
     "text": [
      "(242, 480)\n",
      "Opening /home/rjackson/data/radar/cpol//2006/20060119/Gunn_pt_200601191140*.nc\n"
     ]
    },
    {
     "name": "stderr",
     "output_type": "stream",
     "text": [
      "/home/rjackson/anaconda3/lib/python3.5/site-packages/ipykernel/__main__.py:24: MaskedArrayFutureWarning: setting an item on a masked array which has a shared mask will not copy the mask and also change the original mask array in the future.\n",
      "Check the NumPy 1.11 release notes for more information.\n"
     ]
    },
    {
     "name": "stdout",
     "output_type": "stream",
     "text": [
      "(242, 480)\n",
      "Opening /home/rjackson/data/radar/cpol//2006/20060119/Gunn_pt_200601191150*.nc\n"
     ]
    },
    {
     "name": "stderr",
     "output_type": "stream",
     "text": [
      "/home/rjackson/anaconda3/lib/python3.5/site-packages/ipykernel/__main__.py:24: MaskedArrayFutureWarning: setting an item on a masked array which has a shared mask will not copy the mask and also change the original mask array in the future.\n",
      "Check the NumPy 1.11 release notes for more information.\n"
     ]
    },
    {
     "name": "stdout",
     "output_type": "stream",
     "text": [
      "(242, 480)\n",
      "Opening /home/rjackson/data/radar/cpol//2006/20060119/Gunn_pt_200601191200*.nc\n"
     ]
    },
    {
     "name": "stderr",
     "output_type": "stream",
     "text": [
      "/home/rjackson/anaconda3/lib/python3.5/site-packages/ipykernel/__main__.py:24: MaskedArrayFutureWarning: setting an item on a masked array which has a shared mask will not copy the mask and also change the original mask array in the future.\n",
      "Check the NumPy 1.11 release notes for more information.\n"
     ]
    },
    {
     "name": "stdout",
     "output_type": "stream",
     "text": [
      "(242, 480)\n",
      "Opening /home/rjackson/data/radar/cpol//2006/20060119/Gunn_pt_200601191210*.nc\n"
     ]
    },
    {
     "name": "stderr",
     "output_type": "stream",
     "text": [
      "/home/rjackson/anaconda3/lib/python3.5/site-packages/ipykernel/__main__.py:24: MaskedArrayFutureWarning: setting an item on a masked array which has a shared mask will not copy the mask and also change the original mask array in the future.\n",
      "Check the NumPy 1.11 release notes for more information.\n"
     ]
    },
    {
     "name": "stdout",
     "output_type": "stream",
     "text": [
      "(242, 480)\n",
      "Opening /home/rjackson/data/radar/cpol//2006/20060119/Gunn_pt_200601191220*.nc\n"
     ]
    },
    {
     "name": "stderr",
     "output_type": "stream",
     "text": [
      "/home/rjackson/anaconda3/lib/python3.5/site-packages/ipykernel/__main__.py:24: MaskedArrayFutureWarning: setting an item on a masked array which has a shared mask will not copy the mask and also change the original mask array in the future.\n",
      "Check the NumPy 1.11 release notes for more information.\n"
     ]
    },
    {
     "name": "stdout",
     "output_type": "stream",
     "text": [
      "(242, 480)\n",
      "Opening /home/rjackson/data/radar/cpol//2006/20060119/Gunn_pt_200601191230*.nc\n"
     ]
    },
    {
     "name": "stderr",
     "output_type": "stream",
     "text": [
      "/home/rjackson/anaconda3/lib/python3.5/site-packages/ipykernel/__main__.py:24: MaskedArrayFutureWarning: setting an item on a masked array which has a shared mask will not copy the mask and also change the original mask array in the future.\n",
      "Check the NumPy 1.11 release notes for more information.\n"
     ]
    },
    {
     "name": "stdout",
     "output_type": "stream",
     "text": [
      "(242, 480)\n",
      "Opening /home/rjackson/data/radar/cpol//2006/20060119/Gunn_pt_200601191240*.nc\n"
     ]
    },
    {
     "name": "stderr",
     "output_type": "stream",
     "text": [
      "/home/rjackson/anaconda3/lib/python3.5/site-packages/ipykernel/__main__.py:24: MaskedArrayFutureWarning: setting an item on a masked array which has a shared mask will not copy the mask and also change the original mask array in the future.\n",
      "Check the NumPy 1.11 release notes for more information.\n"
     ]
    },
    {
     "name": "stdout",
     "output_type": "stream",
     "text": [
      "(242, 480)\n",
      "Opening /home/rjackson/data/radar/cpol//2006/20060119/Gunn_pt_200601191250*.nc\n"
     ]
    },
    {
     "name": "stderr",
     "output_type": "stream",
     "text": [
      "/home/rjackson/anaconda3/lib/python3.5/site-packages/ipykernel/__main__.py:24: MaskedArrayFutureWarning: setting an item on a masked array which has a shared mask will not copy the mask and also change the original mask array in the future.\n",
      "Check the NumPy 1.11 release notes for more information.\n"
     ]
    },
    {
     "name": "stdout",
     "output_type": "stream",
     "text": [
      "(242, 480)\n",
      "Opening /home/rjackson/data/radar/cpol//2006/20060119/Gunn_pt_200601191300*.nc\n"
     ]
    },
    {
     "name": "stderr",
     "output_type": "stream",
     "text": [
      "/home/rjackson/anaconda3/lib/python3.5/site-packages/ipykernel/__main__.py:24: MaskedArrayFutureWarning: setting an item on a masked array which has a shared mask will not copy the mask and also change the original mask array in the future.\n",
      "Check the NumPy 1.11 release notes for more information.\n"
     ]
    },
    {
     "name": "stdout",
     "output_type": "stream",
     "text": [
      "(242, 480)\n",
      "Opening /home/rjackson/data/radar/cpol//2006/20060119/Gunn_pt_200601191310*.nc\n"
     ]
    },
    {
     "name": "stderr",
     "output_type": "stream",
     "text": [
      "/home/rjackson/anaconda3/lib/python3.5/site-packages/ipykernel/__main__.py:24: MaskedArrayFutureWarning: setting an item on a masked array which has a shared mask will not copy the mask and also change the original mask array in the future.\n",
      "Check the NumPy 1.11 release notes for more information.\n"
     ]
    },
    {
     "name": "stdout",
     "output_type": "stream",
     "text": [
      "(242, 480)\n",
      "Opening /home/rjackson/data/radar/cpol//2006/20060119/Gunn_pt_200601191320*.nc\n"
     ]
    },
    {
     "name": "stderr",
     "output_type": "stream",
     "text": [
      "/home/rjackson/anaconda3/lib/python3.5/site-packages/ipykernel/__main__.py:24: MaskedArrayFutureWarning: setting an item on a masked array which has a shared mask will not copy the mask and also change the original mask array in the future.\n",
      "Check the NumPy 1.11 release notes for more information.\n"
     ]
    },
    {
     "name": "stdout",
     "output_type": "stream",
     "text": [
      "(242, 480)\n",
      "Opening /home/rjackson/data/radar/cpol//2006/20060119/Gunn_pt_200601191330*.nc\n"
     ]
    },
    {
     "name": "stderr",
     "output_type": "stream",
     "text": [
      "/home/rjackson/anaconda3/lib/python3.5/site-packages/ipykernel/__main__.py:24: MaskedArrayFutureWarning: setting an item on a masked array which has a shared mask will not copy the mask and also change the original mask array in the future.\n",
      "Check the NumPy 1.11 release notes for more information.\n"
     ]
    },
    {
     "name": "stdout",
     "output_type": "stream",
     "text": [
      "(242, 480)\n",
      "Opening /home/rjackson/data/radar/cpol//2006/20060119/Gunn_pt_200601191340*.nc\n"
     ]
    },
    {
     "name": "stderr",
     "output_type": "stream",
     "text": [
      "/home/rjackson/anaconda3/lib/python3.5/site-packages/ipykernel/__main__.py:24: MaskedArrayFutureWarning: setting an item on a masked array which has a shared mask will not copy the mask and also change the original mask array in the future.\n",
      "Check the NumPy 1.11 release notes for more information.\n"
     ]
    },
    {
     "name": "stdout",
     "output_type": "stream",
     "text": [
      "(242, 480)\n",
      "Opening /home/rjackson/data/radar/cpol//2006/20060119/Gunn_pt_200601191350*.nc\n"
     ]
    },
    {
     "name": "stderr",
     "output_type": "stream",
     "text": [
      "/home/rjackson/anaconda3/lib/python3.5/site-packages/ipykernel/__main__.py:24: MaskedArrayFutureWarning: setting an item on a masked array which has a shared mask will not copy the mask and also change the original mask array in the future.\n",
      "Check the NumPy 1.11 release notes for more information.\n"
     ]
    },
    {
     "name": "stdout",
     "output_type": "stream",
     "text": [
      "(242, 480)\n",
      "Opening /home/rjackson/data/radar/cpol//2006/20060119/Gunn_pt_200601191400*.nc\n"
     ]
    },
    {
     "name": "stderr",
     "output_type": "stream",
     "text": [
      "/home/rjackson/anaconda3/lib/python3.5/site-packages/ipykernel/__main__.py:24: MaskedArrayFutureWarning: setting an item on a masked array which has a shared mask will not copy the mask and also change the original mask array in the future.\n",
      "Check the NumPy 1.11 release notes for more information.\n"
     ]
    },
    {
     "name": "stdout",
     "output_type": "stream",
     "text": [
      "(242, 480)\n",
      "Opening /home/rjackson/data/radar/cpol//2006/20060119/Gunn_pt_200601191410*.nc\n"
     ]
    },
    {
     "name": "stderr",
     "output_type": "stream",
     "text": [
      "/home/rjackson/anaconda3/lib/python3.5/site-packages/ipykernel/__main__.py:24: MaskedArrayFutureWarning: setting an item on a masked array which has a shared mask will not copy the mask and also change the original mask array in the future.\n",
      "Check the NumPy 1.11 release notes for more information.\n"
     ]
    },
    {
     "name": "stdout",
     "output_type": "stream",
     "text": [
      "(242, 480)\n",
      "Opening /home/rjackson/data/radar/cpol//2006/20060119/Gunn_pt_200601191420*.nc\n"
     ]
    },
    {
     "name": "stderr",
     "output_type": "stream",
     "text": [
      "/home/rjackson/anaconda3/lib/python3.5/site-packages/ipykernel/__main__.py:24: MaskedArrayFutureWarning: setting an item on a masked array which has a shared mask will not copy the mask and also change the original mask array in the future.\n",
      "Check the NumPy 1.11 release notes for more information.\n"
     ]
    },
    {
     "name": "stdout",
     "output_type": "stream",
     "text": [
      "(242, 480)\n",
      "Opening /home/rjackson/data/radar/cpol//2006/20060119/Gunn_pt_200601191430*.nc\n"
     ]
    },
    {
     "name": "stderr",
     "output_type": "stream",
     "text": [
      "/home/rjackson/anaconda3/lib/python3.5/site-packages/ipykernel/__main__.py:24: MaskedArrayFutureWarning: setting an item on a masked array which has a shared mask will not copy the mask and also change the original mask array in the future.\n",
      "Check the NumPy 1.11 release notes for more information.\n"
     ]
    },
    {
     "name": "stdout",
     "output_type": "stream",
     "text": [
      "(242, 480)\n",
      "Opening /home/rjackson/data/radar/cpol//2006/20060119/Gunn_pt_200601191440*.nc\n"
     ]
    },
    {
     "name": "stderr",
     "output_type": "stream",
     "text": [
      "/home/rjackson/anaconda3/lib/python3.5/site-packages/ipykernel/__main__.py:24: MaskedArrayFutureWarning: setting an item on a masked array which has a shared mask will not copy the mask and also change the original mask array in the future.\n",
      "Check the NumPy 1.11 release notes for more information.\n"
     ]
    },
    {
     "name": "stdout",
     "output_type": "stream",
     "text": [
      "(242, 480)\n",
      "Opening /home/rjackson/data/radar/cpol//2006/20060119/Gunn_pt_200601191450*.nc\n"
     ]
    },
    {
     "name": "stderr",
     "output_type": "stream",
     "text": [
      "/home/rjackson/anaconda3/lib/python3.5/site-packages/ipykernel/__main__.py:24: MaskedArrayFutureWarning: setting an item on a masked array which has a shared mask will not copy the mask and also change the original mask array in the future.\n",
      "Check the NumPy 1.11 release notes for more information.\n"
     ]
    },
    {
     "name": "stdout",
     "output_type": "stream",
     "text": [
      "(242, 480)\n",
      "Opening /home/rjackson/data/radar/cpol//2006/20060119/Gunn_pt_200601191500*.nc\n"
     ]
    },
    {
     "name": "stderr",
     "output_type": "stream",
     "text": [
      "/home/rjackson/anaconda3/lib/python3.5/site-packages/ipykernel/__main__.py:24: MaskedArrayFutureWarning: setting an item on a masked array which has a shared mask will not copy the mask and also change the original mask array in the future.\n",
      "Check the NumPy 1.11 release notes for more information.\n"
     ]
    },
    {
     "name": "stdout",
     "output_type": "stream",
     "text": [
      "(242, 480)\n",
      "Opening /home/rjackson/data/radar/cpol//2006/20060119/Gunn_pt_200601191510*.nc\n"
     ]
    },
    {
     "name": "stderr",
     "output_type": "stream",
     "text": [
      "/home/rjackson/anaconda3/lib/python3.5/site-packages/ipykernel/__main__.py:24: MaskedArrayFutureWarning: setting an item on a masked array which has a shared mask will not copy the mask and also change the original mask array in the future.\n",
      "Check the NumPy 1.11 release notes for more information.\n"
     ]
    },
    {
     "name": "stdout",
     "output_type": "stream",
     "text": [
      "(242, 480)\n",
      "Opening /home/rjackson/data/radar/cpol//2006/20060119/Gunn_pt_200601191520*.nc\n"
     ]
    },
    {
     "name": "stderr",
     "output_type": "stream",
     "text": [
      "/home/rjackson/anaconda3/lib/python3.5/site-packages/ipykernel/__main__.py:24: MaskedArrayFutureWarning: setting an item on a masked array which has a shared mask will not copy the mask and also change the original mask array in the future.\n",
      "Check the NumPy 1.11 release notes for more information.\n"
     ]
    },
    {
     "name": "stdout",
     "output_type": "stream",
     "text": [
      "(242, 480)\n",
      "Opening /home/rjackson/data/radar/cpol//2006/20060119/Gunn_pt_200601191530*.nc\n"
     ]
    },
    {
     "name": "stderr",
     "output_type": "stream",
     "text": [
      "/home/rjackson/anaconda3/lib/python3.5/site-packages/ipykernel/__main__.py:24: MaskedArrayFutureWarning: setting an item on a masked array which has a shared mask will not copy the mask and also change the original mask array in the future.\n",
      "Check the NumPy 1.11 release notes for more information.\n"
     ]
    },
    {
     "name": "stdout",
     "output_type": "stream",
     "text": [
      "(242, 480)\n",
      "Opening /home/rjackson/data/radar/cpol//2006/20060119/Gunn_pt_200601191540*.nc\n"
     ]
    },
    {
     "name": "stderr",
     "output_type": "stream",
     "text": [
      "/home/rjackson/anaconda3/lib/python3.5/site-packages/ipykernel/__main__.py:24: MaskedArrayFutureWarning: setting an item on a masked array which has a shared mask will not copy the mask and also change the original mask array in the future.\n",
      "Check the NumPy 1.11 release notes for more information.\n"
     ]
    },
    {
     "name": "stdout",
     "output_type": "stream",
     "text": [
      "(242, 480)\n",
      "Opening /home/rjackson/data/radar/cpol//2006/20060119/Gunn_pt_200601191550*.nc\n"
     ]
    },
    {
     "name": "stderr",
     "output_type": "stream",
     "text": [
      "/home/rjackson/anaconda3/lib/python3.5/site-packages/ipykernel/__main__.py:24: MaskedArrayFutureWarning: setting an item on a masked array which has a shared mask will not copy the mask and also change the original mask array in the future.\n",
      "Check the NumPy 1.11 release notes for more information.\n"
     ]
    },
    {
     "name": "stdout",
     "output_type": "stream",
     "text": [
      "(242, 480)\n",
      "Opening /home/rjackson/data/radar/cpol//2006/20060119/Gunn_pt_200601191600*.nc\n"
     ]
    },
    {
     "name": "stderr",
     "output_type": "stream",
     "text": [
      "/home/rjackson/anaconda3/lib/python3.5/site-packages/ipykernel/__main__.py:24: MaskedArrayFutureWarning: setting an item on a masked array which has a shared mask will not copy the mask and also change the original mask array in the future.\n",
      "Check the NumPy 1.11 release notes for more information.\n"
     ]
    },
    {
     "name": "stdout",
     "output_type": "stream",
     "text": [
      "(242, 480)\n",
      "Opening /home/rjackson/data/radar/cpol//2006/20060119/Gunn_pt_200601191610*.nc\n"
     ]
    },
    {
     "name": "stderr",
     "output_type": "stream",
     "text": [
      "/home/rjackson/anaconda3/lib/python3.5/site-packages/ipykernel/__main__.py:24: MaskedArrayFutureWarning: setting an item on a masked array which has a shared mask will not copy the mask and also change the original mask array in the future.\n",
      "Check the NumPy 1.11 release notes for more information.\n"
     ]
    },
    {
     "name": "stdout",
     "output_type": "stream",
     "text": [
      "(242, 480)\n",
      "Opening /home/rjackson/data/radar/cpol//2006/20060119/Gunn_pt_200601191620*.nc\n"
     ]
    },
    {
     "name": "stderr",
     "output_type": "stream",
     "text": [
      "/home/rjackson/anaconda3/lib/python3.5/site-packages/ipykernel/__main__.py:24: MaskedArrayFutureWarning: setting an item on a masked array which has a shared mask will not copy the mask and also change the original mask array in the future.\n",
      "Check the NumPy 1.11 release notes for more information.\n"
     ]
    },
    {
     "name": "stdout",
     "output_type": "stream",
     "text": [
      "(242, 480)\n",
      "Opening /home/rjackson/data/radar/cpol//2006/20060119/Gunn_pt_200601191630*.nc\n"
     ]
    },
    {
     "name": "stderr",
     "output_type": "stream",
     "text": [
      "/home/rjackson/anaconda3/lib/python3.5/site-packages/ipykernel/__main__.py:24: MaskedArrayFutureWarning: setting an item on a masked array which has a shared mask will not copy the mask and also change the original mask array in the future.\n",
      "Check the NumPy 1.11 release notes for more information.\n"
     ]
    },
    {
     "name": "stdout",
     "output_type": "stream",
     "text": [
      "(242, 480)\n",
      "Opening /home/rjackson/data/radar/cpol//2006/20060119/Gunn_pt_200601191640*.nc\n"
     ]
    },
    {
     "name": "stderr",
     "output_type": "stream",
     "text": [
      "/home/rjackson/anaconda3/lib/python3.5/site-packages/ipykernel/__main__.py:24: MaskedArrayFutureWarning: setting an item on a masked array which has a shared mask will not copy the mask and also change the original mask array in the future.\n",
      "Check the NumPy 1.11 release notes for more information.\n"
     ]
    },
    {
     "name": "stdout",
     "output_type": "stream",
     "text": [
      "(242, 480)\n",
      "Opening /home/rjackson/data/radar/cpol//2006/20060119/Gunn_pt_200601191650*.nc\n"
     ]
    },
    {
     "name": "stderr",
     "output_type": "stream",
     "text": [
      "/home/rjackson/anaconda3/lib/python3.5/site-packages/ipykernel/__main__.py:24: MaskedArrayFutureWarning: setting an item on a masked array which has a shared mask will not copy the mask and also change the original mask array in the future.\n",
      "Check the NumPy 1.11 release notes for more information.\n"
     ]
    },
    {
     "name": "stdout",
     "output_type": "stream",
     "text": [
      "(242, 480)\n",
      "Opening /home/rjackson/data/radar/cpol//2006/20060119/Gunn_pt_200601191700*.nc\n"
     ]
    },
    {
     "name": "stderr",
     "output_type": "stream",
     "text": [
      "/home/rjackson/anaconda3/lib/python3.5/site-packages/ipykernel/__main__.py:24: MaskedArrayFutureWarning: setting an item on a masked array which has a shared mask will not copy the mask and also change the original mask array in the future.\n",
      "Check the NumPy 1.11 release notes for more information.\n"
     ]
    },
    {
     "name": "stdout",
     "output_type": "stream",
     "text": [
      "(242, 480)\n",
      "Opening /home/rjackson/data/radar/cpol//2006/20060119/Gunn_pt_200601191710*.nc\n"
     ]
    },
    {
     "name": "stderr",
     "output_type": "stream",
     "text": [
      "/home/rjackson/anaconda3/lib/python3.5/site-packages/ipykernel/__main__.py:24: MaskedArrayFutureWarning: setting an item on a masked array which has a shared mask will not copy the mask and also change the original mask array in the future.\n",
      "Check the NumPy 1.11 release notes for more information.\n"
     ]
    },
    {
     "name": "stdout",
     "output_type": "stream",
     "text": [
      "(242, 480)\n",
      "Opening /home/rjackson/data/radar/cpol//2006/20060119/Gunn_pt_200601191720*.nc\n"
     ]
    },
    {
     "name": "stderr",
     "output_type": "stream",
     "text": [
      "/home/rjackson/anaconda3/lib/python3.5/site-packages/ipykernel/__main__.py:24: MaskedArrayFutureWarning: setting an item on a masked array which has a shared mask will not copy the mask and also change the original mask array in the future.\n",
      "Check the NumPy 1.11 release notes for more information.\n"
     ]
    },
    {
     "name": "stdout",
     "output_type": "stream",
     "text": [
      "(242, 480)\n",
      "Opening /home/rjackson/data/radar/cpol//2006/20060119/Gunn_pt_200601191730*.nc\n"
     ]
    },
    {
     "name": "stderr",
     "output_type": "stream",
     "text": [
      "/home/rjackson/anaconda3/lib/python3.5/site-packages/ipykernel/__main__.py:24: MaskedArrayFutureWarning: setting an item on a masked array which has a shared mask will not copy the mask and also change the original mask array in the future.\n",
      "Check the NumPy 1.11 release notes for more information.\n"
     ]
    },
    {
     "name": "stdout",
     "output_type": "stream",
     "text": [
      "(242, 480)\n",
      "Opening /home/rjackson/data/radar/cpol//2006/20060119/Gunn_pt_200601191740*.nc\n"
     ]
    },
    {
     "name": "stderr",
     "output_type": "stream",
     "text": [
      "/home/rjackson/anaconda3/lib/python3.5/site-packages/ipykernel/__main__.py:24: MaskedArrayFutureWarning: setting an item on a masked array which has a shared mask will not copy the mask and also change the original mask array in the future.\n",
      "Check the NumPy 1.11 release notes for more information.\n"
     ]
    },
    {
     "name": "stdout",
     "output_type": "stream",
     "text": [
      "(242, 480)\n",
      "Opening /home/rjackson/data/radar/cpol//2006/20060119/Gunn_pt_200601191750*.nc\n"
     ]
    },
    {
     "name": "stderr",
     "output_type": "stream",
     "text": [
      "/home/rjackson/anaconda3/lib/python3.5/site-packages/ipykernel/__main__.py:24: MaskedArrayFutureWarning: setting an item on a masked array which has a shared mask will not copy the mask and also change the original mask array in the future.\n",
      "Check the NumPy 1.11 release notes for more information.\n"
     ]
    },
    {
     "name": "stdout",
     "output_type": "stream",
     "text": [
      "(242, 480)\n",
      "Opening /home/rjackson/data/radar/cpol//2006/20060119/Gunn_pt_200601191800*.nc\n"
     ]
    },
    {
     "name": "stderr",
     "output_type": "stream",
     "text": [
      "/home/rjackson/anaconda3/lib/python3.5/site-packages/ipykernel/__main__.py:24: MaskedArrayFutureWarning: setting an item on a masked array which has a shared mask will not copy the mask and also change the original mask array in the future.\n",
      "Check the NumPy 1.11 release notes for more information.\n"
     ]
    },
    {
     "name": "stdout",
     "output_type": "stream",
     "text": [
      "(242, 480)\n",
      "Opening /home/rjackson/data/radar/cpol//2006/20060119/Gunn_pt_200601191810*.nc\n"
     ]
    },
    {
     "name": "stderr",
     "output_type": "stream",
     "text": [
      "/home/rjackson/anaconda3/lib/python3.5/site-packages/ipykernel/__main__.py:24: MaskedArrayFutureWarning: setting an item on a masked array which has a shared mask will not copy the mask and also change the original mask array in the future.\n",
      "Check the NumPy 1.11 release notes for more information.\n"
     ]
    },
    {
     "name": "stdout",
     "output_type": "stream",
     "text": [
      "(242, 480)\n",
      "Opening /home/rjackson/data/radar/cpol//2006/20060119/Gunn_pt_200601191820*.nc\n"
     ]
    },
    {
     "name": "stderr",
     "output_type": "stream",
     "text": [
      "/home/rjackson/anaconda3/lib/python3.5/site-packages/ipykernel/__main__.py:24: MaskedArrayFutureWarning: setting an item on a masked array which has a shared mask will not copy the mask and also change the original mask array in the future.\n",
      "Check the NumPy 1.11 release notes for more information.\n"
     ]
    },
    {
     "name": "stdout",
     "output_type": "stream",
     "text": [
      "(242, 480)\n",
      "Opening /home/rjackson/data/radar/cpol//2006/20060119/Gunn_pt_200601191830*.nc\n"
     ]
    },
    {
     "name": "stderr",
     "output_type": "stream",
     "text": [
      "/home/rjackson/anaconda3/lib/python3.5/site-packages/ipykernel/__main__.py:24: MaskedArrayFutureWarning: setting an item on a masked array which has a shared mask will not copy the mask and also change the original mask array in the future.\n",
      "Check the NumPy 1.11 release notes for more information.\n"
     ]
    },
    {
     "name": "stdout",
     "output_type": "stream",
     "text": [
      "(242, 480)\n",
      "Opening /home/rjackson/data/radar/cpol//2006/20060119/Gunn_pt_200601191840*.nc\n"
     ]
    },
    {
     "name": "stderr",
     "output_type": "stream",
     "text": [
      "/home/rjackson/anaconda3/lib/python3.5/site-packages/ipykernel/__main__.py:24: MaskedArrayFutureWarning: setting an item on a masked array which has a shared mask will not copy the mask and also change the original mask array in the future.\n",
      "Check the NumPy 1.11 release notes for more information.\n"
     ]
    },
    {
     "name": "stdout",
     "output_type": "stream",
     "text": [
      "(242, 480)\n",
      "Opening /home/rjackson/data/radar/cpol//2006/20060119/Gunn_pt_200601191850*.nc\n"
     ]
    },
    {
     "name": "stderr",
     "output_type": "stream",
     "text": [
      "/home/rjackson/anaconda3/lib/python3.5/site-packages/ipykernel/__main__.py:24: MaskedArrayFutureWarning: setting an item on a masked array which has a shared mask will not copy the mask and also change the original mask array in the future.\n",
      "Check the NumPy 1.11 release notes for more information.\n"
     ]
    },
    {
     "name": "stdout",
     "output_type": "stream",
     "text": [
      "(242, 480)\n",
      "Opening /home/rjackson/data/radar/cpol//2006/20060119/Gunn_pt_200601191900*.nc\n"
     ]
    },
    {
     "name": "stderr",
     "output_type": "stream",
     "text": [
      "/home/rjackson/anaconda3/lib/python3.5/site-packages/ipykernel/__main__.py:24: MaskedArrayFutureWarning: setting an item on a masked array which has a shared mask will not copy the mask and also change the original mask array in the future.\n",
      "Check the NumPy 1.11 release notes for more information.\n"
     ]
    },
    {
     "name": "stdout",
     "output_type": "stream",
     "text": [
      "(242, 480)\n",
      "Opening /home/rjackson/data/radar/cpol//2006/20060119/Gunn_pt_200601191910*.nc\n"
     ]
    },
    {
     "name": "stderr",
     "output_type": "stream",
     "text": [
      "/home/rjackson/anaconda3/lib/python3.5/site-packages/ipykernel/__main__.py:24: MaskedArrayFutureWarning: setting an item on a masked array which has a shared mask will not copy the mask and also change the original mask array in the future.\n",
      "Check the NumPy 1.11 release notes for more information.\n"
     ]
    },
    {
     "name": "stdout",
     "output_type": "stream",
     "text": [
      "(242, 480)\n",
      "Opening /home/rjackson/data/radar/cpol//2006/20060119/Gunn_pt_200601191920*.nc\n"
     ]
    },
    {
     "name": "stderr",
     "output_type": "stream",
     "text": [
      "/home/rjackson/anaconda3/lib/python3.5/site-packages/ipykernel/__main__.py:24: MaskedArrayFutureWarning: setting an item on a masked array which has a shared mask will not copy the mask and also change the original mask array in the future.\n",
      "Check the NumPy 1.11 release notes for more information.\n"
     ]
    },
    {
     "name": "stdout",
     "output_type": "stream",
     "text": [
      "(242, 480)\n",
      "Opening /home/rjackson/data/radar/cpol//2006/20060119/Gunn_pt_200601191930*.nc\n"
     ]
    },
    {
     "name": "stderr",
     "output_type": "stream",
     "text": [
      "/home/rjackson/anaconda3/lib/python3.5/site-packages/ipykernel/__main__.py:24: MaskedArrayFutureWarning: setting an item on a masked array which has a shared mask will not copy the mask and also change the original mask array in the future.\n",
      "Check the NumPy 1.11 release notes for more information.\n"
     ]
    },
    {
     "name": "stdout",
     "output_type": "stream",
     "text": [
      "(242, 480)\n",
      "Opening /home/rjackson/data/radar/cpol//2006/20060119/Gunn_pt_200601191940*.nc\n"
     ]
    },
    {
     "name": "stderr",
     "output_type": "stream",
     "text": [
      "/home/rjackson/anaconda3/lib/python3.5/site-packages/ipykernel/__main__.py:24: MaskedArrayFutureWarning: setting an item on a masked array which has a shared mask will not copy the mask and also change the original mask array in the future.\n",
      "Check the NumPy 1.11 release notes for more information.\n"
     ]
    },
    {
     "name": "stdout",
     "output_type": "stream",
     "text": [
      "(242, 480)\n",
      "Opening /home/rjackson/data/radar/cpol//2006/20060119/Gunn_pt_200601191950*.nc\n"
     ]
    },
    {
     "name": "stderr",
     "output_type": "stream",
     "text": [
      "/home/rjackson/anaconda3/lib/python3.5/site-packages/ipykernel/__main__.py:24: MaskedArrayFutureWarning: setting an item on a masked array which has a shared mask will not copy the mask and also change the original mask array in the future.\n",
      "Check the NumPy 1.11 release notes for more information.\n"
     ]
    },
    {
     "name": "stdout",
     "output_type": "stream",
     "text": [
      "(242, 480)\n",
      "Opening /home/rjackson/data/radar/cpol//2006/20060119/Gunn_pt_200601192000*.nc\n"
     ]
    },
    {
     "name": "stderr",
     "output_type": "stream",
     "text": [
      "/home/rjackson/anaconda3/lib/python3.5/site-packages/ipykernel/__main__.py:24: MaskedArrayFutureWarning: setting an item on a masked array which has a shared mask will not copy the mask and also change the original mask array in the future.\n",
      "Check the NumPy 1.11 release notes for more information.\n"
     ]
    },
    {
     "name": "stdout",
     "output_type": "stream",
     "text": [
      "(242, 480)\n",
      "Opening /home/rjackson/data/radar/cpol//2006/20060119/Gunn_pt_200601192010*.nc\n"
     ]
    },
    {
     "name": "stderr",
     "output_type": "stream",
     "text": [
      "/home/rjackson/anaconda3/lib/python3.5/site-packages/ipykernel/__main__.py:24: MaskedArrayFutureWarning: setting an item on a masked array which has a shared mask will not copy the mask and also change the original mask array in the future.\n",
      "Check the NumPy 1.11 release notes for more information.\n"
     ]
    },
    {
     "name": "stdout",
     "output_type": "stream",
     "text": [
      "(242, 480)\n",
      "Opening /home/rjackson/data/radar/cpol//2006/20060119/Gunn_pt_200601192020*.nc\n"
     ]
    },
    {
     "name": "stderr",
     "output_type": "stream",
     "text": [
      "/home/rjackson/anaconda3/lib/python3.5/site-packages/ipykernel/__main__.py:24: MaskedArrayFutureWarning: setting an item on a masked array which has a shared mask will not copy the mask and also change the original mask array in the future.\n",
      "Check the NumPy 1.11 release notes for more information.\n"
     ]
    },
    {
     "name": "stdout",
     "output_type": "stream",
     "text": [
      "(242, 480)\n",
      "Opening /home/rjackson/data/radar/cpol//2006/20060119/Gunn_pt_200601192030*.nc\n"
     ]
    },
    {
     "name": "stderr",
     "output_type": "stream",
     "text": [
      "/home/rjackson/anaconda3/lib/python3.5/site-packages/ipykernel/__main__.py:24: MaskedArrayFutureWarning: setting an item on a masked array which has a shared mask will not copy the mask and also change the original mask array in the future.\n",
      "Check the NumPy 1.11 release notes for more information.\n"
     ]
    },
    {
     "name": "stdout",
     "output_type": "stream",
     "text": [
      "(242, 480)\n",
      "Opening /home/rjackson/data/radar/cpol//2006/20060119/Gunn_pt_200601192040*.nc\n"
     ]
    },
    {
     "name": "stderr",
     "output_type": "stream",
     "text": [
      "/home/rjackson/anaconda3/lib/python3.5/site-packages/ipykernel/__main__.py:24: MaskedArrayFutureWarning: setting an item on a masked array which has a shared mask will not copy the mask and also change the original mask array in the future.\n",
      "Check the NumPy 1.11 release notes for more information.\n"
     ]
    },
    {
     "name": "stdout",
     "output_type": "stream",
     "text": [
      "(242, 480)\n",
      "Opening /home/rjackson/data/radar/cpol//2006/20060119/Gunn_pt_200601192050*.nc\n"
     ]
    },
    {
     "name": "stderr",
     "output_type": "stream",
     "text": [
      "/home/rjackson/anaconda3/lib/python3.5/site-packages/ipykernel/__main__.py:24: MaskedArrayFutureWarning: setting an item on a masked array which has a shared mask will not copy the mask and also change the original mask array in the future.\n",
      "Check the NumPy 1.11 release notes for more information.\n"
     ]
    },
    {
     "name": "stdout",
     "output_type": "stream",
     "text": [
      "(242, 480)\n",
      "Opening /home/rjackson/data/radar/cpol//2006/20060119/Gunn_pt_200601192100*.nc\n"
     ]
    },
    {
     "name": "stderr",
     "output_type": "stream",
     "text": [
      "/home/rjackson/anaconda3/lib/python3.5/site-packages/ipykernel/__main__.py:24: MaskedArrayFutureWarning: setting an item on a masked array which has a shared mask will not copy the mask and also change the original mask array in the future.\n",
      "Check the NumPy 1.11 release notes for more information.\n"
     ]
    },
    {
     "name": "stdout",
     "output_type": "stream",
     "text": [
      "(242, 480)\n",
      "Opening /home/rjackson/data/radar/cpol//2006/20060119/Gunn_pt_200601192110*.nc\n"
     ]
    },
    {
     "name": "stderr",
     "output_type": "stream",
     "text": [
      "/home/rjackson/anaconda3/lib/python3.5/site-packages/ipykernel/__main__.py:24: MaskedArrayFutureWarning: setting an item on a masked array which has a shared mask will not copy the mask and also change the original mask array in the future.\n",
      "Check the NumPy 1.11 release notes for more information.\n"
     ]
    },
    {
     "name": "stdout",
     "output_type": "stream",
     "text": [
      "(242, 480)\n",
      "Opening /home/rjackson/data/radar/cpol//2006/20060119/Gunn_pt_200601192120*.nc\n"
     ]
    },
    {
     "name": "stderr",
     "output_type": "stream",
     "text": [
      "/home/rjackson/anaconda3/lib/python3.5/site-packages/ipykernel/__main__.py:24: MaskedArrayFutureWarning: setting an item on a masked array which has a shared mask will not copy the mask and also change the original mask array in the future.\n",
      "Check the NumPy 1.11 release notes for more information.\n"
     ]
    },
    {
     "name": "stdout",
     "output_type": "stream",
     "text": [
      "(243, 480)\n",
      "Opening /home/rjackson/data/radar/cpol//2006/20060119/Gunn_pt_200601192130*.nc\n"
     ]
    },
    {
     "name": "stderr",
     "output_type": "stream",
     "text": [
      "/home/rjackson/anaconda3/lib/python3.5/site-packages/ipykernel/__main__.py:24: MaskedArrayFutureWarning: setting an item on a masked array which has a shared mask will not copy the mask and also change the original mask array in the future.\n",
      "Check the NumPy 1.11 release notes for more information.\n"
     ]
    }
   ],
   "source": [
    "sweep = 12 # 17.5 degrees\n",
    "refl = []\n",
    "rhv = []\n",
    "zdrs = []\n",
    "zs = []\n",
    "datenums_qvp = []\n",
    "for rad_time in times[0]:\n",
    "    radar = get_radar_from_cpol_cfradial(rad_time)\n",
    "    ref = radar.get_field(sweep, 'reflectivity')\n",
    "    zdr = radar.get_field(sweep, 'differential_reflectivity')\n",
    "    rhohv = radar.get_field(sweep, 'cross_correlation_ratio')\n",
    "    azimuth = radar.get_azimuth(sweep)\n",
    "    x,y,z = radar.get_gate_x_y_z(sweep)\n",
    "    sweep_shape = ref.shape\n",
    "    print(sweep_shape)\n",
    "    # Correct ZDR for orientation\n",
    "    azimuth[azimuth > 180] = azimuth[azimuth > 180] - 360\n",
    "    \n",
    "    for j in range(0,sweep_shape[1]):\n",
    "        azimuth_is_zero = np.where(np.abs(azimuth) < 1)\n",
    "        zdr0 = np.mean(zdr[azimuth_is_zero[0],j])\n",
    "        zdr[:,j] = zdr0/(np.square(np.sqrt(zdr0) *\n",
    "                         np.square(np.sin(azimuth*math.pi/180)) +\n",
    "                         np.square(np.cos(azimuth*math.pi/180))))\n",
    "    zdr_mean = np.nanmean(zdr,1)\n",
    "    z_mean = np.nanmean(z,1)\n",
    "    ref_mean = np.nanmean(ref,1)\n",
    "    rhohv_mean = np.nanmean(rhohv,1)\n",
    "    zdrs.append(zdr_mean)\n",
    "    refl.append(ref_mean)\n",
    "    rhv.append(rhohv_mean)\n",
    "    zs.append(z_mean)\n",
    "    datenums_qvp.append(dates.date2num(rad_time))"
   ]
  },
  {
   "cell_type": "code",
   "execution_count": null,
   "metadata": {
    "collapsed": true
   },
   "outputs": [],
   "source": []
  }
 ],
 "metadata": {
  "anaconda-cloud": {},
  "kernelspec": {
   "display_name": "Python [default]",
   "language": "python",
   "name": "python3"
  },
  "language_info": {
   "codemirror_mode": {
    "name": "ipython",
    "version": 3
   },
   "file_extension": ".py",
   "mimetype": "text/x-python",
   "name": "python",
   "nbconvert_exporter": "python",
   "pygments_lexer": "ipython3",
   "version": "3.5.2"
  }
 },
 "nbformat": 4,
 "nbformat_minor": 1
}
