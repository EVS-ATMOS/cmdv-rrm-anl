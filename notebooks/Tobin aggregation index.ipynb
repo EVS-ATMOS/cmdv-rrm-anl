{
 "cells": [
  {
   "cell_type": "markdown",
   "metadata": {},
   "source": [
    "## Isabelle Tobin's convective aggregation classification\n",
    "\n",
    "Uses VISST data to derive convective aggregation index"
   ]
  },
  {
   "cell_type": "code",
   "execution_count": 46,
   "metadata": {
    "collapsed": false
   },
   "outputs": [],
   "source": [
    "# Load required libraries\n",
    "from netCDF4 import Dataset\n",
    "import numpy as np\n",
    "from mpl_toolkits.basemap import Basemap\n",
    "import matplotlib.pyplot as plt\n",
    "import datetime\n",
    "from matplotlib import dates\n",
    "import math\n",
    "import glob\n",
    "import os\n",
    "from skimage import measure\n",
    "%matplotlib inline\n",
    "from scipy import interpolate, ndimage\n",
    "from copy import deepcopy"
   ]
  },
  {
   "cell_type": "markdown",
   "metadata": {},
   "source": [
    "Input time for algorithm to run on"
   ]
  },
  {
   "cell_type": "code",
   "execution_count": 51,
   "metadata": {
    "collapsed": false
   },
   "outputs": [
    {
     "name": "stdout",
     "output_type": "stream",
     "text": [
      "We are about to load grid files for 60 days\n",
      "Looking for files with format /home/rjackson/data/visst/twpvisstpx04*20060101*.cdf\n",
      "Looking for files with format /home/rjackson/data/visst/twpvisstpx04*20060102*.cdf\n",
      "Looking for files with format /home/rjackson/data/visst/twpvisstpx04*20060103*.cdf\n",
      "Looking for files with format /home/rjackson/data/visst/twpvisstpx04*20060104*.cdf\n",
      "Looking for files with format /home/rjackson/data/visst/twpvisstpx04*20060105*.cdf\n",
      "Looking for files with format /home/rjackson/data/visst/twpvisstpx04*20060106*.cdf\n",
      "Looking for files with format /home/rjackson/data/visst/twpvisstpx04*20060107*.cdf\n",
      "Looking for files with format /home/rjackson/data/visst/twpvisstpx04*20060108*.cdf\n",
      "Looking for files with format /home/rjackson/data/visst/twpvisstpx04*20060109*.cdf\n",
      "Looking for files with format /home/rjackson/data/visst/twpvisstpx04*20060110*.cdf\n",
      "Looking for files with format /home/rjackson/data/visst/twpvisstpx04*20060111*.cdf\n",
      "Looking for files with format /home/rjackson/data/visst/twpvisstpx04*20060112*.cdf\n",
      "Looking for files with format /home/rjackson/data/visst/twpvisstpx04*20060113*.cdf\n",
      "Looking for files with format /home/rjackson/data/visst/twpvisstpx04*20060114*.cdf\n",
      "Looking for files with format /home/rjackson/data/visst/twpvisstpx04*20060115*.cdf\n",
      "Looking for files with format /home/rjackson/data/visst/twpvisstpx04*20060116*.cdf\n",
      "Looking for files with format /home/rjackson/data/visst/twpvisstpx04*20060117*.cdf\n",
      "Looking for files with format /home/rjackson/data/visst/twpvisstpx04*20060118*.cdf\n",
      "Looking for files with format /home/rjackson/data/visst/twpvisstpx04*20060119*.cdf\n",
      "Looking for files with format /home/rjackson/data/visst/twpvisstpx04*20060120*.cdf\n",
      "Looking for files with format /home/rjackson/data/visst/twpvisstpx04*20060121*.cdf\n",
      "Looking for files with format /home/rjackson/data/visst/twpvisstpx04*20060122*.cdf\n",
      "Looking for files with format /home/rjackson/data/visst/twpvisstpx04*20060123*.cdf\n",
      "Looking for files with format /home/rjackson/data/visst/twpvisstpx04*20060124*.cdf\n",
      "Looking for files with format /home/rjackson/data/visst/twpvisstpx04*20060125*.cdf\n",
      "Looking for files with format /home/rjackson/data/visst/twpvisstpx04*20060126*.cdf\n",
      "Looking for files with format /home/rjackson/data/visst/twpvisstpx04*20060127*.cdf\n",
      "Looking for files with format /home/rjackson/data/visst/twpvisstpx04*20060128*.cdf\n",
      "Looking for files with format /home/rjackson/data/visst/twpvisstpx04*20060129*.cdf\n",
      "Looking for files with format /home/rjackson/data/visst/twpvisstpx04*20060130*.cdf\n",
      "Looking for files with format /home/rjackson/data/visst/twpvisstpx04*20060131*.cdf\n",
      "Looking for files with format /home/rjackson/data/visst/twpvisstpx04*20060201*.cdf\n",
      "Looking for files with format /home/rjackson/data/visst/twpvisstpx04*20060202*.cdf\n",
      "Looking for files with format /home/rjackson/data/visst/twpvisstpx04*20060203*.cdf\n",
      "Looking for files with format /home/rjackson/data/visst/twpvisstpx04*20060204*.cdf\n",
      "Looking for files with format /home/rjackson/data/visst/twpvisstpx04*20060205*.cdf\n",
      "Looking for files with format /home/rjackson/data/visst/twpvisstpx04*20060206*.cdf\n",
      "Looking for files with format /home/rjackson/data/visst/twpvisstpx04*20060207*.cdf\n",
      "Looking for files with format /home/rjackson/data/visst/twpvisstpx04*20060208*.cdf\n",
      "Looking for files with format /home/rjackson/data/visst/twpvisstpx04*20060209*.cdf\n",
      "Looking for files with format /home/rjackson/data/visst/twpvisstpx04*20060210*.cdf\n",
      "Looking for files with format /home/rjackson/data/visst/twpvisstpx04*20060211*.cdf\n",
      "Looking for files with format /home/rjackson/data/visst/twpvisstpx04*20060212*.cdf\n",
      "Looking for files with format /home/rjackson/data/visst/twpvisstpx04*20060213*.cdf\n",
      "Looking for files with format /home/rjackson/data/visst/twpvisstpx04*20060214*.cdf\n",
      "Looking for files with format /home/rjackson/data/visst/twpvisstpx04*20060215*.cdf\n",
      "Looking for files with format /home/rjackson/data/visst/twpvisstpx04*20060216*.cdf\n",
      "Looking for files with format /home/rjackson/data/visst/twpvisstpx04*20060217*.cdf\n",
      "Looking for files with format /home/rjackson/data/visst/twpvisstpx04*20060218*.cdf\n",
      "Looking for files with format /home/rjackson/data/visst/twpvisstpx04*20060219*.cdf\n",
      "Looking for files with format /home/rjackson/data/visst/twpvisstpx04*20060220*.cdf\n",
      "Looking for files with format /home/rjackson/data/visst/twpvisstpx04*20060221*.cdf\n",
      "Looking for files with format /home/rjackson/data/visst/twpvisstpx04*20060222*.cdf\n",
      "Looking for files with format /home/rjackson/data/visst/twpvisstpx04*20060223*.cdf\n",
      "Looking for files with format /home/rjackson/data/visst/twpvisstpx04*20060224*.cdf\n",
      "Looking for files with format /home/rjackson/data/visst/twpvisstpx04*20060225*.cdf\n",
      "Looking for files with format /home/rjackson/data/visst/twpvisstpx04*20060226*.cdf\n",
      "Looking for files with format /home/rjackson/data/visst/twpvisstpx04*20060227*.cdf\n",
      "Looking for files with format /home/rjackson/data/visst/twpvisstpx04*20060228*.cdf\n",
      "Looking for files with format /home/rjackson/data/visst/twpvisstpx04*20060301*.cdf\n"
     ]
    }
   ],
   "source": [
    "# Input the range of dates and time wanted for the collection of images\n",
    "year = 2006\n",
    "start_day = 1\n",
    "start_month = 1\n",
    "start_hour = 1\n",
    "start_minute = 0\n",
    "start_second = 0\n",
    "\n",
    "end_month = 3\n",
    "end_day = 1\n",
    "end_hour = 1\n",
    "end_minute = 10\n",
    "end_second = 00\n",
    "\n",
    "start_time = datetime.datetime(year,\n",
    "                               start_month,\n",
    "                               start_day,\n",
    "                               start_hour,\n",
    "                               start_minute,\n",
    "                               start_second)\n",
    "end_time = datetime.datetime(year,\n",
    "                             end_month,\n",
    "                             end_day,\n",
    "                             end_hour,\n",
    "                             end_minute,\n",
    "                             end_second)\n",
    "deltatime = end_time - start_time\n",
    "\n",
    "\n",
    "if(deltatime.seconds > 0 or deltatime.minute > 0):\n",
    "    no_days = deltatime.days + 1\n",
    "else:\n",
    "    no_days = deltatime.days\n",
    "\n",
    "days = np.arange(0, no_days, 1)\n",
    "print('We are about to load grid files for ' + str(no_days) + ' days')\n",
    "data_path = '/home/rjackson/data/visst/'\n",
    "\n",
    "# Find the list of files for each day\n",
    "cur_time = start_time\n",
    "\n",
    "file_list = []\n",
    "time_list = []\n",
    "for i in days:\n",
    "    year_str = \"%04d\" % cur_time.year\n",
    "    day_str = \"%02d\" % cur_time.day\n",
    "    month_str = \"%02d\" % cur_time.month\n",
    "    print('Looking for files with format ' +\n",
    "          data_path +\n",
    "          'twpvisstpx04*' +\n",
    "          year_str +\n",
    "          month_str +\n",
    "          day_str +\n",
    "          '*.cdf')\n",
    "    data_list = glob.glob(data_path +\n",
    "                          'twpvisstpx04*' +\n",
    "                          year_str +\n",
    "                          month_str +\n",
    "                          day_str +\n",
    "                          '*.cdf')\n",
    "    if(data_list):\n",
    "        file_list.append(data_list[0])\n",
    "        time_list.append(cur_time)\n",
    "        cur_time = cur_time + datetime.timedelta(days=1)"
   ]
  },
  {
   "cell_type": "code",
   "execution_count": 52,
   "metadata": {
    "collapsed": true
   },
   "outputs": [],
   "source": [
    "# Convert degrees minutes seconds to decimal\n",
    "def dms_to_decimal(deg, minutes, seconds):\n",
    "    return deg+minutes/60+seconds/3600\n",
    "\n",
    "# Convert seconds to midnight to a string format\n",
    "def seconds_to_midnight_to_string(time_secs_after_midnight):\n",
    "\n",
    "    hours = math.floor(time_secs_after_midnight/3600)\n",
    "    minutes = math.floor((time_secs_after_midnight - hours*3600)/60)\n",
    "    temp = datetime.time(int(hours), int(minutes), )\n",
    "    return temp.strftime('%H%M%S')\n",
    "\n",
    "def seconds_to_midnight_to_hm(time_secs_after_midnight):\n",
    "    hours = math.floor(time_secs_after_midnight/3600)\n",
    "    minutes = math.floor((time_secs_after_midnight - hours*3600)/60)\n",
    "    return hours, minutes"
   ]
  },
  {
   "cell_type": "markdown",
   "metadata": {},
   "source": [
    "Load image data. Mask out all regions with Tb > 240 K to only include convective regions as defined by Tobin et al. (2012)"
   ]
  },
  {
   "cell_type": "code",
   "execution_count": 45,
   "metadata": {
    "collapsed": false
   },
   "outputs": [
    {
     "ename": "KeyError",
     "evalue": "'latitude'",
     "output_type": "error",
     "traceback": [
      "\u001b[0;31m---------------------------------------------------------------------------\u001b[0m",
      "\u001b[0;31mKeyError\u001b[0m                                  Traceback (most recent call last)",
      "\u001b[0;32m<ipython-input-45-d6ebcac6a451>\u001b[0m in \u001b[0;36m<module>\u001b[0;34m()\u001b[0m\n\u001b[1;32m      3\u001b[0m \u001b[0;34m\u001b[0m\u001b[0m\n\u001b[1;32m      4\u001b[0m \u001b[0;31m# Load lat, lon, and time parameters\u001b[0m\u001b[0;34m\u001b[0m\u001b[0;34m\u001b[0m\u001b[0m\n\u001b[0;32m----> 5\u001b[0;31m \u001b[0mLatitude\u001b[0m \u001b[0;34m=\u001b[0m \u001b[0mcdf_data\u001b[0m\u001b[0;34m.\u001b[0m\u001b[0mvariables\u001b[0m\u001b[0;34m[\u001b[0m\u001b[0;34m'latitude'\u001b[0m\u001b[0;34m]\u001b[0m\u001b[0;34m\u001b[0m\u001b[0m\n\u001b[0m\u001b[1;32m      6\u001b[0m \u001b[0mLongitude\u001b[0m \u001b[0;34m=\u001b[0m \u001b[0mcdf_data\u001b[0m\u001b[0;34m.\u001b[0m\u001b[0mvariables\u001b[0m\u001b[0;34m[\u001b[0m\u001b[0;34m'longitude'\u001b[0m\u001b[0;34m]\u001b[0m\u001b[0;34m\u001b[0m\u001b[0m\n\u001b[1;32m      7\u001b[0m \u001b[0mTime\u001b[0m \u001b[0;34m=\u001b[0m \u001b[0mcdf_data\u001b[0m\u001b[0;34m.\u001b[0m\u001b[0mvariables\u001b[0m\u001b[0;34m[\u001b[0m\u001b[0;34m'image_times'\u001b[0m\u001b[0;34m]\u001b[0m\u001b[0;34m\u001b[0m\u001b[0m\n",
      "\u001b[0;31mKeyError\u001b[0m: 'latitude'"
     ]
    }
   ],
   "source": [
    "i = 2\n",
    "cdf_data = Dataset(file_list[i], mode='r')\n",
    "\n",
    "# Load lat, lon, and time parameters - try statement for 24-hourly data, except for daily data\n",
    "\n",
    "Latitude = cdf_data.variables['latitude']\n",
    "Longitude = cdf_data.variables['longitude']\n",
    "Time = cdf_data.variables['image_times']\n",
    "NumPixels = cdf_data.variables['image_numpix']\n",
    "\n",
    "     \n",
    "\n",
    "# Load brightness temperature\n",
    "IRBrightness = cdf_data.variables['temperature_ir']\n",
    "\n",
    "frame = 3\n",
    "\n",
    "j = frame\n",
    "\n",
    "convective_regions = IRBrightness < 240\n",
    "Darwin_Lat = dms_to_decimal(-12, 25, 28.56)\n",
    "Darwin_Lon = dms_to_decimal(130, 53, 29.75)\n",
    "\n",
    "cpol_latitude = -12.249166\n",
    "cpol_longitude = 131.04445\n",
    "\n",
    "# Get Lat and Lon for specific frame\n",
    "Lat = Latitude[(int(j)*int(NumPixels[j])):(int(j+1)*int(NumPixels[j])-1)]\n",
    "Lon = Longitude[(int(j)*int(NumPixels[j])):(int(j+1)*int(NumPixels[j])-1)]\n",
    "print(Lon)\n",
    "\n",
    "# Set up projection\n",
    "plt.clf()\n",
    "m = Basemap(width=500000, height=500000,\n",
    "            resolution='l', projection='stere',\n",
    "            lat_0=cpol_latitude,\n",
    "            lon_0=cpol_longitude)\n",
    "\n",
    "xi, yi = m(Lon, Lat)\n",
    "darwin_x, darwin_y = m(cpol_latitude, cpol_longitude)\n",
    "\n",
    "# Regrid data to 2D\n",
    "x,y = np.meshgrid(np.arange(min(xi),max(xi),5000),np.arange(min(yi),max(yi),5000))\n",
    "\n",
    "index = j\n",
    "data = IRBrightness[(int(j)*int(NumPixels[j])):(int(j+1)*int(NumPixels[j])-1)]\n",
    "data_gridded = interpolate.griddata((xi,yi), data, (x,y))\n",
    "lat_gridded = interpolate.griddata((xi,yi), Lat, (x,y))\n",
    "lon_gridded = interpolate.griddata((xi,yi), Lon, (x,y))\n",
    "\n",
    "masked_region = np.logical_or(np.logical_or(lat_gridded > cpol_latitude+1.5,lat_gridded < cpol_latitude-1.5),\n",
    "                               np.logical_or(lon_gridded < cpol_longitude-1.5,lon_gridded > cpol_longitude+1.5))\n",
    "masked_region = np.logical_or(masked_region, data_gridded > 240)\n",
    "data_masked = np.ma.array(data_gridded)\n",
    "data_masked = np.ma.masked_where(masked_region, data_gridded)\n",
    "\n",
    "# Plot the masked data\n",
    "colors = m.pcolormesh(x,y,data_masked, cmap='gray_r', vmin=190, vmax=270)\n",
    "plt.text(darwin_x,\n",
    "         darwin_y,\n",
    "         'Darwin',\n",
    "         fontweight='bold',\n",
    "         color='white')\n",
    "plt.plot(darwin_x*0.98, darwin_y*1.01, 'w.')\n",
    "\n",
    "m.drawparallels(np.arange(-80., 81., 10.),\n",
    "                labels=[1, 0, 0, 0],\n",
    "                fontsize=10)\n",
    "m.drawmeridians(np.arange(-180., 181., 10.),\n",
    "                labels=[0, 0, 0, 1],\n",
    "                fontsize=10)\n",
    "m.drawcoastlines()\n",
    "m.drawcountries()\n",
    "m.colorbar()\n",
    "\n",
    "year_str = \"%04d\" % year\n",
    "day_str = \"%02d\" % time_list[i].month\n",
    "month_str = \"%02d\" % time_list[i].day\n",
    "plt.title('IR Brightness Temperature '\n",
    "          + str(year)\n",
    "          + '-'\n",
    "          + str(day_str)\n",
    "          + '-'\n",
    "          + str(month_str)\n",
    "          + ' '\n",
    "          + seconds_to_midnight_to_string(Time[index]))\n",
    "\n",
    "if not os.path.exists('./output_plots'):\n",
    "    os.makedirs('./output_plots')\n",
    "\n",
    "print('Domain:' + str(np.min(Lon)) + ' ' \n",
    "      + str(np.max(Lon)) + \n",
    "      str(np.min(Lat))\n",
    "      + ' '\n",
    "      + str(np.max(Lat)))\n",
    "blobs = ~data_masked.mask\n",
    "\n",
    "blobs_labels = measure.label(blobs, background=0)\n",
    "\n",
    "print(blobs_labels.shape)\n",
    "array = ndimage.measurements.center_of_mass(blobs, blobs_labels, [1,2,3,4,5,6,7])\n",
    "m.scatter(array[0], array[1])"
   ]
  },
  {
   "cell_type": "markdown",
   "metadata": {},
   "source": [
    "## Find all of the blobs in the image. Number of blobs = number of clusters"
   ]
  },
  {
   "cell_type": "code",
   "execution_count": null,
   "metadata": {
    "collapsed": false
   },
   "outputs": [],
   "source": [
    "# Make image to where 1 = convective, 0 = not convective\n",
    "blobs = deepcopy(data_masked)\n",
    "blobs[~blobs.mask] = 1\n",
    "blobs[blobs.mask] = 0\n",
    "blobs.mask = False\n",
    "\n",
    "# Get locations of blobs\n",
    "blobs_labels, num_blobs = ndimage.measurements.label(blobs)\n",
    "locs = ndimage.measurements.center_of_mass(blobs, blobs_labels, range(2, num_blobs))\n",
    "\n",
    "# Label 0 = masked data, 1 = background, clusters start at label 2\n",
    "print('N = ' + str(num_blobs-2))\n",
    "List = [(elem2, elem1) for elem1, elem2 in locs]\n",
    "print('Locations: ')\n",
    "print(List)\n",
    "\n",
    "# Plot the blobs\n",
    "figure = plt.figure(figsize=(17,9))\n",
    "plt.subplot(211)\n",
    "plt.imshow(blobs_labels, cmap='spectral')\n",
    "plt.title('Blob labels')\n",
    "plt.axis('off')\n",
    "plt.xlim((100, 200))\n",
    "plt.ylim((50, 150))\n",
    "plt.xlabel('X [5 km]')\n",
    "plt.ylabel('Y [5 km]')\n",
    "\n",
    "plt.subplot(212)\n",
    "handle = plt.imshow(data_masked)\n",
    "plt.scatter(*zip(*List), color='b')\n",
    "plt.title('IR Brightness Temperature '\n",
    "          + str(year)\n",
    "          + '-'\n",
    "          + str(day_str)\n",
    "          + '-'\n",
    "          + str(month_str)\n",
    "          + ' '\n",
    "          + seconds_to_midnight_to_string(Time[index]))\n",
    "cbar = plt.colorbar(handle)\n",
    "cbar.set_label('Brightness temperature [k]')\n",
    "plt.xlim((100, 200))\n",
    "plt.ylim((50, 150))\n",
    "plt.xlabel('X [5 km]')\n",
    "plt.ylabel('Y [5 km]')"
   ]
  },
  {
   "cell_type": "markdown",
   "metadata": {},
   "source": [
    "## Calculate SCAI N/Nmax * D/L\n",
    "\n",
    "N = number of clusters\n",
    "Nmax = theoretical maximum number of clusters\n",
    "D = product of distances between cells\n",
    "L = characteristic length of domain (about 350 km here)\n",
    "\n",
    "Tobin et al. (2012) show that N is sufficient to categorize degree of aggregation,\n",
    "SCAI depends on domain size and on resolution, N does not."
   ]
  },
  {
   "cell_type": "code",
   "execution_count": 25,
   "metadata": {
    "collapsed": false
   },
   "outputs": [
    {
     "name": "stdout",
     "output_type": "stream",
     "text": [
      "Expected pairs: 15\n"
     ]
    },
    {
     "ename": "NameError",
     "evalue": "name 'List' is not defined",
     "output_type": "error",
     "traceback": [
      "\u001b[0;31m---------------------------------------------------------------------------\u001b[0m",
      "\u001b[0;31mNameError\u001b[0m                                 Traceback (most recent call last)",
      "\u001b[0;32m<ipython-input-25-e0f4b51760b1>\u001b[0m in \u001b[0;36m<module>\u001b[0;34m()\u001b[0m\n\u001b[1;32m      4\u001b[0m \u001b[0;32mprint\u001b[0m\u001b[0;34m(\u001b[0m\u001b[0;34m'Expected pairs: '\u001b[0m \u001b[0;34m+\u001b[0m \u001b[0mstr\u001b[0m\u001b[0;34m(\u001b[0m\u001b[0;34m(\u001b[0m\u001b[0mnum_blobs\u001b[0m\u001b[0;34m-\u001b[0m\u001b[0;36m2\u001b[0m\u001b[0;34m)\u001b[0m\u001b[0;34m*\u001b[0m\u001b[0;34m(\u001b[0m\u001b[0mnum_blobs\u001b[0m\u001b[0;34m-\u001b[0m\u001b[0;36m3\u001b[0m\u001b[0;34m)\u001b[0m\u001b[0;34m/\u001b[0m\u001b[0;36m2\u001b[0m\u001b[0;34m)\u001b[0m\u001b[0;34m)\u001b[0m\u001b[0;34m\u001b[0m\u001b[0m\n\u001b[1;32m      5\u001b[0m \u001b[0mdistances\u001b[0m \u001b[0;34m=\u001b[0m \u001b[0;34m[\u001b[0m\u001b[0;34m]\u001b[0m\u001b[0;34m\u001b[0m\u001b[0m\n\u001b[0;32m----> 6\u001b[0;31m \u001b[0;32mfor\u001b[0m \u001b[0mpoint1\u001b[0m \u001b[0;32min\u001b[0m \u001b[0mList\u001b[0m\u001b[0;34m:\u001b[0m\u001b[0;34m\u001b[0m\u001b[0m\n\u001b[0m\u001b[1;32m      7\u001b[0m     \u001b[0;32mfor\u001b[0m \u001b[0mpoint2\u001b[0m \u001b[0;32min\u001b[0m \u001b[0mList\u001b[0m\u001b[0;34m:\u001b[0m\u001b[0;34m\u001b[0m\u001b[0m\n\u001b[1;32m      8\u001b[0m         \u001b[0;32mif\u001b[0m\u001b[0;34m(\u001b[0m\u001b[0mpoint1\u001b[0m \u001b[0;34m!=\u001b[0m \u001b[0mpoint2\u001b[0m\u001b[0;34m)\u001b[0m\u001b[0;34m:\u001b[0m\u001b[0;34m\u001b[0m\u001b[0m\n",
      "\u001b[0;31mNameError\u001b[0m: name 'List' is not defined"
     ]
    }
   ],
   "source": [
    "L = 350.0\n",
    "a = 5.0\n",
    "Nmax = pow((L/a),2)\n",
    "print('Expected pairs: ' + str((num_blobs-2)*(num_blobs-3)/2))\n",
    "distances = []\n",
    "for point1 in List:\n",
    "    for point2 in List:\n",
    "        if(point1 != point2):\n",
    "            d = math.sqrt(pow(point1[0]-point2[0],2) + pow(point1[1]-point2[1],2))\n",
    "            distances.append(d)\n",
    "            \n",
    "n = (num_blobs-2)*(num_blobs-3)/2\n",
    "d1 = 1/float(n)*np.sum(distances)\n",
    "print(Nmax)\n",
    "scai = ((num_blobs-2))/Nmax*d1/(L)*1000\n",
    "\n",
    "plt.figure\n",
    "plt.hist(distances)\n",
    "plt.xlabel('Distances between cells')\n",
    "plt.ylabel('Count')\n",
    "plt.title('SCAI for scene:' + str(scai))\n"
   ]
  },
  {
   "cell_type": "markdown",
   "metadata": {},
   "source": [
    "## Make NetCDF for time period"
   ]
  },
  {
   "cell_type": "code",
   "execution_count": 54,
   "metadata": {
    "collapsed": false
   },
   "outputs": [
    {
     "name": "stderr",
     "output_type": "stream",
     "text": [
      "/home/rjackson/anaconda3/envs/pyart/lib/python2.7/site-packages/ipykernel/__main__.py:45: RuntimeWarning: invalid value encountered in greater\n",
      "/home/rjackson/anaconda3/envs/pyart/lib/python2.7/site-packages/ipykernel/__main__.py:45: RuntimeWarning: invalid value encountered in less\n",
      "/home/rjackson/anaconda3/envs/pyart/lib/python2.7/site-packages/ipykernel/__main__.py:46: RuntimeWarning: invalid value encountered in less\n",
      "/home/rjackson/anaconda3/envs/pyart/lib/python2.7/site-packages/ipykernel/__main__.py:46: RuntimeWarning: invalid value encountered in greater\n",
      "/home/rjackson/anaconda3/envs/pyart/lib/python2.7/site-packages/ipykernel/__main__.py:47: RuntimeWarning: invalid value encountered in greater\n"
     ]
    },
    {
     "name": "stdout",
     "output_type": "stream",
     "text": [
      "100\n",
      "200\n",
      "300\n",
      "400\n",
      "500\n",
      "600\n",
      "700\n",
      "800\n",
      "900\n",
      "1000\n",
      "1100\n",
      "1200\n",
      "1300\n",
      "1400\n",
      "1500\n",
      "1600\n",
      "1700\n"
     ]
    },
    {
     "data": {
      "text/plain": [
       "<matplotlib.figure.Figure at 0x7f63ec471f50>"
      ]
     },
     "metadata": {},
     "output_type": "display_data"
    }
   ],
   "source": [
    "N = []\n",
    "years = []\n",
    "days = []\n",
    "months = []\n",
    "hours = []\n",
    "minutes = []\n",
    "d1 = []\n",
    "year = 2006\n",
    "j = 0\n",
    "k = 0\n",
    "for satellite_file in file_list:\n",
    "    cdf_data = Dataset(satellite_file, mode='r')\n",
    " \n",
    "    # Load lat, lon, and time parameters\n",
    "    Latitude = cdf_data.variables['latitude']\n",
    "    Longitude = cdf_data.variables['longitude']\n",
    "    Time = cdf_data.variables['image_times']\n",
    "    NumPixels = cdf_data.variables['image_numpix']\n",
    "    \n",
    "    for i in range(0, len(NumPixels)):    \n",
    "        # Load brightness temperature\n",
    "        IRBrightness = cdf_data.variables['temperature_ir']\n",
    "        \n",
    "        # Get Lat and Lon for specific frame\n",
    "        Lat = Latitude[(int(i)*int(NumPixels[i])):(int(i+1)*int(NumPixels[i])-1)]\n",
    "        Lon = Longitude[(int(i)*int(NumPixels[i])):(int(i+1)*int(NumPixels[i])-1)]\n",
    "        plt.clf()\n",
    "        m = Basemap(width=500000, height=500000,\n",
    "                    resolution='l', projection='stere',\n",
    "                    lat_0=cpol_latitude,\n",
    "                    lon_0=cpol_longitude)\n",
    "\n",
    "        xi, yi = m(Lon, Lat)\n",
    "        darwin_x, darwin_y = m(cpol_latitude, cpol_longitude)\n",
    "\n",
    "        # Regrid data to 2D\n",
    "        x,y = np.meshgrid(np.arange(min(xi),max(xi),5000),np.arange(min(yi),max(yi),5000))\n",
    "\n",
    "        index = j\n",
    "        data = IRBrightness[(int(i)*int(NumPixels[i])):(int(i+1)*int(NumPixels[i])-1)]\n",
    "        data_gridded = interpolate.griddata((xi,yi), data, (x,y))\n",
    "        lat_gridded = interpolate.griddata((xi,yi), Lat, (x,y))\n",
    "        lon_gridded = interpolate.griddata((xi,yi), Lon, (x,y))\n",
    "        \n",
    "        masked_region = np.logical_or(np.logical_or(lat_gridded > cpol_latitude+1.5,lat_gridded < cpol_latitude-1.5),\n",
    "                               np.logical_or(lon_gridded < cpol_longitude-1.5,lon_gridded > cpol_longitude+1.5))\n",
    "        masked_region = np.logical_or(masked_region, data_gridded > 240)\n",
    "        data_masked = np.ma.array(data_gridded)\n",
    "        data_masked = np.ma.masked_where(masked_region, data_gridded)\n",
    "        \n",
    "        # Make image to where 1 = convective, 0 = not convective\n",
    "        blobs = deepcopy(data_masked)\n",
    "        blobs[~blobs.mask] = 1\n",
    "        blobs[blobs.mask] = 0\n",
    "        blobs.mask = False\n",
    "        blobs_labels, num_blobs = ndimage.measurements.label(blobs)\n",
    "        locs = ndimage.measurements.center_of_mass(blobs, blobs_labels, range(2, num_blobs))\n",
    "\n",
    "        # Label 0 = masked data, 1 = background, clusters start at label 2\n",
    "\n",
    "        List = [(elem2, elem1) for elem1, elem2 in locs]\n",
    "        N.append(num_blobs-2)\n",
    "        \n",
    "        distances = []\n",
    "        for point1 in List:\n",
    "            for point2 in List:\n",
    "                if(point1 != point2):\n",
    "                    d = math.sqrt(pow(point1[0]-point2[0],2) + pow(point1[1]-point2[1],2))\n",
    "                    distances.append(d)\n",
    "           \n",
    "        n = (num_blobs-2)*(num_blobs-3)/2\n",
    "        if(n > 0):\n",
    "            d1.append(1/float(n)*np.sum(distances))\n",
    "        else:\n",
    "            d1.append(float('nan'))\n",
    "            \n",
    "        years.append(year)\n",
    "        days.append(time_list[k].day)\n",
    "        months.append(time_list[k].month)\n",
    "        h, m = seconds_to_midnight_to_hm(Time[i])\n",
    "        hours.append(h)\n",
    "        minutes.append(m)\n",
    "        j = j + 1  \n",
    "    \n",
    "        if(j % 100 == 0):\n",
    "            print j\n",
    "    k = k + 1"
   ]
  },
  {
   "cell_type": "code",
   "execution_count": 62,
   "metadata": {
    "collapsed": false
   },
   "outputs": [
    {
     "name": "stdout",
     "output_type": "stream",
     "text": [
      "1722\n"
     ]
    }
   ],
   "source": [
    "# Make netCDF file\n",
    "out_netcdf = Dataset('num_clusters.cdf', mode='w')            \n",
    "out_netcdf.createDimension('time', len(N))\n",
    "print(len(N))\n",
    "\n",
    "groups_file = out_netcdf.createVariable('N', 'i4', ('time',))\n",
    "groups_file.long_name = 'Number of convective clusters'\n",
    "groups_file.units = '#'\n",
    "groups_file[:] = N\n",
    "\n",
    "d1_file = out_netcdf.createVariable('d1', 'f4', ('time',))\n",
    "d1_file.long_name = 'Distance between clusters'\n",
    "d1_file.units = '#'\n",
    "d1_file[:] = d1\n",
    "\n",
    "years_file = out_netcdf.createVariable('year', int, ('time',))\n",
    "years_file.long_name = 'Year'\n",
    "years_file.units = 'YYYY'\n",
    "years_file[:] = year\n",
    "\n",
    "month_file = out_netcdf.createVariable('month',  int, ('time',))\n",
    "month_file.long_name = 'Month'\n",
    "month_file.units = 'MM'\n",
    "month_file[:] = months\n",
    "\n",
    "day_file = out_netcdf.createVariable('day', int, ('time',))\n",
    "day_file.long_name = 'Day'\n",
    "day_file.units = 'DD'\n",
    "day_file[:] = days\n",
    "\n",
    "hour_file = out_netcdf.createVariable('hour', int, ('time',))\n",
    "hour_file.long_name = 'Hour'\n",
    "hour_file.units = 'HH'\n",
    "hour_file[:] = hours\n",
    "\n",
    "minute_file = out_netcdf.createVariable('minute', int, ('time',))\n",
    "minute_file.long_name = 'Hour'\n",
    "minute_file.units = 'MM'\n",
    "minute_file[:] = minutes\n",
    "\n",
    "out_netcdf.close()    "
   ]
  },
  {
   "cell_type": "markdown",
   "metadata": {},
   "source": [
    "## Plot aggregation index as a function of time"
   ]
  },
  {
   "cell_type": "code",
   "execution_count": 65,
   "metadata": {
    "collapsed": false
   },
   "outputs": [
    {
     "name": "stdout",
     "output_type": "stream",
     "text": [
      "[ 0  1  2  3  4  5  6  7  8  9 10 11 12 13 14 15 16 17 18 19 20 21 22 23  0\n",
      "  1  2  3  4  5  6  7  8  9 10 11 12 13 14 15 16 17 18 19 20 21 22 23  0  1]\n"
     ]
    },
    {
     "data": {
      "text/plain": [
       "[<matplotlib.lines.Line2D at 0x7f63ec2bf310>]"
      ]
     },
     "execution_count": 65,
     "metadata": {},
     "output_type": "execute_result"
    },
    {
     "data": {
      "image/png": "[encoded data removed]",
      "text/plain": [
       "<matplotlib.figure.Figure at 0x7f63ec45a990>"
      ]
     },
     "metadata": {},
     "output_type": "display_data"
    }
   ],
   "source": [
    "CY_cdf = Dataset('/home/rjackson/data/num_clusters.cdf', mode='r')\n",
    "\n",
    "classification = CY_cdf.variables['d1'][:]\n",
    "year = CY_cdf.variables['year'][:]\n",
    "month = CY_cdf.variables['month'][:]\n",
    "day = CY_cdf.variables['day'][:]\n",
    "hour = CY_cdf.variables['hour'][:]\n",
    "minute = CY_cdf.variables['minute'][:]\n",
    "print(hour[0:50])\n",
    "\n",
    "date_array = []\n",
    "for i in range(0,len(year)):\n",
    "    dat = datetime.datetime(year=int(year[i]),\n",
    "                            month=int(month[i]),\n",
    "                            day=int(day[i]),\n",
    "                            hour=int(hour[i]),\n",
    "                            minute=int(minute[i]),)\n",
    "    date_array.append(dat)\n",
    "CY_cdf.close()\n",
    "\n",
    "plt.figure(figsize=(20,5))\n",
    "plt.plot_date(dates.date2num(date_array[250:-400]), classification[250:-400])"
   ]
  },
  {
   "cell_type": "code",
   "execution_count": 30,
   "metadata": {
    "collapsed": false
   },
   "outputs": [
    {
     "name": "stdout",
     "output_type": "stream",
     "text": [
      "[ 59558.  59558.  59607.  59607.  59607.  59558.  59558.  59558.]\n"
     ]
    }
   ],
   "source": []
  }
 ],
 "metadata": {
  "anaconda-cloud": {},
  "kernelspec": {
   "display_name": "Python [conda env:pyart]",
   "language": "python",
   "name": "conda-env-pyart-py"
  },
  "language_info": {
   "codemirror_mode": {
    "name": "ipython",
    "version": 2
   },
   "file_extension": ".py",
   "mimetype": "text/x-python",
   "name": "python",
   "nbconvert_exporter": "python",
   "pygments_lexer": "ipython2",
   "version": "2.7.12"
  }
 },
 "nbformat": 4,
 "nbformat_minor": 1
}
