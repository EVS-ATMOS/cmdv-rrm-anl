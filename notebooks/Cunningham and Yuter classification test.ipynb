{
 "cells": [
  {
   "cell_type": "markdown",
   "metadata": {
    "collapsed": true
   },
   "source": [
    "## Cunningham and Yuter convective organization test over a 3 hour scene\n",
    "\n",
    "This notebook tests the Cunningham and Yuter classification over one chosen 3 hour scene."
   ]
  },
  {
   "cell_type": "code",
   "execution_count": 1,
   "metadata": {
    "collapsed": false
   },
   "outputs": [
    {
     "name": "stdout",
     "output_type": "stream",
     "text": [
      "\n",
      "## You are using the Python ARM Radar Toolkit (Py-ART), an open source\n",
      "## library for working with weather radar data. Py-ART is partly\n",
      "## supported by the U.S. Department of Energy as part of the Atmospheric\n",
      "## Radiation Measurement (ARM) Climate Research Facility, an Office of\n",
      "## Science user facility.\n",
      "##\n",
      "## If you use this software to prepare a publication, please cite:\n",
      "##\n",
      "##     JJ Helmus and SM Collis, JORS 2016, doi: 10.5334/jors.119\n",
      "\n"
     ]
    },
    {
     "ename": "KeyError",
     "evalue": "'PROJ_LIB'",
     "output_type": "error",
     "traceback": [
      "\u001b[0;31m---------------------------------------------------------------------------\u001b[0m",
      "\u001b[0;31mKeyError\u001b[0m                                  Traceback (most recent call last)",
      "\u001b[0;32m<ipython-input-1-732252cb9685>\u001b[0m in \u001b[0;36m<module>\u001b[0;34m()\u001b[0m\n\u001b[0;32m----> 1\u001b[0;31m \u001b[0;32mimport\u001b[0m \u001b[0mpyart\u001b[0m\u001b[0;34m\u001b[0m\u001b[0m\n\u001b[0m\u001b[1;32m      2\u001b[0m \u001b[0;32mimport\u001b[0m \u001b[0mgzip\u001b[0m\u001b[0;34m\u001b[0m\u001b[0m\n\u001b[1;32m      3\u001b[0m \u001b[0;32mimport\u001b[0m \u001b[0mwarnings\u001b[0m\u001b[0;34m\u001b[0m\u001b[0m\n\u001b[1;32m      4\u001b[0m \u001b[0mwarnings\u001b[0m\u001b[0;34m.\u001b[0m\u001b[0mfilterwarnings\u001b[0m\u001b[0;34m(\u001b[0m\u001b[0;34m\"ignore\"\u001b[0m\u001b[0;34m)\u001b[0m\u001b[0;34m\u001b[0m\u001b[0m\n\u001b[1;32m      5\u001b[0m \u001b[0;32mfrom\u001b[0m \u001b[0mmatplotlib\u001b[0m \u001b[0;32mimport\u001b[0m \u001b[0mpyplot\u001b[0m \u001b[0;32mas\u001b[0m \u001b[0mplt\u001b[0m\u001b[0;34m\u001b[0m\u001b[0m\n",
      "\u001b[0;32m~/anaconda3/envs/jordi_pyart/lib/python3.6/site-packages/pyart/__init__.py\u001b[0m in \u001b[0;36m<module>\u001b[0;34m()\u001b[0m\n\u001b[1;32m     48\u001b[0m \u001b[0;34m\u001b[0m\u001b[0m\n\u001b[1;32m     49\u001b[0m     \u001b[0;31m# import subpackages\u001b[0m\u001b[0;34m\u001b[0m\u001b[0;34m\u001b[0m\u001b[0m\n\u001b[0;32m---> 50\u001b[0;31m     \u001b[0;32mfrom\u001b[0m \u001b[0;34m.\u001b[0m \u001b[0;32mimport\u001b[0m \u001b[0mcore\u001b[0m\u001b[0;34m\u001b[0m\u001b[0m\n\u001b[0m\u001b[1;32m     51\u001b[0m     \u001b[0;32mfrom\u001b[0m \u001b[0;34m.\u001b[0m \u001b[0;32mimport\u001b[0m \u001b[0mio\u001b[0m\u001b[0;34m\u001b[0m\u001b[0m\n\u001b[1;32m     52\u001b[0m     \u001b[0;32mfrom\u001b[0m \u001b[0;34m.\u001b[0m \u001b[0;32mimport\u001b[0m \u001b[0mcorrect\u001b[0m\u001b[0;34m\u001b[0m\u001b[0m\n",
      "\u001b[0;32m~/anaconda3/envs/jordi_pyart/lib/python3.6/site-packages/pyart/core/__init__.py\u001b[0m in \u001b[0;36m<module>\u001b[0;34m()\u001b[0m\n\u001b[1;32m     35\u001b[0m \u001b[0;34m\u001b[0m\u001b[0m\n\u001b[1;32m     36\u001b[0m \u001b[0;32mfrom\u001b[0m \u001b[0;34m.\u001b[0m\u001b[0mradar\u001b[0m \u001b[0;32mimport\u001b[0m \u001b[0mRadar\u001b[0m\u001b[0;34m\u001b[0m\u001b[0m\n\u001b[0;32m---> 37\u001b[0;31m \u001b[0;32mfrom\u001b[0m \u001b[0;34m.\u001b[0m\u001b[0mgrid\u001b[0m \u001b[0;32mimport\u001b[0m \u001b[0mGrid\u001b[0m\u001b[0;34m\u001b[0m\u001b[0m\n\u001b[0m\u001b[1;32m     38\u001b[0m \u001b[0;32mfrom\u001b[0m \u001b[0;34m.\u001b[0m\u001b[0mwind_profile\u001b[0m \u001b[0;32mimport\u001b[0m \u001b[0mHorizontalWindProfile\u001b[0m\u001b[0;34m\u001b[0m\u001b[0m\n\u001b[1;32m     39\u001b[0m \u001b[0;34m\u001b[0m\u001b[0m\n",
      "\u001b[0;32m~/anaconda3/envs/jordi_pyart/lib/python3.6/site-packages/pyart/core/grid.py\u001b[0m in \u001b[0;36m<module>\u001b[0;34m()\u001b[0m\n\u001b[1;32m     25\u001b[0m \u001b[0;34m\u001b[0m\u001b[0m\n\u001b[1;32m     26\u001b[0m \u001b[0;32mtry\u001b[0m\u001b[0;34m:\u001b[0m\u001b[0;34m\u001b[0m\u001b[0m\n\u001b[0;32m---> 27\u001b[0;31m     \u001b[0;32mfrom\u001b[0m \u001b[0mmpl_toolkits\u001b[0m\u001b[0;34m.\u001b[0m\u001b[0mbasemap\u001b[0m \u001b[0;32mimport\u001b[0m \u001b[0mpyproj\u001b[0m\u001b[0;34m\u001b[0m\u001b[0m\n\u001b[0m\u001b[1;32m     28\u001b[0m     \u001b[0m_PYPROJ_AVAILABLE\u001b[0m \u001b[0;34m=\u001b[0m \u001b[0;32mTrue\u001b[0m\u001b[0;34m\u001b[0m\u001b[0m\n\u001b[1;32m     29\u001b[0m \u001b[0;32mexcept\u001b[0m \u001b[0mImportError\u001b[0m\u001b[0;34m:\u001b[0m\u001b[0;34m\u001b[0m\u001b[0m\n",
      "\u001b[0;32m~/anaconda3/envs/jordi_pyart/lib/python3.6/site-packages/mpl_toolkits/basemap/__init__.py\u001b[0m in \u001b[0;36m<module>\u001b[0;34m()\u001b[0m\n\u001b[1;32m    144\u001b[0m \u001b[0;34m\u001b[0m\u001b[0m\n\u001b[1;32m    145\u001b[0m \u001b[0;31m# create dictionary that maps epsg codes to Basemap kwargs.\u001b[0m\u001b[0;34m\u001b[0m\u001b[0;34m\u001b[0m\u001b[0m\n\u001b[0;32m--> 146\u001b[0;31m \u001b[0mpyproj_datadir\u001b[0m \u001b[0;34m=\u001b[0m \u001b[0mos\u001b[0m\u001b[0;34m.\u001b[0m\u001b[0menviron\u001b[0m\u001b[0;34m[\u001b[0m\u001b[0;34m'PROJ_LIB'\u001b[0m\u001b[0;34m]\u001b[0m\u001b[0;34m\u001b[0m\u001b[0m\n\u001b[0m\u001b[1;32m    147\u001b[0m \u001b[0mepsgf\u001b[0m \u001b[0;34m=\u001b[0m \u001b[0mopen\u001b[0m\u001b[0;34m(\u001b[0m\u001b[0mos\u001b[0m\u001b[0;34m.\u001b[0m\u001b[0mpath\u001b[0m\u001b[0;34m.\u001b[0m\u001b[0mjoin\u001b[0m\u001b[0;34m(\u001b[0m\u001b[0mpyproj_datadir\u001b[0m\u001b[0;34m,\u001b[0m\u001b[0;34m'epsg'\u001b[0m\u001b[0;34m)\u001b[0m\u001b[0;34m)\u001b[0m\u001b[0;34m\u001b[0m\u001b[0m\n\u001b[1;32m    148\u001b[0m \u001b[0mepsg_dict\u001b[0m\u001b[0;34m=\u001b[0m\u001b[0;34m{\u001b[0m\u001b[0;34m}\u001b[0m\u001b[0;34m\u001b[0m\u001b[0m\n",
      "\u001b[0;32m~/anaconda3/envs/jordi_pyart/lib/python3.6/os.py\u001b[0m in \u001b[0;36m__getitem__\u001b[0;34m(self, key)\u001b[0m\n\u001b[1;32m    667\u001b[0m         \u001b[0;32mexcept\u001b[0m \u001b[0mKeyError\u001b[0m\u001b[0;34m:\u001b[0m\u001b[0;34m\u001b[0m\u001b[0m\n\u001b[1;32m    668\u001b[0m             \u001b[0;31m# raise KeyError with the original key value\u001b[0m\u001b[0;34m\u001b[0m\u001b[0;34m\u001b[0m\u001b[0m\n\u001b[0;32m--> 669\u001b[0;31m             \u001b[0;32mraise\u001b[0m \u001b[0mKeyError\u001b[0m\u001b[0;34m(\u001b[0m\u001b[0mkey\u001b[0m\u001b[0;34m)\u001b[0m \u001b[0;32mfrom\u001b[0m \u001b[0;32mNone\u001b[0m\u001b[0;34m\u001b[0m\u001b[0m\n\u001b[0m\u001b[1;32m    670\u001b[0m         \u001b[0;32mreturn\u001b[0m \u001b[0mself\u001b[0m\u001b[0;34m.\u001b[0m\u001b[0mdecodevalue\u001b[0m\u001b[0;34m(\u001b[0m\u001b[0mvalue\u001b[0m\u001b[0;34m)\u001b[0m\u001b[0;34m\u001b[0m\u001b[0m\n\u001b[1;32m    671\u001b[0m \u001b[0;34m\u001b[0m\u001b[0m\n",
      "\u001b[0;31mKeyError\u001b[0m: 'PROJ_LIB'"
     ]
    }
   ],
   "source": [
    "import pyart\n",
    "import gzip\n",
    "import warnings\n",
    "warnings.filterwarnings(\"ignore\")\n",
    "from matplotlib import pyplot as plt\n",
    "from matplotlib import animation\n",
    "from matplotlib import rcParams\n",
    "from matplotlib import dates\n",
    "from scipy import ndimage\n",
    "import shutil, os\n",
    "from datetime import timedelta, datetime\n",
    "import numpy as np\n",
    "import tempfile\n",
    "import glob\n",
    "import re\n",
    "import time\n",
    "from copy import deepcopy\n",
    "from IPython.display import Image, display\n",
    "%matplotlib inline"
   ]
  },
  {
   "cell_type": "code",
   "execution_count": null,
   "metadata": {
    "collapsed": false
   },
   "outputs": [],
   "source": [
    "# Input the range of dates and time wanted for the collection of images\n",
    "start_year = 2006\n",
    "start_day = 19\n",
    "start_month = 1\n",
    "start_hour = 16\n",
    "start_minute = 00\n",
    "start_second = 0\n",
    "\n",
    "end_year = 2006\n",
    "end_month = 1\n",
    "end_day = 19\n",
    "end_hour = 19\n",
    "end_minute = 0\n",
    "end_second = 0\n",
    "\n",
    "data_path_cpol = '/home/rjackson/data/radar/cpol/'"
   ]
  },
  {
   "cell_type": "markdown",
   "metadata": {},
   "source": [
    "This looks for all of the available timeperiods in the data_path directory and pulls out\n",
    "the file names that match the given time periods above."
   ]
  },
  {
   "cell_type": "code",
   "execution_count": null,
   "metadata": {
    "collapsed": false
   },
   "outputs": [],
   "source": [
    "# get_radar_times_cpol\n",
    "#     start_year = Start year of animation\n",
    "#     start_month = Start month of animation\n",
    "#     start_day = Start day of animation\n",
    "#     start_hour = Start hour of animation\n",
    "#     end_year = End year of animation\n",
    "#     end_month = End month of animation\n",
    "#     end_day = End day of animation\n",
    "#     end_minute = End minute of animation\n",
    "#     minute_interval = Interval in minutes between scans (default is 5)\n",
    "# This procedure acquires an array of Radar classes between start_time and end_time  \n",
    "def get_radar_times_cpol(start_year, start_month, start_day,\n",
    "                         start_hour, start_minute, end_year,\n",
    "                         end_month, end_day, end_hour, \n",
    "                         end_minute, minute_interval=5):\n",
    "\n",
    "    from datetime import timedelta, datetime\n",
    "    start_time = datetime(start_year,\n",
    "                          start_month,\n",
    "                          start_day,\n",
    "                          start_hour,\n",
    "                          start_minute,\n",
    "                          )\n",
    "    end_time = datetime(end_year,\n",
    "                        end_month,\n",
    "                        end_day,\n",
    "                        end_hour,\n",
    "                        end_minute,\n",
    "                        )  \n",
    "\n",
    "    deltatime = end_time - start_time\n",
    "\n",
    "\n",
    "    if(deltatime.seconds > 0 or deltatime.minute > 0):\n",
    "        no_days = deltatime.days + 1\n",
    "    else:\n",
    "        no_days = deltatime.days\n",
    "    \n",
    "    if(start_day != end_day):\n",
    "        no_days = no_days + 1\n",
    "        \n",
    "    days = range(0, no_days)\n",
    "    print('We are about to load grid files for ' + str(no_days) + ' days')\n",
    "    \n",
    "\n",
    "    # Find the list of files for each day\n",
    "    cur_time = start_time\n",
    " \n",
    "    file_list = []\n",
    "    time_list = []\n",
    "    for i in days:\n",
    "        year_str = \"%04d\" % cur_time.year\n",
    "        day_str = \"%02d\" % cur_time.day\n",
    "        month_str = \"%02d\" % cur_time.month\n",
    "        format_str = (data_path_cpol +\n",
    "                      'Gunn_pt_' +\n",
    "                      year_str +\n",
    "                      month_str +\n",
    "                      day_str +\n",
    "                     '*.uf')\n",
    "    \n",
    "    \n",
    "        print('Looking for files with format ' + format_str)\n",
    "          \n",
    "        data_list = glob.glob(data_path_cpol +\n",
    "                             'Gunn_pt_' +\n",
    "                              year_str +\n",
    "                              month_str +\n",
    "                              day_str +\n",
    "                              '*.uf')\n",
    "        \n",
    "        for j in range(0, len(data_list)):\n",
    "            file_list.append(data_list[j])\n",
    "        cur_time = cur_time + timedelta(days=1)\n",
    "    \n",
    "    # Parse all of the dates and time in the interval and add them to the time list\n",
    "    past_time = []\n",
    "    for file_name in file_list:\n",
    "        date_str = file_name[-26:-12]\n",
    "        year_str = date_str[0:4]\n",
    "        month_str = date_str[4:6]\n",
    "        day_str = date_str[6:8]\n",
    "        hour_str = date_str[8:10]\n",
    "        minute_str = date_str[10:12]\n",
    "        second_str = date_str[12:14]\n",
    "        \n",
    "        \n",
    "        \n",
    "        cur_time = datetime(int(year_str),\n",
    "                            int(month_str),\n",
    "                            int(day_str),\n",
    "                            int(hour_str),\n",
    "                            int(minute_str),\n",
    "                            int(second_str))\n",
    "        time_list.append(cur_time)\n",
    "    \n",
    "    # Sort time list and make sure time are at least xx min apart\n",
    "    time_list.sort()\n",
    "    time_list_sorted = deepcopy(time_list)\n",
    "   \n",
    "    time_list_final = []\n",
    "    past_time = []\n",
    "    \n",
    "    \n",
    "    for times in time_list_sorted: \n",
    "        \n",
    "        cur_time = times  \n",
    "        \n",
    "        if(past_time == []):\n",
    "            past_time = cur_time\n",
    "            \n",
    "        if(cur_time - past_time >= timedelta(minutes=minute_interval)\n",
    "           and cur_time >= start_time and cur_time <= end_time):\n",
    "            \n",
    "            time_list_final.append(cur_time)\n",
    "            past_time = cur_time\n",
    "                   \n",
    "    return time_list_final\n",
    "\n",
    "# Get a Radar object given a time period in the CPOL dataset\n",
    "def get_radar_from_cpol(time):\n",
    "    from datetime import timedelta, datetime\n",
    "    year_str = \"%04d\" % time.year\n",
    "    month_str = \"%02d\" % time.month\n",
    "    day_str = \"%02d\" % time.day\n",
    "    hour_str = \"%02d\" % time.hour\n",
    "    minute_str = \"%02d\" % time.minute\n",
    "    second_str = \"%02d\" % time.second\n",
    "    file_name_str = (data_path_cpol +\n",
    "                     'Gunn_pt_' +\n",
    "                     year_str +\n",
    "                     month_str +\n",
    "                     day_str +\n",
    "                     hour_str +\n",
    "                     minute_str +\n",
    "                     second_str +\n",
    "                     '_PPI_deal.uf')\n",
    "    radar = pyart.io.read_uf(file_name_str)\n",
    "    return radar"
   ]
  },
  {
   "cell_type": "code",
   "execution_count": null,
   "metadata": {
    "collapsed": false
   },
   "outputs": [],
   "source": [
    "# Plot the radars from given time.\n",
    "\n",
    "times = get_radar_times_cpol(start_year, start_month, start_day,\n",
    "                             start_hour, start_minute, end_year,\n",
    "                             end_month, end_day, end_hour, \n",
    "                             end_minute, minute_interval=10)"
   ]
  },
  {
   "cell_type": "markdown",
   "metadata": {},
   "source": [
    "Test Steiner convective classification on scan"
   ]
  },
  {
   "cell_type": "code",
   "execution_count": null,
   "metadata": {
    "collapsed": false
   },
   "outputs": [],
   "source": [
    "frame_number = 13\n",
    "Radar = get_radar_from_cpol(times[frame_number])\n",
    "\n",
    "print('Calculating texture....')\n",
    "nyq_Gunn = Radar.instrument_parameters['nyquist_velocity']['data'][0]\n",
    "\n",
    "data = ndimage.filters.generic_filter(Radar.fields['velocity']['data'],\n",
    "                                      pyart.util.interval_std, size = (6,6),\n",
    "                                      extra_arguments = (-nyq_Gunn, nyq_Gunn))\n",
    "filtered_data = ndimage.filters.median_filter(data, size = (4,4))\n",
    "texture_field = pyart.config.get_metadata('velocity')\n",
    "texture_field['data'] = filtered_data\n",
    "\n",
    "Radar.add_field('velocity_texture', texture_field, replace_existing = True)"
   ]
  },
  {
   "cell_type": "code",
   "execution_count": null,
   "metadata": {
    "collapsed": false
   },
   "outputs": [],
   "source": [
    "gatefilter_Gunn = pyart.correct.GateFilter(Radar)\n",
    "gatefilter_Gunn.exclude_above('velocity_texture', 4)"
   ]
  },
  {
   "cell_type": "code",
   "execution_count": null,
   "metadata": {
    "collapsed": true
   },
   "outputs": [],
   "source": [
    "def grid_radar(radar, grid_shape=(20, 301, 301), xlim=(-150000, 150000),\n",
    "               ylim=(-150000, 150000), zlim=(1000, 20000), bsp=1.0, \n",
    "               min_radius=750, h_factor=4.0, nb=1.5,\n",
    "               fields=['DT', 'VT'], origin=None):\n",
    "    bt = time.time()\n",
    "    radar_list = [radar]\n",
    "    if origin is None:\n",
    "        origin = (radar.latitude['data'][0],\n",
    "                  radar.longitude['data'][0])\n",
    "    grid = pyart.map.grid_from_radars(\n",
    "        radar_list, grid_shape=grid_shape,\n",
    "        grid_limits=(zlim, ylim, xlim),\n",
    "        grid_origin=origin, fields=fields,\n",
    "        weighting_function='Cressman',\n",
    "        gridding_algo='map_gates_to_grid',\n",
    "        h_factor=h_factor,\n",
    "        min_radius=min_radius,\n",
    "        bsp=bsp,\n",
    "        nb=nb)\n",
    "    print(time.time() - bt, 'seconds to grid radar')\n",
    "    return grid"
   ]
  },
  {
   "cell_type": "code",
   "execution_count": null,
   "metadata": {
    "collapsed": false
   },
   "outputs": [],
   "source": [
    "# Change variable names to DT (reflectivity) and VT (velocity) expected by multidop\n",
    "# If you needed to dealias or perform other corrections,\n",
    "# this would be the time to start doing that.\n",
    "# Both datasets already have aliasing corrections\n",
    "cp = deepcopy(Radar.fields['corrected_reflectivity']['data'])\n",
    "texture = Radar.fields['velocity_texture']['data']\n",
    "\n",
    "# Apply texture filter to CPOL data\n",
    "cp = np.ma.masked_where(texture > 4, cp)\n",
    "Radar.add_field_like('corrected_reflectivity', 'reflectivity', cp, replace_existing=True)\n",
    "\n",
    "grid_cpol = grid_radar(Radar, \n",
    "                       origin=(Radar.latitude['data'][0], Radar.longitude['data'][0]),\n",
    "                       xlim=(-100000, 100000), ylim=(-100000, 100000), \n",
    "                       fields=['reflectivity'], min_radius=750.0, bsp=1.0, nb=1.5,\n",
    "                       h_factor=2.0,\n",
    "                       zlim=(500, 20000), grid_shape=(40, 121, 121))"
   ]
  },
  {
   "cell_type": "markdown",
   "metadata": {
    "collapsed": true
   },
   "source": [
    "Test Steiner classification"
   ]
  },
  {
   "cell_type": "code",
   "execution_count": null,
   "metadata": {
    "collapsed": false
   },
   "outputs": [],
   "source": [
    "convective = pyart.retrieve.steiner_conv_strat(grid_cpol)\n",
    "#grid_cpol.add_field('conv_strat', convective)\n",
    "\n",
    "plt.figure(figsize=(8,14))\n",
    "plt.subplot(211)\n",
    "x,y = np.meshgrid(grid_cpol.x['data'], grid_cpol.y['data'])\n",
    "plt.pcolormesh(x/1e3,y/1e3,convective['data'])\n",
    "plt.xlabel('Distance from CPOL [km]')\n",
    "plt.ylabel('Distance from CPOL [km]')\n",
    "\n",
    "cbar = plt.colorbar(ticks=[0, 1, 2])\n",
    "cbar.ax.set_yticklabels(['Little precip', 'Stratiform', 'Convection'])\n",
    "plt.subplot(212)\n",
    "\n",
    "\n",
    "CPOLGridDisplay = pyart.graph.GridMapDisplay(grid_cpol)\n",
    "CPOLGridDisplay.plot_grid('reflectivity', 0, vmin=-10, vmax=70,\n",
    "                          cmap=pyart.graph.cm.NWSRef)"
   ]
  },
  {
   "cell_type": "markdown",
   "metadata": {},
   "source": [
    "# Calculate parameters needed for classification for whole period"
   ]
  },
  {
   "cell_type": "code",
   "execution_count": 94,
   "metadata": {
    "collapsed": false
   },
   "outputs": [
    {
     "name": "stdout",
     "output_type": "stream",
     "text": [
      "Calculating texture....\n",
      "1.3891019821166992 seconds to grid radar\n",
      "Calculating texture....\n",
      "1.3231735229492188 seconds to grid radar\n",
      "Calculating texture....\n",
      "1.3289496898651123 seconds to grid radar\n",
      "Calculating texture....\n",
      "1.3265936374664307 seconds to grid radar\n",
      "Calculating texture....\n",
      "1.3272643089294434 seconds to grid radar\n",
      "Calculating texture....\n",
      "1.3298726081848145 seconds to grid radar\n",
      "Calculating texture....\n",
      "1.3285377025604248 seconds to grid radar\n",
      "Calculating texture....\n",
      "1.510981798171997 seconds to grid radar\n",
      "Calculating texture....\n",
      "1.3306241035461426 seconds to grid radar\n",
      "Calculating texture....\n",
      "1.3385100364685059 seconds to grid radar\n",
      "Calculating texture....\n",
      "1.3337976932525635 seconds to grid radar\n",
      "Calculating texture....\n",
      "1.3701019287109375 seconds to grid radar\n",
      "Calculating texture....\n",
      "1.3334379196166992 seconds to grid radar\n",
      "Calculating texture....\n",
      "1.3412275314331055 seconds to grid radar\n",
      "Calculating texture....\n",
      "1.3318591117858887 seconds to grid radar\n",
      "Calculating texture....\n",
      "1.3315088748931885 seconds to grid radar\n",
      "Calculating texture....\n",
      "1.362833023071289 seconds to grid radar\n"
     ]
    }
   ],
   "source": [
    "opportunities = len(times)\n",
    "\n",
    "precip_types = np.ma.zeros((opportunities, len(grid_cpol.x['data']), len(grid_cpol.y['data'])))\n",
    "\n",
    "i = 0\n",
    "for t in times:\n",
    "    Radar = get_radar_from_cpol(t)\n",
    "\n",
    "    print('Calculating texture....')\n",
    "    nyq_Gunn = Radar.instrument_parameters['nyquist_velocity']['data'][0]\n",
    "\n",
    "    data = ndimage.filters.generic_filter(Radar.fields['velocity']['data'],\n",
    "                                          pyart.util.interval_std, size = (6,6),\n",
    "                                          extra_arguments = (-nyq_Gunn, nyq_Gunn))\n",
    "    filtered_data = ndimage.filters.median_filter(data, size = (4,4))\n",
    "    texture_field = pyart.config.get_metadata('velocity')\n",
    "    texture_field['data'] = filtered_data\n",
    "\n",
    "    Radar.add_field('velocity_texture', texture_field, replace_existing = True)\n",
    "    cp = deepcopy(Radar.fields['corrected_reflectivity']['data'])\n",
    "    texture = texture_field['data']\n",
    "\n",
    "    # Apply texture filter to CPOL data\n",
    "    cp = np.ma.masked_where(texture > 4, cp)\n",
    "    Radar.add_field_like('corrected_reflectivity', 'reflectivity', cp, replace_existing=True)\n",
    "\n",
    "    grid_cpol = grid_radar(Radar, \n",
    "                           origin=(Radar.latitude['data'][0], Radar.longitude['data'][0]),\n",
    "                           xlim=(-100000, 100000), ylim=(-100000, 100000), \n",
    "                           fields=['reflectivity'], min_radius=750.0, bsp=1.0, nb=1.5,\n",
    "                           h_factor=2.0,\n",
    "                           zlim=(500, 20000), grid_shape=(40, 121, 121))\n",
    "    \n",
    "    convective = pyart.retrieve.steiner_conv_strat(grid_cpol)\n",
    "    precip_types[i,:,:] = convective['data']\n",
    "    i = i + 1    "
   ]
  },
  {
   "cell_type": "markdown",
   "metadata": {},
   "source": [
    "Calculate the convective pixels, convective-stratiform intermittency, and the\n",
    "total number of precipitation opportunities."
   ]
  },
  {
   "cell_type": "code",
   "execution_count": 95,
   "metadata": {
    "collapsed": false
   },
   "outputs": [],
   "source": [
    "total_frequency = np.zeros((len(grid_cpol.x['data']), \n",
    "                           len(grid_cpol.y['data'])))\n",
    "convective_frequency = np.zeros((len(grid_cpol.x['data']), \n",
    "                                 len(grid_cpol.y['data'])))\n",
    "total_changes = np.zeros((len(grid_cpol.x['data']), \n",
    "                          len(grid_cpol.y['data'])))\n",
    "intermittency = np.zeros((len(grid_cpol.x['data']), \n",
    "                          len(grid_cpol.y['data'])))\n",
    "modes = np.zeros((len(grid_cpol.x['data']), \n",
    "                  len(grid_cpol.y['data'])))\n",
    "\n",
    "for j in range(0, len(grid_cpol.x['data'])):\n",
    "    for k in range(0, len(grid_cpol.y['data'])):\n",
    "        ptypes = np.squeeze(precip_types[:,j,k])\n",
    "        total_frequency[j,k] = sum(np.where(ptypes > 0, 1, 0))\n",
    "        if(total_frequency[j,k] > 0):\n",
    "            convective_frequency[j,k] = float(sum(np.where(ptypes == 2, 1, 0))) / float(total_frequency[j,k])\n",
    "        changes = np.zeros(ptypes.shape)\n",
    "        changes[1:] = np.diff(ptypes)\n",
    "        changes[ptypes == 0] = 0\n",
    "        total_changes[j,k] = sum(changes[ptypes > 0])\n",
    "        intermittency[j,k] = float(total_changes[j,k])/float(opportunities)\n",
    "        if(convective_frequency[j,k] < 0.33):\n",
    "            modes[j,k] = 1\n",
    "        elif(convective_frequency[j,k] > 0.33 and\n",
    "             convective_frequency[j,k] < 0.66 and\n",
    "             intermittency[j,j] > 0.33):\n",
    "            modes[j,k] = 2\n",
    "        elif(convective_frequency[j,k] > 0.66):\n",
    "            modes[j,k] = 3\n",
    "        else:\n",
    "            modes[j,k] = 4\n",
    "        \n",
    "        # Little precipitation periods\n",
    "        if(float(total_frequency[j,k]/float(opportunities) < 0.3)):\n",
    "            modes[j,k] = 0"
   ]
  },
  {
   "cell_type": "markdown",
   "metadata": {},
   "source": [
    "Plot test of metrics."
   ]
  },
  {
   "cell_type": "code",
   "execution_count": 96,
   "metadata": {
    "collapsed": false
   },
   "outputs": [
    {
     "name": "stdout",
     "output_type": "stream",
     "text": [
      "[ 0.  0.  0.  0.  0.  0.  0.  0.  0.  0.  0.  0.  0.  0.  0.  0.  0.]\n",
      "113\n",
      "113.0\n",
      "0.0\n",
      "0.0\n",
      "Stratiform!\n"
     ]
    },
    {
     "data": {
      "image/png": "[encoded data removed]",
      "text/plain": [
       "<matplotlib.figure.Figure at 0x7fb3be4c9be0>"
      ]
     },
     "metadata": {},
     "output_type": "display_data"
    }
   ],
   "source": [
    "print(ptypes)\n",
    "plt.figure\n",
    "plt.pcolormesh(x/1e3,y/1e3,modes)\n",
    "plt.xlabel('Distance east of CPOL [km]')\n",
    "plt.ylabel('Distance north of CPOL [km]')\n",
    "cbar = plt.colorbar(ticks=[0, 1, 2, 3, 4])\n",
    "cbar.ax.set_yticklabels(['Little precip', 'Stratiform', 'Embedded convection', 'Convection', 'Other'])  \n",
    "plt.title('Cunningham and Yuter classification')\n",
    "\n",
    "print(len(np.where(modes > 0)[1]))\n",
    "total_points = len(np.where(modes > 0)[1])\n",
    "total_stratiform = len(np.where(modes == 1)[1])\n",
    "total_embedded = len(np.where(modes == 2)[1])\n",
    "total_convective = len(np.where(modes == 3)[1])\n",
    "total_other = len(np.where(modes == 4)[1])\n",
    "\n",
    "print(float(total_stratiform))\n",
    "print(float(total_convective))\n",
    "print(float(total_embedded))\n",
    "\n",
    "if(float(total_stratiform)/float(total_points) > 0.25):\n",
    "    print('Stratiform!')\n",
    "elif(float(total_convective)/float(total_points) > 0.25):\n",
    "    print('Convective!')\n",
    "elif(float(total_embedded)/float(total_points) > 0.25):    \n",
    "    print('Embedded convection!')\n",
    "else:\n",
    "    print('Other!')"
   ]
  },
  {
   "cell_type": "markdown",
   "metadata": {},
   "source": [
    "## Timeseries of Cunningham and Yuter classification for TWP-ICE"
   ]
  },
  {
   "cell_type": "code",
   "execution_count": 3,
   "metadata": {
    "collapsed": false
   },
   "outputs": [
    {
     "data": {
      "text/plain": [
       "[<matplotlib.text.Text at 0x7f077c0ec4e0>,\n",
       " <matplotlib.text.Text at 0x7f077c0e5240>,\n",
       " <matplotlib.text.Text at 0x7f077c0a4320>,\n",
       " <matplotlib.text.Text at 0x7f077c0a4d30>]"
      ]
     },
     "execution_count": 3,
     "metadata": {},
     "output_type": "execute_result"
    },
    {
     "data": {
      "image/png": "[encoded data removed]",
      "text/plain": [
       "<matplotlib.figure.Figure at 0x7f079c0e32e8>"
      ]
     },
     "metadata": {},
     "output_type": "display_data"
    }
   ],
   "source": [
    "from netCDF4 import Dataset\n",
    "\n",
    "CY_cdf = Dataset('/home/rjackson/data/CYClassification.cdf', mode='r')\n",
    "\n",
    "classification = CY_cdf.variables['organization'][:]\n",
    "year = CY_cdf.variables['year'][:]\n",
    "month = CY_cdf.variables['month'][:]\n",
    "day = CY_cdf.variables['day'][:]\n",
    "hour = CY_cdf.variables['hour'][:]\n",
    "minute = CY_cdf.variables['minute'][:]\n",
    "\n",
    "date_array = []\n",
    "for i in range(0,len(year)):\n",
    "    dat = datetime(year[i],month[i],day[i],hour[i],minute[i],)\n",
    "    date_array.append(dat)\n",
    "CY_cdf.close()\n",
    "\n",
    "plt.figure(figsize=(20,5))\n",
    "plt.plot_date(dates.date2num(date_array), classification)\n",
    "plt.gca().set_yticks([0,1,2,3])\n",
    "plt.gca().set_yticklabels(['Mostly Stratiform', 'Mostly Convective', 'Embedded Convection', 'Other'])"
   ]
  }
 ],
 "metadata": {
  "anaconda-cloud": {},
  "kernelspec": {
   "display_name": "Python [conda env:jordi_pyart]",
   "language": "python",
   "name": "conda-env-jordi_pyart-py"
  },
  "language_info": {
   "codemirror_mode": {
    "name": "ipython",
    "version": 3
   },
   "file_extension": ".py",
   "mimetype": "text/x-python",
   "name": "python",
   "nbconvert_exporter": "python",
   "pygments_lexer": "ipython3",
   "version": "3.6.4"
  }
 },
 "nbformat": 4,
 "nbformat_minor": 1
}
