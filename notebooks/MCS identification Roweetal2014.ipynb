{
 "cells": [
  {
   "cell_type": "markdown",
   "metadata": {},
   "source": [
    "## Convective area and MCS identification"
   ]
  },
  {
   "cell_type": "code",
   "execution_count": 1,
   "metadata": {},
   "outputs": [
    {
     "name": "stderr",
     "output_type": "stream",
     "text": [
      "/home/rjackson/anaconda3/lib/python3.6/importlib/_bootstrap.py:219: RuntimeWarning: numpy.dtype size changed, may indicate binary incompatibility. Expected 96, got 88\n",
      "  return f(*args, **kwds)\n",
      "/home/rjackson/anaconda3/lib/python3.6/importlib/_bootstrap.py:219: RuntimeWarning: numpy.dtype size changed, may indicate binary incompatibility. Expected 96, got 88\n",
      "  return f(*args, **kwds)\n"
     ]
    },
    {
     "name": "stdout",
     "output_type": "stream",
     "text": [
      "Populating the interactive namespace from numpy and matplotlib\n"
     ]
    }
   ],
   "source": [
    "#import pyart\n",
    "#import cv2\n",
    "import xarray\n",
    "from scipy.ndimage import measurements\n",
    "%pylab inline\n",
    "import warnings\n",
    "warnings.filterwarnings(\"ignore\")"
   ]
  },
  {
   "cell_type": "code",
   "execution_count": null,
   "metadata": {},
   "outputs": [],
   "source": [
    "conv_strat_path = 'C://Users/rjackson/Documents/data/cpol_conv_strat200601200050.nc'\n",
    "cpol_grid_path = 'C://Users/rjackson/Documents/data/CPOL_GRID.20060120.005008.100km.nc'"
   ]
  },
  {
   "cell_type": "code",
   "execution_count": null,
   "metadata": {},
   "outputs": [],
   "source": [
    "cstrat_dset = xarray.open_dataset(conv_strat_path)\n",
    "cstrat_dset"
   ]
  },
  {
   "cell_type": "code",
   "execution_count": null,
   "metadata": {},
   "outputs": [],
   "source": [
    "cstrat_dset.strat_conv.plot()"
   ]
  },
  {
   "cell_type": "code",
   "execution_count": null,
   "metadata": {},
   "outputs": [],
   "source": [
    "conv_regions = np.ma.masked_where(cstrat_dset.strat_conv.values < 2, cstrat_dset.strat_conv.values)\n",
    "conv_regions[conv_regions.mask] = 0\n",
    "labels = measurements.label(conv_regions)\n",
    "print(labels[0].shape)\n",
    "plt.pcolormesh(labels[0])\n",
    "plt.colorbar()"
   ]
  },
  {
   "cell_type": "code",
   "execution_count": null,
   "metadata": {},
   "outputs": [],
   "source": [
    "areas = np.zeros(labels[0].max()-1)\n",
    "ones_array = np.ones(labels[0].shape)\n",
    "for i in range(1, labels[0].max()):\n",
    "    areas[i-1] = np.sum(ones_array[labels[0] == i])\n",
    "print(areas)"
   ]
  },
  {
   "cell_type": "code",
   "execution_count": null,
   "metadata": {},
   "outputs": [],
   "source": [
    "pyart_grid = pyart.io.read_grid(cpol_grid_path)\n",
    "z = pyart_grid.fields['corrected_reflectivity']['data']\n",
    "z_15km = z[2,:,:]\n",
    "pfs = z_15km\n",
    "pfs[z_15km < 15] = 0\n",
    "pfs[z_15km >= 15] = 10\n",
    "label_pfs = measurements.label(pfs) \n",
    "im = plt.pcolormesh(label_pfs[0], cmap='coolwarm')\n",
    "ellipse_list = []\n",
    "for the_labels in range(1, np.max(label_pfs[0])):\n",
    "    img = np.where(label_pfs[0] == the_labels, np.ones(label_pfs[0].shape, dtype='uint8'), \n",
    "                  np.zeros(label_pfs[0].shape, dtype='uint8'))\n",
    "    if(img.sum() > 30):\n",
    "        ret,thresh = cv2.threshold(img,0.9,1.1,0)\n",
    "        im2, contours,hierarchy = cv2.findContours(thresh, cv2.RETR_TREE,cv2.CHAIN_APPROX_SIMPLE)\n",
    "        cnt = contours[0]\n",
    "        ellipse = cv2.fitEllipse(cnt)\n",
    "        ellipse_list.append(ellipse)\n",
    "num_mcs = 0    \n",
    "for ell in ellipse_list:\n",
    "    cv2.ellipse(label_pfs[0],ell,(255,255,255),2)\n",
    "    if(ell[1][0] > 100 or ell[1][1] > 100):\n",
    "        num_mcs += 1\n",
    "print('# of MCSs:' + str(num_mcs))"
   ]
  },
  {
   "cell_type": "code",
   "execution_count": null,
   "metadata": {},
   "outputs": [],
   "source": [
    "print(ell[])"
   ]
  },
  {
   "cell_type": "code",
   "execution_count": 2,
   "metadata": {},
   "outputs": [
    {
     "data": {
      "text/plain": [
       "<xarray.Dataset>\n",
       "Dimensions:     (time: 201882)\n",
       "Coordinates:\n",
       "  * time        (time) datetime64[ns] 1998-12-06T06:30:02 ...\n",
       "Data variables:\n",
       "    mcs_count   (time) float64 dask.array<shape=(201882,), chunksize=(0,)>\n",
       "    dros_class  (time) float64 dask.array<shape=(201882,), chunksize=(0,)>\n",
       "    mjo_index   (time) float64 dask.array<shape=(201882,), chunksize=(0,)>\n",
       "Attributes:\n",
       "    long_name:  Number of MCSes identified."
      ]
     },
     "execution_count": 2,
     "metadata": {},
     "output_type": "execute_result"
    }
   ],
   "source": [
    "mcs_data_path = '/lcrc/group/earthscience/rjackson/data/mcs_count/*.nc'\n",
    "mcs_dataset = xarray.open_mfdataset(mcs_data_path)\n",
    "mcs_dataset"
   ]
  },
  {
   "cell_type": "code",
   "execution_count": 5,
   "metadata": {},
   "outputs": [
    {
     "name": "stdout",
     "output_type": "stream",
     "text": [
      "0.12324241910892766\n",
      "0.19086262553802008\n",
      "0.24963361016121152\n",
      "0.3638314176245211\n"
     ]
    }
   ],
   "source": [
    "dros_index = mcs_dataset.dros_class.values\n",
    "mcs_count = mcs_dataset.mcs_count.values\n",
    "mjo_index = mcs_dataset.mjo_index.values\n",
    "\n",
    "time = mcs_dataset.time\n",
    "dts = [dt64_to_dt(x) for x in time]\n",
    "hours = np.array([x.hour for x in dts])+9.5\n",
    "hours[hours >= 24] = hours[hours >= 24] - 24\n",
    "\n"
   ]
  },
  {
   "cell_type": "code",
   "execution_count": 4,
   "metadata": {},
   "outputs": [],
   "source": [
    "from datetime import datetime\n",
    "def dt64_to_dt(dt):\n",
    "    ts = (dt - np.datetime64('1970-01-01T00:00:00Z')) / np.timedelta64(1, 's')\n",
    "    return datetime.utcfromtimestamp(ts)"
   ]
  },
  {
   "cell_type": "code",
   "execution_count": 8,
   "metadata": {},
   "outputs": [
    {
     "name": "stdout",
     "output_type": "stream",
     "text": [
      "0.12897656082877487\n",
      "0.20930373165010036\n",
      "0.19789473684210526\n",
      "0.33498145859085293\n"
     ]
    }
   ],
   "source": [
    "day = np.logical_and(hours >= 6, hours <= 19)\n",
    "night = ~day\n",
    "break_no_mjo = np.where(np.logical_and.reduce((dros_index == 0, np.logical_or(mjo_index < 4, mjo_index == 8))))\n",
    "break_mjo = np.where(np.logical_and.reduce((dros_index == 0, ~np.logical_or(mjo_index < 4, mjo_index == 8))))                        \n",
    "monsoon_no_mjo = np.where(np.logical_and.reduce((dros_index == 1, np.logical_or(mjo_index < 4, mjo_index == 8))))\n",
    "monsoon_mjo = np.where(np.logical_and.reduce((dros_index == 1, ~np.logical_or(mjo_index < 4, mjo_index == 8))))                        \n",
    "print(np.sum(mcs_count[break_no_mjo])/len(break_no_mjo[0]))\n",
    "print(np.sum(mcs_count[break_mjo])/len(break_mjo[0]))\n",
    "print(np.sum(mcs_count[monsoon_no_mjo])/len(monsoon_no_mjo[0]))\n",
    "print(np.sum(mcs_count[monsoon_mjo])/len(monsoon_mjo[0]))\n"
   ]
  },
  {
   "cell_type": "code",
   "execution_count": null,
   "metadata": {},
   "outputs": [],
   "source": []
  }
 ],
 "metadata": {
  "kernelspec": {
   "display_name": "Python 3",
   "language": "python",
   "name": "python3"
  },
  "language_info": {
   "codemirror_mode": {
    "name": "ipython",
    "version": 3
   },
   "file_extension": ".py",
   "mimetype": "text/x-python",
   "name": "python",
   "nbconvert_exporter": "python",
   "pygments_lexer": "ipython3",
   "version": "3.6.3"
  }
 },
 "nbformat": 4,
 "nbformat_minor": 1
}
