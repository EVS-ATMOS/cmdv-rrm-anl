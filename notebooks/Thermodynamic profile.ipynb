{
 "cells": [
  {
   "cell_type": "markdown",
   "metadata": {},
   "source": [
    "# Thermodynamic profile"
   ]
  },
  {
   "cell_type": "code",
   "execution_count": 145,
   "metadata": {
    "collapsed": false
   },
   "outputs": [],
   "source": [
    "import numpy as np\n",
    "import numpy.ma as ma\n",
    "from netCDF4 import Dataset\n",
    "from datetime import datetime, timedelta\n",
    "import glob\n",
    "from copy import deepcopy\n",
    "import math\n",
    "from matplotlib import pyplot as plt\n",
    "from matplotlib import dates\n",
    "%matplotlib inline\n",
    "import metpy.calc as mpcalc\n",
    "from metpy.units import units"
   ]
  },
  {
   "cell_type": "code",
   "execution_count": 146,
   "metadata": {
    "collapsed": true
   },
   "outputs": [],
   "source": [
    "data_path_sounding = '/home/rjackson/data/soundings/'"
   ]
  },
  {
   "cell_type": "code",
   "execution_count": 147,
   "metadata": {
    "collapsed": true
   },
   "outputs": [],
   "source": [
    "# get_sounding_times\n",
    "#     start_year = Start year of animation\n",
    "#     start_month = Start month of animation\n",
    "#     start_day = Start day of animation\n",
    "#     start_hour = Start hour of animation\n",
    "#     end_year = End year of animation\n",
    "#     end_month = End month of animation\n",
    "#     end_day = End day of animation\n",
    "#     end_minute = End minute of animation\n",
    "#     minute_interval = Interval in minutes between scans (default is 5)\n",
    "# This procedure acquires an array of sounding times between start_time and end_time. \n",
    "# Only 23 UTC is loaded following Pope et al. (2008)\n",
    "def get_sounding_times(start_year, start_month, start_day,\n",
    "                       start_hour, start_minute, end_year,\n",
    "                       end_month, end_day, end_hour, \n",
    "                       end_minute, minute_interval=5):\n",
    "\n",
    "    start_time = datetime(start_year,\n",
    "                          start_month,\n",
    "                          start_day,\n",
    "                          start_hour,\n",
    "                          start_minute,\n",
    "                          )\n",
    "    end_time = datetime(end_year,\n",
    "                        end_month,\n",
    "                        end_day,\n",
    "                        end_hour,\n",
    "                        end_minute,\n",
    "                        )\n",
    "    deltatime = end_time - start_time\n",
    "\n",
    "    if(deltatime.seconds > 0 or deltatime.minutes > 0):\n",
    "        no_days = deltatime.days + 1\n",
    "    else:\n",
    "        no_days = deltatime.days\n",
    "    \n",
    "    if(start_day != end_day):\n",
    "        no_days = no_days + 1\n",
    "        \n",
    "    days = np.arange(0, no_days, 1)\n",
    "    print('We are about to load sounding files for ' + str(no_days) + ' days')\n",
    "    \n",
    "    # Find the list of files for each day\n",
    "    cur_time = start_time\n",
    "\n",
    "    file_list = []\n",
    "    time_list = []\n",
    "    for i in days:\n",
    "        year_str = \"%04d\" % cur_time.year\n",
    "        day_str = \"%02d\" % cur_time.day\n",
    "        month_str = \"%02d\" % cur_time.month\n",
    "        format_str = (data_path_sounding +\n",
    "                      'twpsondewnpnC3.b1.' +\n",
    "                      year_str +\n",
    "                      month_str +\n",
    "                      day_str +\n",
    "                      '*.23*'\n",
    "                     '*custom.cdf')\n",
    "    \n",
    "          \n",
    "        data_list = glob.glob(format_str)\n",
    "        if(i % 100 == 0):\n",
    "            print(i)\n",
    "        for j in range(0, len(data_list)):\n",
    "            file_list.append(data_list[j])\n",
    "        cur_time = cur_time + timedelta(days=1)\n",
    "        \n",
    "   \n",
    "    # Parse all of the dates and time in the interval and add them to the time list\n",
    "    past_time = []\n",
    "    for file_name in file_list:\n",
    "        date_str = file_name[-26:-11]  \n",
    "        year_str = date_str[0:4]\n",
    "        month_str = date_str[4:6]\n",
    "        day_str = date_str[6:8]\n",
    "        hour_str = date_str[9:11]\n",
    "        minute_str = date_str[11:13]\n",
    "        second_str = date_str[13:15]\n",
    "                \n",
    "        cur_time = datetime(int(year_str),\n",
    "                            int(month_str),\n",
    "                            int(day_str),\n",
    "                            int(hour_str),\n",
    "                            int(minute_str),\n",
    "                            int(second_str))\n",
    "        time_list.append(cur_time)\n",
    "    \n",
    "    # Sort time list and make sure time are at least xx min apart\n",
    "    time_list.sort()\n",
    "    time_list_sorted = deepcopy(time_list)\n",
    "   \n",
    "    time_list_final = []\n",
    "    past_time = []\n",
    "    \n",
    "    for times in time_list_sorted: \n",
    "        \n",
    "        cur_time = times  \n",
    "        \n",
    "        if(past_time == []):\n",
    "            past_time = cur_time\n",
    "            \n",
    "        if(cur_time - past_time >= timedelta(minutes=minute_interval)\n",
    "           and cur_time >= start_time and cur_time <= end_time):\n",
    "            \n",
    "            time_list_final.append(cur_time)\n",
    "            past_time = cur_time\n",
    "               \n",
    "    return time_list_final\n",
    "\n",
    "# Get a Radar object given a time period in the CPOL dataset\n",
    "def get_sounding(time):\n",
    "    year_str = \"%04d\" % time.year\n",
    "    month_str = \"%02d\" % time.month\n",
    "    day_str = \"%02d\" % time.day\n",
    "    hour_str = \"%02d\" % time.hour\n",
    "    minute_str = \"%02d\" % time.minute\n",
    "    second_str = \"%02d\" % time.second\n",
    "    file_name_str = (data_path_sounding +\n",
    "                     'twpsondewnpnC3.b1.' +\n",
    "                     year_str +\n",
    "                     month_str +\n",
    "                     day_str +\n",
    "                     '.' +\n",
    "                     hour_str +\n",
    "                     minute_str +\n",
    "                     second_str +\n",
    "                     '.custom.cdf')\n",
    "    sounding = Dataset(file_name_str, mode='r')\n",
    "    return sounding"
   ]
  },
  {
   "cell_type": "markdown",
   "metadata": {},
   "source": [
    "Load netCDF sounding data\n",
    "\n",
    "surface (assumed\n",
    "here to be 1013 hPa), 950, 925, 900, 850, 800, 750, 700,\n",
    "650, 600, 550, 500, 400, 300, 200, and 100 hPa (a total of\n",
    "16 levels)"
   ]
  },
  {
   "cell_type": "code",
   "execution_count": 148,
   "metadata": {
    "collapsed": true
   },
   "outputs": [],
   "source": [
    "def find_nearest(array,value):\n",
    "    idx = (np.abs(array-value)).argmin()\n",
    "    return idx"
   ]
  },
  {
   "cell_type": "markdown",
   "metadata": {},
   "source": [
    "Here is where we input the times and pressure levels to get sounding from."
   ]
  },
  {
   "cell_type": "code",
   "execution_count": 149,
   "metadata": {
    "collapsed": false,
    "scrolled": true
   },
   "outputs": [
    {
     "name": "stdout",
     "output_type": "stream",
     "text": [
      "We are about to load sounding files for 2923 days\n",
      "0\n",
      "100\n",
      "200\n",
      "300\n",
      "400\n",
      "500\n",
      "600\n",
      "700\n",
      "800\n",
      "900\n",
      "1000\n",
      "1100\n",
      "1200\n",
      "1300\n",
      "1400\n",
      "1500\n",
      "1600\n",
      "1700\n",
      "1800\n",
      "1900\n",
      "2000\n",
      "2100\n",
      "2200\n",
      "2300\n",
      "2400\n",
      "2500\n",
      "2600\n",
      "2700\n",
      "2800\n",
      "2900\n",
      "2781\n"
     ]
    }
   ],
   "source": [
    "start_year = 2003\n",
    "end_year = 2011\n",
    "\n",
    "sounding_times = get_sounding_times(start_year,1,1,0,1,\n",
    "                                    end_year,1,1,23,1)\n",
    "\n",
    "pres_levels = np.arange(1000, 100, -5) \n",
    "print(len(sounding_times))"
   ]
  },
  {
   "cell_type": "markdown",
   "metadata": {},
   "source": [
    "Loop over all of the soundings."
   ]
  },
  {
   "cell_type": "code",
   "execution_count": 150,
   "metadata": {
    "collapsed": false
   },
   "outputs": [
    {
     "name": "stderr",
     "output_type": "stream",
     "text": [
      "/home/rjackson/anaconda3/lib/python3.5/site-packages/ipykernel/__main__.py:55: RuntimeWarning: invalid value encountered in true_divide\n"
     ]
    },
    {
     "name": "stdout",
     "output_type": "stream",
     "text": [
      "2003-09-07 23:32:00\n",
      "2004-01-08 23:20:00\n",
      "2004-09-02 23:15:00\n",
      "2004-12-23 23:15:00\n",
      "2005-04-21 23:18:00\n",
      "2005-04-22 23:16:00\n",
      "2005-04-23 23:25:00\n",
      "2005-12-18 23:18:00\n",
      "2006-04-28 23:16:00\n",
      "2007-01-04 23:21:00\n",
      "2007-01-05 23:19:00\n",
      "2007-01-06 23:19:00\n",
      "2007-01-07 23:16:00\n",
      "2007-09-02 23:15:00\n",
      "2007-12-25 23:16:00\n",
      "2008-04-16 23:15:00\n",
      "2008-12-07 23:15:00\n",
      "2009-04-28 23:39:00\n",
      "2010-01-07 23:15:00\n",
      "2010-04-27 23:21:00\n",
      "2010-12-27 23:17:00\n",
      "12.643051771117166% of soundings masked\n"
     ]
    }
   ],
   "source": [
    "## Save soundings at 16 levels for later\n",
    "\n",
    "u_soundings = np.zeros((len(sounding_times),len(pres_levels)))\n",
    "v_soundings = np.zeros((len(sounding_times),len(pres_levels)))\n",
    "t_soundings = np.zeros((len(sounding_times),len(pres_levels)))\n",
    "z_soundings = np.zeros((len(sounding_times),len(pres_levels)))\n",
    "dp_soundings = np.zeros((len(sounding_times),len(pres_levels)))\n",
    "time_soundings = []\n",
    "pres_soundings = np.zeros((len(sounding_times),len(pres_levels)))\n",
    "rh_soundings = np.zeros((len(sounding_times),len(pres_levels)))\n",
    "dtdz_soundings = np.zeros((len(sounding_times),len(pres_levels)))\n",
    "count = 0\n",
    "no_masked = 0\n",
    "\n",
    "for time in sounding_times:\n",
    "    if(time.month <= 4 or time.month >= 9):\n",
    "        if(time.hour == 23):\n",
    "            pres_index = []\n",
    "            # Load sounding file\n",
    "            Sounding_netcdf = get_sounding(time)\n",
    "\n",
    "            # Convert timestamps to datetime format        \n",
    "            p = Sounding_netcdf.variables['pres'][:]\n",
    "            u = Sounding_netcdf.variables['u_wind'][:]\n",
    "            v = Sounding_netcdf.variables['v_wind'][:]\n",
    "            t = Sounding_netcdf.variables['tdry'][:]\n",
    "            z = Sounding_netcdf.variables['alt'][:]\n",
    "            dp = Sounding_netcdf.variables['dp'][:]\n",
    "            rh = Sounding_netcdf.variables['rh'][:]\n",
    "            theta = t*np.power(1000/p, 0.286)\n",
    "            # Take levels from the sounding and place them into the array\n",
    "            \n",
    "            for pres in pres_levels:\n",
    "                pres_index.append(find_nearest(p,pres))\n",
    "           \n",
    "            \n",
    "            # Check for availability of 16 pressure levels\n",
    "            good_sounding = 1\n",
    "            for i in range(0,len(pres_levels)-1):\n",
    "                if(p[pres_index[i]] < pres_levels[i]-20 or\n",
    "                    p[pres_index[i]] > pres_levels[i]+20):\n",
    "                    good_sounding = 0\n",
    "                if(abs(u[pres_index[i]]) > 75 or\n",
    "                   abs(v[pres_index[i]]) > 75):\n",
    "                    good_sounding = 0\n",
    "            \n",
    "            u = u[pres_index]\n",
    "            v = v[pres_index]\n",
    "            t = t[pres_index]\n",
    "            z = z[pres_index]\n",
    "            dp = dp[pres_index]\n",
    "            rh = rh[pres_index]\n",
    "            theta = theta[pres_index]\n",
    "            dtdz = np.zeros(rh.shape)\n",
    "            dtdz[1:] = (theta[1:]-theta[:-1])/(z[1:]-z[:-1])*1e3\n",
    "            dtdz[0] = float('nan')\n",
    "            for i in range(0,len(u)):\n",
    "                if(u[i] < -75 or v[i] < -75 or\n",
    "                   u[i] is np.ma.masked or\n",
    "                   v[i] is np.ma.masked or\n",
    "                   dp[i] is np.ma.masked or\n",
    "                   t[i] is np.ma.masked or\n",
    "                   dp[i] < -99):\n",
    "                    good_sounding = 0\n",
    "            \n",
    "            if(t[0] < 0):\n",
    "                t[:] = float('nan')\n",
    "                good_sounding = 0\n",
    "                \n",
    "            # If pressure levels are not available, mask the entire sounding\n",
    "            if(good_sounding == 0):\n",
    "                no_masked = no_masked + 1\n",
    "            else:    \n",
    "                u_soundings[count][:] = u\n",
    "                v_soundings[count][:] = v\n",
    "                t_soundings[count][:] = t\n",
    "                dp_soundings[count][:] = dp\n",
    "                z_soundings[count][:] = z\n",
    "                time_soundings.append(time)\n",
    "                pres_soundings[count][:] = pres_levels\n",
    "                rh_soundings[count][:] = rh\n",
    "                dtdz_soundings[count][:] = dtdz\n",
    "                count = count + 1   \n",
    "                \n",
    "    if(count % 100 == 0):\n",
    "        print(time)\n",
    "\n",
    "u_soundings = u_soundings[0:count-1][:]\n",
    "v_soundings = v_soundings[0:count-1][:]\n",
    "t_soundings = t_soundings[0:count-1][:]\n",
    "dp_soundings = dp_soundings[0:count-1][:]\n",
    "z_soundings = z_soundings[0:count-1][:]\n",
    "pres_soundings = pres_soundings[0:count-1][:]\n",
    "rh_soundings = rh_soundings[0:count-1][:]\n",
    "dtdz_soundings = dtdz_soundings[0:count-1][:]\n",
    "print(str((no_masked/(count+no_masked)*100)) + '% of soundings masked')"
   ]
  },
  {
   "cell_type": "code",
   "execution_count": 155,
   "metadata": {
    "collapsed": false
   },
   "outputs": [
    {
     "name": "stdout",
     "output_type": "stream",
     "text": [
      "[-25 -24 -23 -22 -21 -20 -19 -18 -17 -16 -15 -14 -13 -12 -11 -10  -9  -8\n",
      "  -7  -6  -5  -4  -3  -2  -1   0   1   2   3   4   5   6   7   8   9  10\n",
      "  11  12  13  14  15  16  17  18  19  20  21  22  23  24]\n",
      "(1602, 180)\n"
     ]
    },
    {
     "name": "stderr",
     "output_type": "stream",
     "text": [
      "/home/rjackson/anaconda3/lib/python3.5/site-packages/ipykernel/__main__.py:9: RuntimeWarning: invalid value encountered in true_divide\n"
     ]
    },
    {
     "data": {
      "text/plain": [
       "<matplotlib.colorbar.Colorbar at 0x7f98d0848710>"
      ]
     },
     "execution_count": 155,
     "metadata": {},
     "output_type": "execute_result"
    },
    {
     "data": {
      "image/png": "[encoded data removed]",
      "text/plain": [
       "<matplotlib.figure.Figure at 0x7f98d0935ac8>"
      ]
     },
     "metadata": {},
     "output_type": "display_data"
    }
   ],
   "source": [
    "dtdz_bins = np.arange(-25,25,1)\n",
    "dtdz_hist = np.zeros((len(pres_levels), len(dtdz_bins)-1))\n",
    "print(dtdz_bins)\n",
    "print(dtdz_soundings.shape)\n",
    "for i in range(len(pres_levels)):\n",
    "    array = dtdz_soundings[:,i]\n",
    "    array = array[np.isfinite(array)]\n",
    "    hist, bins = np.histogram(array, bins=dtdz_bins)\n",
    "    dtdz_hist[i,:] = hist/np.sum(hist)*100\n",
    "\n",
    "X,Y = np.meshgrid(dtdz_bins[:-1], z_soundings[1])\n",
    "plt.contourf(X, Y, dtdz_hist)\n",
    "plt.xlabel('dTheta/dZ [K km-1]')\n",
    "plt.ylabel('Pressure [hPa]')\n",
    "plt.colorbar()\n"
   ]
  },
  {
   "cell_type": "markdown",
   "metadata": {},
   "source": [
    "## Time-height sections\n",
    "\n",
    "Plot dT/dz"
   ]
  },
  {
   "cell_type": "code",
   "execution_count": 152,
   "metadata": {
    "collapsed": false
   },
   "outputs": [
    {
     "name": "stdout",
     "output_type": "stream",
     "text": [
      "[[         nan          nan          nan ...,          nan          nan\n",
      "           nan]\n",
      " [         nan -10.46648884  -6.99826288 ..., -23.80912971 -23.01782227\n",
      "  -25.63617897]\n",
      " [         nan  -6.72502518  -9.47255516 ..., -23.48998833 -19.84780884\n",
      "  -23.91675949]\n",
      " ..., \n",
      " [         nan -14.29711151  -8.3967247  ..., -14.57930565 -21.36631393\n",
      "  -18.85065079]\n",
      " [         nan   0.80856013   0.80521899 ..., -20.14596939 -17.89255333\n",
      "  -14.88517952]\n",
      " [         nan -16.75544167 -13.43847847 ..., -21.47901726 -14.27643681\n",
      "  -15.78693295]]\n"
     ]
    },
    {
     "data": {
      "image/png": "[encoded data removed]",
      "text/plain": [
       "<matplotlib.figure.Figure at 0x7f98d1834278>"
      ]
     },
     "metadata": {},
     "output_type": "display_data"
    }
   ],
   "source": [
    "# Input start and end times\n",
    "start_year = 2005\n",
    "start_month = 1\n",
    "start_day = 1\n",
    "\n",
    "start_time = datetime(year=start_year, \n",
    "                      month=start_month, \n",
    "                      day=start_day)\n",
    "end_year = 2005\n",
    "end_month = 2\n",
    "end_day = 1\n",
    "\n",
    "end_time = datetime(year=end_year, \n",
    "                    month=end_month, \n",
    "                    day=end_day)\n",
    "\n",
    "indicies = []\n",
    "datenums = []\n",
    "i = 0\n",
    "for times in time_soundings:\n",
    "    if(times >= start_time and times <= end_time):\n",
    "        indicies.append(i)\n",
    "        datenums.append(dates.date2num(times))\n",
    "                        \n",
    "    i = i + 1\n",
    "    \n",
    "datelocs = [datetime.strptime('2006-01-01', \"%Y-%m-%d\"),\n",
    "            datetime.strptime('2006-01-15', \"%Y-%m-%d\"),\n",
    "            datetime.strptime('2006-02-01', \"%Y-%m-%d\"),\n",
    "            datetime.strptime('2006-02-15', \"%Y-%m-%d\")]\n",
    "\n",
    "x = dates.date2num(datelocs)\n",
    "plt.figure(figsize=(5,5))\n",
    "\n",
    "X,Y = np.meshgrid(pres_levels, datenums)\n",
    "Z = dtdz_soundings[indicies][:]\n",
    "Z[:][0] = float('nan')\n",
    "CS = plt.contourf(Y, X, Z)\n",
    "\n",
    "plt.clabel(CS, inline=1, fontsize=10)\n",
    "plt.title('dT/dz [K/km]')\n",
    "#plt.gca().set_xticks(x)\n",
    "plt.colorbar()\n",
    "# Set the xtick labels to correspond to just the dates you entered.\n",
    "#plt.gca().set_xticklabels([date.strftime(\"%Y-%m-%d\") for date in datelocs])\n",
    "plt.gca().invert_yaxis()\n",
    "print(Z)"
   ]
  },
  {
   "cell_type": "markdown",
   "metadata": {},
   "source": [
    "## Write classification from 2003 to 2015 to netCDF file"
   ]
  }
 ],
 "metadata": {
  "anaconda-cloud": {},
  "kernelspec": {
   "display_name": "Python [default]",
   "language": "python",
   "name": "python3"
  },
  "language_info": {
   "codemirror_mode": {
    "name": "ipython",
    "version": 3
   },
   "file_extension": ".py",
   "mimetype": "text/x-python",
   "name": "python",
   "nbconvert_exporter": "python",
   "pygments_lexer": "ipython3",
   "version": "3.5.2"
  }
 },
 "nbformat": 4,
 "nbformat_minor": 1
}
